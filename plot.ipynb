{
 "cells": [
  {
   "cell_type": "code",
   "execution_count": 128,
   "metadata": {},
   "outputs": [],
   "source": [
    "import plotly.express as px\n",
    "import pandas as pd\n",
    "import numpy as np\n",
    "from sklearn.decomposition import PCA\n",
    "from sklearn.manifold import TSNE\n",
    "from umap import UMAP\n",
    "import pickle\n",
    "from valorant import *\n",
    "import plotly.graph_objects as go"
   ]
  },
  {
   "cell_type": "code",
   "execution_count": 129,
   "metadata": {},
   "outputs": [],
   "source": [
    "def get_region(team):\n",
    "    if team in emea:\n",
    "        return \"EMEA\"\n",
    "    elif team in amer:\n",
    "        return \"AMERICAS\"\n",
    "    elif team in apac:\n",
    "        return \"PACIFIC\"\n",
    "    else:\n",
    "        return \"OTHER\"\n"
   ]
  },
  {
   "cell_type": "code",
   "execution_count": 130,
   "metadata": {},
   "outputs": [],
   "source": [
    "span = \"90d\"\n",
    "with open(f\"data/data-{span}.pkl\", \"rb\") as f:\n",
    "    data = pickle.load(f)"
   ]
  },
  {
   "cell_type": "code",
   "execution_count": 131,
   "metadata": {},
   "outputs": [],
   "source": [
    "df = []\n",
    "for i in data.values():\n",
    "    columns = {\"name\": i[\"name\"], \"team\": i[\"team\"], \"rating\": i[\"rating\"]}\n",
    "    for agent in agent_roles.keys():\n",
    "        if agent in i[\"stats\"].index:\n",
    "            columns[agent] = i[\"stats\"].loc[agent, \"Usage count\"]\n",
    "        else:\n",
    "            columns[agent] = 0\n",
    "    df.append(columns)\n",
    "df = pd.DataFrame(df)\n",
    "df[\"region\"] = df[\"team\"].apply(lambda x: get_region(x))\n",
    "df = df[df[\"region\"] != \"OTHER\"]"
   ]
  },
  {
   "cell_type": "code",
   "execution_count": 132,
   "metadata": {},
   "outputs": [
    {
     "data": {
      "application/vnd.plotly.v1+json": {
       "config": {
        "plotlyServerURL": "https://plot.ly"
       },
       "data": [
        {
         "hovertemplate": "color=controller<br>x=%{x}<br>y=%{y}<br>size=%{marker.size}<br>text=%{text}<extra></extra>",
         "legendgroup": "controller",
         "marker": {
          "color": "#636efa",
          "size": [
           128,
           338,
           326,
           148,
           114
          ],
          "sizemode": "area",
          "sizeref": 0.13305555555555557,
          "symbol": "circle"
         },
         "mode": "markers+text",
         "name": "controller",
         "orientation": "v",
         "showlegend": true,
         "text": [
          "brimstone",
          "viper",
          "omen",
          "astra",
          "harbor"
         ],
         "type": "scatter",
         "x": [
          8.914143562316895,
          5.6167378425598145,
          9.155301094055176,
          8.641342163085938,
          8.834711074829102
         ],
         "xaxis": "x",
         "y": [
          2.8598899841308594,
          0.4361661374568939,
          2.4524946212768555,
          2.539827823638916,
          2.159069776535034
         ],
         "yaxis": "y"
        },
        {
         "hovertemplate": "color=sentinel<br>x=%{x}<br>y=%{y}<br>size=%{marker.size}<br>text=%{text}<extra></extra>",
         "legendgroup": "sentinel",
         "marker": {
          "color": "#EF553B",
          "size": [
           479,
           83,
           38,
           15
          ],
          "sizemode": "area",
          "sizeref": 0.13305555555555557,
          "symbol": "circle"
         },
         "mode": "markers+text",
         "name": "sentinel",
         "orientation": "v",
         "showlegend": true,
         "text": [
          "killjoy",
          "cypher",
          "sage",
          "chamber"
         ],
         "type": "scatter",
         "x": [
          5.2020792961120605,
          4.924490451812744,
          5.276988506317139,
          4.812343597412109
         ],
         "xaxis": "x",
         "y": [
          0.34471139311790466,
          0.6103808283805847,
          1.7763159275054932,
          1.4938523769378662
         ],
         "yaxis": "y"
        },
        {
         "hovertemplate": "color=initiator<br>x=%{x}<br>y=%{y}<br>size=%{marker.size}<br>text=%{text}<extra></extra>",
         "legendgroup": "initiator",
         "marker": {
          "color": "#00cc96",
          "size": [
           197,
           208,
           368,
           163,
           87,
           29
          ],
          "sizemode": "area",
          "sizeref": 0.13305555555555557,
          "symbol": "circle"
         },
         "mode": "markers+text",
         "name": "initiator",
         "orientation": "v",
         "showlegend": true,
         "text": [
          "sova",
          "breach",
          "skye",
          "kayo",
          "fade",
          "gekko"
         ],
         "type": "scatter",
         "x": [
          5.1767897605896,
          5.498245716094971,
          5.1793413162231445,
          4.936563491821289,
          5.618997573852539,
          4.664538383483887
         ],
         "xaxis": "x",
         "y": [
          3.8035097122192383,
          2.8499157428741455,
          3.456172466278076,
          2.3603665828704834,
          3.595330238342285,
          2.7835159301757812
         ],
         "yaxis": "y"
        },
        {
         "hovertemplate": "color=duelist<br>x=%{x}<br>y=%{y}<br>size=%{marker.size}<br>text=%{text}<extra></extra>",
         "legendgroup": "duelist",
         "marker": {
          "color": "#ab63fa",
          "size": [
           9,
           439,
           9,
           307,
           11,
           50
          ],
          "sizemode": "area",
          "sizeref": 0.13305555555555557,
          "symbol": "circle"
         },
         "mode": "markers+text",
         "name": "duelist",
         "orientation": "v",
         "showlegend": true,
         "text": [
          "phoenix",
          "jett",
          "reyna",
          "raze",
          "yoru",
          "neon"
         ],
         "type": "scatter",
         "x": [
          6.062532424926758,
          7.099233627319336,
          7.055690765380859,
          6.70565938949585,
          6.5230231285095215,
          7.0214385986328125
         ],
         "xaxis": "x",
         "y": [
          1.285887598991394,
          1.407731294631958,
          2.3372843265533447,
          1.2154862880706787,
          0.5707337856292725,
          0.8249732255935669
         ],
         "yaxis": "y"
        }
       ],
       "layout": {
        "coloraxis": {
         "colorbar": {
          "title": {
           "text": "Usage count"
          },
          "x": 1.1
         }
        },
        "height": 700,
        "legend": {
         "itemsizing": "constant",
         "orientation": "h",
         "title": {
          "text": "Role"
         },
         "tracegroupgap": 0,
         "x": 0,
         "xanchor": "left",
         "y": 0,
         "yanchor": "bottom"
        },
        "margin": {
         "b": 10,
         "l": 10,
         "r": 10,
         "t": 30
        },
        "template": {
         "data": {
          "bar": [
           {
            "error_x": {
             "color": "#2a3f5f"
            },
            "error_y": {
             "color": "#2a3f5f"
            },
            "marker": {
             "line": {
              "color": "#E5ECF6",
              "width": 0.5
             },
             "pattern": {
              "fillmode": "overlay",
              "size": 10,
              "solidity": 0.2
             }
            },
            "type": "bar"
           }
          ],
          "barpolar": [
           {
            "marker": {
             "line": {
              "color": "#E5ECF6",
              "width": 0.5
             },
             "pattern": {
              "fillmode": "overlay",
              "size": 10,
              "solidity": 0.2
             }
            },
            "type": "barpolar"
           }
          ],
          "carpet": [
           {
            "aaxis": {
             "endlinecolor": "#2a3f5f",
             "gridcolor": "white",
             "linecolor": "white",
             "minorgridcolor": "white",
             "startlinecolor": "#2a3f5f"
            },
            "baxis": {
             "endlinecolor": "#2a3f5f",
             "gridcolor": "white",
             "linecolor": "white",
             "minorgridcolor": "white",
             "startlinecolor": "#2a3f5f"
            },
            "type": "carpet"
           }
          ],
          "choropleth": [
           {
            "colorbar": {
             "outlinewidth": 0,
             "ticks": ""
            },
            "type": "choropleth"
           }
          ],
          "contour": [
           {
            "colorbar": {
             "outlinewidth": 0,
             "ticks": ""
            },
            "colorscale": [
             [
              0,
              "#0d0887"
             ],
             [
              0.1111111111111111,
              "#46039f"
             ],
             [
              0.2222222222222222,
              "#7201a8"
             ],
             [
              0.3333333333333333,
              "#9c179e"
             ],
             [
              0.4444444444444444,
              "#bd3786"
             ],
             [
              0.5555555555555556,
              "#d8576b"
             ],
             [
              0.6666666666666666,
              "#ed7953"
             ],
             [
              0.7777777777777778,
              "#fb9f3a"
             ],
             [
              0.8888888888888888,
              "#fdca26"
             ],
             [
              1,
              "#f0f921"
             ]
            ],
            "type": "contour"
           }
          ],
          "contourcarpet": [
           {
            "colorbar": {
             "outlinewidth": 0,
             "ticks": ""
            },
            "type": "contourcarpet"
           }
          ],
          "heatmap": [
           {
            "colorbar": {
             "outlinewidth": 0,
             "ticks": ""
            },
            "colorscale": [
             [
              0,
              "#0d0887"
             ],
             [
              0.1111111111111111,
              "#46039f"
             ],
             [
              0.2222222222222222,
              "#7201a8"
             ],
             [
              0.3333333333333333,
              "#9c179e"
             ],
             [
              0.4444444444444444,
              "#bd3786"
             ],
             [
              0.5555555555555556,
              "#d8576b"
             ],
             [
              0.6666666666666666,
              "#ed7953"
             ],
             [
              0.7777777777777778,
              "#fb9f3a"
             ],
             [
              0.8888888888888888,
              "#fdca26"
             ],
             [
              1,
              "#f0f921"
             ]
            ],
            "type": "heatmap"
           }
          ],
          "heatmapgl": [
           {
            "colorbar": {
             "outlinewidth": 0,
             "ticks": ""
            },
            "colorscale": [
             [
              0,
              "#0d0887"
             ],
             [
              0.1111111111111111,
              "#46039f"
             ],
             [
              0.2222222222222222,
              "#7201a8"
             ],
             [
              0.3333333333333333,
              "#9c179e"
             ],
             [
              0.4444444444444444,
              "#bd3786"
             ],
             [
              0.5555555555555556,
              "#d8576b"
             ],
             [
              0.6666666666666666,
              "#ed7953"
             ],
             [
              0.7777777777777778,
              "#fb9f3a"
             ],
             [
              0.8888888888888888,
              "#fdca26"
             ],
             [
              1,
              "#f0f921"
             ]
            ],
            "type": "heatmapgl"
           }
          ],
          "histogram": [
           {
            "marker": {
             "pattern": {
              "fillmode": "overlay",
              "size": 10,
              "solidity": 0.2
             }
            },
            "type": "histogram"
           }
          ],
          "histogram2d": [
           {
            "colorbar": {
             "outlinewidth": 0,
             "ticks": ""
            },
            "colorscale": [
             [
              0,
              "#0d0887"
             ],
             [
              0.1111111111111111,
              "#46039f"
             ],
             [
              0.2222222222222222,
              "#7201a8"
             ],
             [
              0.3333333333333333,
              "#9c179e"
             ],
             [
              0.4444444444444444,
              "#bd3786"
             ],
             [
              0.5555555555555556,
              "#d8576b"
             ],
             [
              0.6666666666666666,
              "#ed7953"
             ],
             [
              0.7777777777777778,
              "#fb9f3a"
             ],
             [
              0.8888888888888888,
              "#fdca26"
             ],
             [
              1,
              "#f0f921"
             ]
            ],
            "type": "histogram2d"
           }
          ],
          "histogram2dcontour": [
           {
            "colorbar": {
             "outlinewidth": 0,
             "ticks": ""
            },
            "colorscale": [
             [
              0,
              "#0d0887"
             ],
             [
              0.1111111111111111,
              "#46039f"
             ],
             [
              0.2222222222222222,
              "#7201a8"
             ],
             [
              0.3333333333333333,
              "#9c179e"
             ],
             [
              0.4444444444444444,
              "#bd3786"
             ],
             [
              0.5555555555555556,
              "#d8576b"
             ],
             [
              0.6666666666666666,
              "#ed7953"
             ],
             [
              0.7777777777777778,
              "#fb9f3a"
             ],
             [
              0.8888888888888888,
              "#fdca26"
             ],
             [
              1,
              "#f0f921"
             ]
            ],
            "type": "histogram2dcontour"
           }
          ],
          "mesh3d": [
           {
            "colorbar": {
             "outlinewidth": 0,
             "ticks": ""
            },
            "type": "mesh3d"
           }
          ],
          "parcoords": [
           {
            "line": {
             "colorbar": {
              "outlinewidth": 0,
              "ticks": ""
             }
            },
            "type": "parcoords"
           }
          ],
          "pie": [
           {
            "automargin": true,
            "type": "pie"
           }
          ],
          "scatter": [
           {
            "fillpattern": {
             "fillmode": "overlay",
             "size": 10,
             "solidity": 0.2
            },
            "type": "scatter"
           }
          ],
          "scatter3d": [
           {
            "line": {
             "colorbar": {
              "outlinewidth": 0,
              "ticks": ""
             }
            },
            "marker": {
             "colorbar": {
              "outlinewidth": 0,
              "ticks": ""
             }
            },
            "type": "scatter3d"
           }
          ],
          "scattercarpet": [
           {
            "marker": {
             "colorbar": {
              "outlinewidth": 0,
              "ticks": ""
             }
            },
            "type": "scattercarpet"
           }
          ],
          "scattergeo": [
           {
            "marker": {
             "colorbar": {
              "outlinewidth": 0,
              "ticks": ""
             }
            },
            "type": "scattergeo"
           }
          ],
          "scattergl": [
           {
            "marker": {
             "colorbar": {
              "outlinewidth": 0,
              "ticks": ""
             }
            },
            "type": "scattergl"
           }
          ],
          "scattermapbox": [
           {
            "marker": {
             "colorbar": {
              "outlinewidth": 0,
              "ticks": ""
             }
            },
            "type": "scattermapbox"
           }
          ],
          "scatterpolar": [
           {
            "marker": {
             "colorbar": {
              "outlinewidth": 0,
              "ticks": ""
             }
            },
            "type": "scatterpolar"
           }
          ],
          "scatterpolargl": [
           {
            "marker": {
             "colorbar": {
              "outlinewidth": 0,
              "ticks": ""
             }
            },
            "type": "scatterpolargl"
           }
          ],
          "scatterternary": [
           {
            "marker": {
             "colorbar": {
              "outlinewidth": 0,
              "ticks": ""
             }
            },
            "type": "scatterternary"
           }
          ],
          "surface": [
           {
            "colorbar": {
             "outlinewidth": 0,
             "ticks": ""
            },
            "colorscale": [
             [
              0,
              "#0d0887"
             ],
             [
              0.1111111111111111,
              "#46039f"
             ],
             [
              0.2222222222222222,
              "#7201a8"
             ],
             [
              0.3333333333333333,
              "#9c179e"
             ],
             [
              0.4444444444444444,
              "#bd3786"
             ],
             [
              0.5555555555555556,
              "#d8576b"
             ],
             [
              0.6666666666666666,
              "#ed7953"
             ],
             [
              0.7777777777777778,
              "#fb9f3a"
             ],
             [
              0.8888888888888888,
              "#fdca26"
             ],
             [
              1,
              "#f0f921"
             ]
            ],
            "type": "surface"
           }
          ],
          "table": [
           {
            "cells": {
             "fill": {
              "color": "#EBF0F8"
             },
             "line": {
              "color": "white"
             }
            },
            "header": {
             "fill": {
              "color": "#C8D4E3"
             },
             "line": {
              "color": "white"
             }
            },
            "type": "table"
           }
          ]
         },
         "layout": {
          "annotationdefaults": {
           "arrowcolor": "#2a3f5f",
           "arrowhead": 0,
           "arrowwidth": 1
          },
          "autotypenumbers": "strict",
          "coloraxis": {
           "colorbar": {
            "outlinewidth": 0,
            "ticks": ""
           }
          },
          "colorscale": {
           "diverging": [
            [
             0,
             "#8e0152"
            ],
            [
             0.1,
             "#c51b7d"
            ],
            [
             0.2,
             "#de77ae"
            ],
            [
             0.3,
             "#f1b6da"
            ],
            [
             0.4,
             "#fde0ef"
            ],
            [
             0.5,
             "#f7f7f7"
            ],
            [
             0.6,
             "#e6f5d0"
            ],
            [
             0.7,
             "#b8e186"
            ],
            [
             0.8,
             "#7fbc41"
            ],
            [
             0.9,
             "#4d9221"
            ],
            [
             1,
             "#276419"
            ]
           ],
           "sequential": [
            [
             0,
             "#0d0887"
            ],
            [
             0.1111111111111111,
             "#46039f"
            ],
            [
             0.2222222222222222,
             "#7201a8"
            ],
            [
             0.3333333333333333,
             "#9c179e"
            ],
            [
             0.4444444444444444,
             "#bd3786"
            ],
            [
             0.5555555555555556,
             "#d8576b"
            ],
            [
             0.6666666666666666,
             "#ed7953"
            ],
            [
             0.7777777777777778,
             "#fb9f3a"
            ],
            [
             0.8888888888888888,
             "#fdca26"
            ],
            [
             1,
             "#f0f921"
            ]
           ],
           "sequentialminus": [
            [
             0,
             "#0d0887"
            ],
            [
             0.1111111111111111,
             "#46039f"
            ],
            [
             0.2222222222222222,
             "#7201a8"
            ],
            [
             0.3333333333333333,
             "#9c179e"
            ],
            [
             0.4444444444444444,
             "#bd3786"
            ],
            [
             0.5555555555555556,
             "#d8576b"
            ],
            [
             0.6666666666666666,
             "#ed7953"
            ],
            [
             0.7777777777777778,
             "#fb9f3a"
            ],
            [
             0.8888888888888888,
             "#fdca26"
            ],
            [
             1,
             "#f0f921"
            ]
           ]
          },
          "colorway": [
           "#636efa",
           "#EF553B",
           "#00cc96",
           "#ab63fa",
           "#FFA15A",
           "#19d3f3",
           "#FF6692",
           "#B6E880",
           "#FF97FF",
           "#FECB52"
          ],
          "font": {
           "color": "#2a3f5f"
          },
          "geo": {
           "bgcolor": "white",
           "lakecolor": "white",
           "landcolor": "#E5ECF6",
           "showlakes": true,
           "showland": true,
           "subunitcolor": "white"
          },
          "hoverlabel": {
           "align": "left"
          },
          "hovermode": "closest",
          "mapbox": {
           "style": "light"
          },
          "paper_bgcolor": "white",
          "plot_bgcolor": "#E5ECF6",
          "polar": {
           "angularaxis": {
            "gridcolor": "white",
            "linecolor": "white",
            "ticks": ""
           },
           "bgcolor": "#E5ECF6",
           "radialaxis": {
            "gridcolor": "white",
            "linecolor": "white",
            "ticks": ""
           }
          },
          "scene": {
           "xaxis": {
            "backgroundcolor": "#E5ECF6",
            "gridcolor": "white",
            "gridwidth": 2,
            "linecolor": "white",
            "showbackground": true,
            "ticks": "",
            "zerolinecolor": "white"
           },
           "yaxis": {
            "backgroundcolor": "#E5ECF6",
            "gridcolor": "white",
            "gridwidth": 2,
            "linecolor": "white",
            "showbackground": true,
            "ticks": "",
            "zerolinecolor": "white"
           },
           "zaxis": {
            "backgroundcolor": "#E5ECF6",
            "gridcolor": "white",
            "gridwidth": 2,
            "linecolor": "white",
            "showbackground": true,
            "ticks": "",
            "zerolinecolor": "white"
           }
          },
          "shapedefaults": {
           "line": {
            "color": "#2a3f5f"
           }
          },
          "ternary": {
           "aaxis": {
            "gridcolor": "white",
            "linecolor": "white",
            "ticks": ""
           },
           "baxis": {
            "gridcolor": "white",
            "linecolor": "white",
            "ticks": ""
           },
           "bgcolor": "#E5ECF6",
           "caxis": {
            "gridcolor": "white",
            "linecolor": "white",
            "ticks": ""
           }
          },
          "title": {
           "x": 0.05
          },
          "xaxis": {
           "automargin": true,
           "gridcolor": "white",
           "linecolor": "white",
           "ticks": "",
           "title": {
            "standoff": 15
           },
           "zerolinecolor": "white",
           "zerolinewidth": 2
          },
          "yaxis": {
           "automargin": true,
           "gridcolor": "white",
           "linecolor": "white",
           "ticks": "",
           "title": {
            "standoff": 15
           },
           "zerolinecolor": "white",
           "zerolinewidth": 2
          }
         }
        },
        "title": {
         "text": "UMAP plot of agent usage, span=90d"
        },
        "width": 700,
        "xaxis": {
         "anchor": "y",
         "domain": [
          0,
          1
         ],
         "title": {
          "text": "Feature 1"
         }
        },
        "yaxis": {
         "anchor": "x",
         "domain": [
          0,
          1
         ],
         "title": {
          "text": "Feature 2"
         }
        }
       }
      }
     },
     "metadata": {},
     "output_type": "display_data"
    }
   ],
   "source": [
    "tsne = UMAP(n_neighbors=5, min_dist=0.1, metric=\"correlation\", random_state=42)\n",
    "agents = df[agent_roles.keys()].T.values\n",
    "X = tsne.fit_transform(agents / agents.sum(axis=0))\n",
    "fig = px.scatter(\n",
    "    x=X[:, 0],\n",
    "    y=X[:, 1],\n",
    "    text=agent_roles.keys(),\n",
    "    # symbol=agent_roles.values(),\n",
    "    color=agent_roles.values(),\n",
    "    size_max=60,\n",
    "    size=agents.sum(axis=1),\n",
    "    width=700,\n",
    "    height=700,\n",
    ")\n",
    "fig.update_layout(\n",
    "    coloraxis_colorbar=dict(x=1.1, title=\"Usage count\"),\n",
    "    legend=dict(orientation=\"h\", yanchor=\"bottom\", y=0, xanchor=\"left\", x=0, title=\"Role\"),\n",
    "    margin=dict(l=10, r=10, b=10, t=30),\n",
    "    title=f\"UMAP plot of agent usage, span={span}\",\n",
    "    xaxis_title=\"Feature 1\",\n",
    "    yaxis_title=\"Feature 2\",\n",
    ")\n",
    "fig.write_html(f\"figs/agents-{span}.html\")\n",
    "fig.write_image(f\"figs/agents-{span}.png\", scale=2)\n",
    "fig.show()"
   ]
  },
  {
   "cell_type": "code",
   "execution_count": 133,
   "metadata": {},
   "outputs": [],
   "source": [
    "def get_annotation(row):\n",
    "    annotation = f\"<b>{row['name']}</b><br>Team: {row['team']}<br>Rating: {row['rating']:.2f}<br><br>\"\n",
    "    maps_played = row[agent_roles.keys()].sum()\n",
    "    for agent, pickrate in row[agent_roles.keys()].sort_values(ascending=False).to_dict().items():\n",
    "        if pickrate:\n",
    "            annotation += f\"{agent}: {pickrate/maps_played:.2f}<br>\"\n",
    "    return annotation"
   ]
  },
  {
   "cell_type": "code",
   "execution_count": 134,
   "metadata": {},
   "outputs": [
    {
     "data": {
      "application/vnd.plotly.v1+json": {
       "config": {
        "plotlyServerURL": "https://plot.ly"
       },
       "data": [
        {
         "customdata": [
          [
           "<b>leo</b><br>Team: FNC<br>Rating: 1.23<br><br>fade: 0.45<br>skye: 0.34<br>sova: 0.21<br>"
          ],
          [
           "<b>soulcas</b><br>Team: TL<br>Rating: 1.02<br><br>fade: 0.41<br>kayo: 0.22<br>skye: 0.16<br>sage: 0.12<br>viper: 0.06<br>omen: 0.03<br>"
          ]
         ],
         "hovertemplate": "%{customdata}",
         "hovertext": [
          "leo",
          "soulcas"
         ],
         "legendgroup": "fade",
         "marker": {
          "color": "#636efa",
          "opacity": 0.8,
          "size": 12,
          "symbol": "circle"
         },
         "mode": "markers+text",
         "name": "fade",
         "orientation": "v",
         "showlegend": true,
         "text": [
          "leo",
          "soulcas"
         ],
         "textposition": "top center",
         "type": "scatter",
         "x": [
          -3.460887908935547,
          -2.1162729263305664
         ],
         "xaxis": "x",
         "y": [
          -2.8485727310180664,
          -2.319838523864746
         ],
         "yaxis": "y"
        },
        {
         "customdata": [
          [
           "<b>something</b><br>Team: PRX<br>Rating: 1.25<br><br>jett: 0.56<br>reyna: 0.22<br>breach: 0.22<br>"
          ],
          [
           "<b>aspas</b><br>Team: LOUD<br>Rating: 1.16<br><br>jett: 0.71<br>neon: 0.21<br>raze: 0.08<br>"
          ],
          [
           "<b>sayf</b><br>Team: TL<br>Rating: 1.10<br><br>jett: 0.50<br>raze: 0.43<br>killjoy: 0.03<br>breach: 0.03<br>"
          ],
          [
           "<b>leaf</b><br>Team: C9<br>Rating: 1.06<br><br>jett: 0.47<br>skye: 0.23<br>neon: 0.20<br>raze: 0.07<br>killjoy: 0.03<br>"
          ],
          [
           "<b>keznit</b><br>Team: KRÜ<br>Rating: 1.16<br><br>jett: 0.64<br>raze: 0.36<br>"
          ],
          [
           "<b>demon1</b><br>Team: EG<br>Rating: 1.09<br><br>jett: 0.74<br>brimstone: 0.21<br>killjoy: 0.02<br>chamber: 0.02<br>"
          ],
          [
           "<b>sayaplayer</b><br>Team: T1<br>Rating: 1.09<br><br>jett: 0.52<br>raze: 0.48<br>"
          ],
          [
           "<b>cned</b><br>Team: NAVI<br>Rating: 0.99<br><br>jett: 0.46<br>yoru: 0.23<br>raze: 0.15<br>neon: 0.08<br>killjoy: 0.04<br>sage: 0.04<br>"
          ],
          [
           "<b>cryocells</b><br>Team: 100T<br>Rating: 1.13<br><br>jett: 0.69<br>sage: 0.12<br>chamber: 0.12<br>omen: 0.06<br>"
          ],
          [
           "<b>qw1</b><br>Team: FUT<br>Rating: 1.02<br><br>jett: 0.57<br>neon: 0.36<br>raze: 0.07<br>"
          ],
          [
           "<b>qutionerx</b><br>Team: BBL<br>Rating: 1.10<br><br>jett: 0.92<br>raze: 0.08<br>"
          ],
          [
           "<b>fit1nho</b><br>Team: GIA<br>Rating: 1.09<br><br>jett: 0.89<br>raze: 0.06<br>kayo: 0.06<br>"
          ],
          [
           "<b>ardiis</b><br>Team: NRG<br>Rating: 1.09<br><br>jett: 0.67<br>sage: 0.17<br>killjoy: 0.14<br>chamber: 0.02<br>"
          ],
          [
           "<b>twisten</b><br>Team: VIT<br>Rating: 1.02<br><br>jett: 0.60<br>raze: 0.27<br>sage: 0.13<br>"
          ],
          [
           "<b>meteor</b><br>Team: GEN<br>Rating: 1.00<br><br>jett: 0.83<br>raze: 0.17<br>"
          ],
          [
           "<b>dep</b><br>Team: ZETA<br>Rating: 0.97<br><br>jett: 0.41<br>raze: 0.36<br>neon: 0.14<br>sova: 0.05<br>breach: 0.05<br>"
          ],
          [
           "<b>dgzin</b><br>Team: FUR<br>Rating: 0.98<br><br>jett: 0.91<br>raze: 0.04<br>neon: 0.04<br>"
          ],
          [
           "<b>foxy9</b><br>Team: DRX<br>Rating: 0.97<br><br>jett: 0.69<br>raze: 0.31<br>"
          ],
          [
           "<b>dubstep</b><br>Team: TS<br>Rating: 0.99<br><br>jett: 0.62<br>killjoy: 0.25<br>cypher: 0.04<br>sage: 0.04<br>viper: 0.04<br>"
          ],
          [
           "<b>tenz</b><br>Team: SEN<br>Rating: 1.07<br><br>jett: 0.54<br>kayo: 0.31<br>neon: 0.08<br>yoru: 0.08<br>"
          ],
          [
           "<b>ejay</b><br>Team: RRQ<br>Rating: 0.95<br><br>jett: 0.72<br>raze: 0.28<br>"
          ],
          [
           "<b>heat</b><br>Team: MIBR<br>Rating: 0.81<br><br>raze: 0.50<br>jett: 0.50<br>"
          ],
          [
           "<b>tacolilla</b><br>Team: LEV<br>Rating: 0.86<br><br>jett: 0.78<br>raze: 0.15<br>chamber: 0.04<br>sage: 0.04<br>"
          ],
          [
           "<b>ban</b><br>Team: T1<br>Rating: 0.95<br><br>jett: 0.31<br>viper: 0.25<br>omen: 0.22<br>harbor: 0.22<br>"
          ],
          [
           "<b>skrossi</b><br>Team: GE<br>Rating: 1.02<br><br>jett: 0.92<br>reyna: 0.08<br>"
          ],
          [
           "<b>wolfen</b><br>Team: KOI<br>Rating: 0.96<br><br>jett: 0.54<br>killjoy: 0.25<br>cypher: 0.17<br>raze: 0.04<br>"
          ],
          [
           "<b>seoldam</b><br>Team: DFM<br>Rating: 0.88<br><br>jett: 0.90<br>raze: 0.10<br>"
          ],
          [
           "<b>keloqz</b><br>Team: TH<br>Rating: 0.83<br><br>jett: 0.54<br>neon: 0.31<br>raze: 0.15<br>"
          ]
         ],
         "hovertemplate": "%{customdata}",
         "hovertext": [
          "something",
          "aspas",
          "sayf",
          "leaf",
          "keznit",
          "demon1",
          "sayaplayer",
          "cned",
          "cryocells",
          "qw1",
          "qutionerx",
          "fit1nho",
          "ardiis",
          "twisten",
          "meteor",
          "dep",
          "dgzin",
          "foxy9",
          "dubstep",
          "tenz",
          "ejay",
          "heat",
          "tacolilla",
          "ban",
          "skrossi",
          "wolfen",
          "seoldam",
          "keloqz"
         ],
         "legendgroup": "jett",
         "marker": {
          "color": "#EF553B",
          "opacity": 0.8,
          "size": 12,
          "symbol": "circle"
         },
         "mode": "markers+text",
         "name": "jett",
         "orientation": "v",
         "showlegend": true,
         "text": [
          "something",
          "aspas",
          "sayf",
          "leaf",
          "keznit",
          "demon1",
          "sayaplayer",
          "cned",
          "cryocells",
          "qw1",
          "qutionerx",
          "fit1nho",
          "ardiis",
          "twisten",
          "meteor",
          "dep",
          "dgzin",
          "foxy9",
          "dubstep",
          "tenz",
          "ejay",
          "heat",
          "tacolilla",
          "ban",
          "skrossi",
          "wolfen",
          "seoldam",
          "keloqz"
         ],
         "textposition": "top center",
         "type": "scatter",
         "x": [
          1.969632863998413,
          2.1806557178497314,
          2.6813888549804688,
          2.6126174926757812,
          2.5911271572113037,
          1.2916380167007446,
          2.1811954975128174,
          1.6961822509765625,
          0.8723986148834229,
          3.0564510822296143,
          1.4345470666885376,
          1.019852876663208,
          0.9353863000869751,
          2.225602626800537,
          1.9109331369400024,
          2.8471572399139404,
          1.4858074188232422,
          2.524280071258545,
          0.866203248500824,
          1.089213490486145,
          2.271794080734253,
          2.4091103076934814,
          1.8584882020950317,
          -1.7245798110961914,
          1.470208764076233,
          1.7627456188201904,
          1.2430000305175781,
          2.747267723083496
         ],
         "xaxis": "x",
         "y": [
          -5.904827117919922,
          -5.602532863616943,
          -2.80059814453125,
          -5.430009841918945,
          -3.3642892837524414,
          -6.1528215408325195,
          -2.5948245525360107,
          -4.207428932189941,
          -5.302114009857178,
          -4.932262420654297,
          -5.344266414642334,
          -5.073301315307617,
          -5.705562114715576,
          -3.8445746898651123,
          -4.659045219421387,
          -2.618173122406006,
          -5.596948146820068,
          -3.6966123580932617,
          -5.609842300415039,
          -4.867265701293945,
          -4.236978530883789,
          -2.474146842956543,
          -4.8620524406433105,
          0.7818323969841003,
          -5.974381446838379,
          -5.637317657470703,
          -4.709722518920898,
          -4.993049144744873
         ],
         "yaxis": "y"
        },
        {
         "customdata": [
          [
           "<b>alfajer</b><br>Team: FNC<br>Rating: 1.27<br><br>killjoy: 0.66<br>cypher: 0.34<br>"
          ],
          [
           "<b>nukkye</b><br>Team: GIA<br>Rating: 1.10<br><br>killjoy: 0.44<br>kayo: 0.28<br>cypher: 0.17<br>raze: 0.06<br>viper: 0.06<br>"
          ],
          [
           "<b>buzz</b><br>Team: DRX<br>Rating: 1.07<br><br>killjoy: 0.40<br>jett: 0.31<br>raze: 0.23<br>kayo: 0.06<br>"
          ],
          [
           "<b>victor</b><br>Team: NRG<br>Rating: 1.09<br><br>raze: 0.38<br>killjoy: 0.38<br>kayo: 0.14<br>neon: 0.10<br>"
          ],
          [
           "<b>sheydos</b><br>Team: KOI<br>Rating: 1.03<br><br>killjoy: 0.42<br>breach: 0.29<br>viper: 0.21<br>brimstone: 0.04<br>sage: 0.04<br>"
          ],
          [
           "<b>munchkin</b><br>Team: T1<br>Rating: 1.05<br><br>killjoy: 0.79<br>skye: 0.21<br>"
          ],
          [
           "<b>daveeys</b><br>Team: KRÜ<br>Rating: 1.13<br><br>killjoy: 0.29<br>kayo: 0.24<br>cypher: 0.18<br>chamber: 0.18<br>raze: 0.06<br>breach: 0.06<br>"
          ],
          [
           "<b>k1ng</b><br>Team: GEN<br>Rating: 0.93<br><br>killjoy: 0.66<br>viper: 0.24<br>cypher: 0.10<br>"
          ],
          [
           "<b>t3xture</b><br>Team: GE<br>Rating: 1.09<br><br>killjoy: 0.73<br>raze: 0.09<br>phoenix: 0.09<br>jett: 0.09<br>"
          ],
          [
           "<b>zellsis</b><br>Team: C9<br>Rating: 1.03<br><br>killjoy: 0.57<br>breach: 0.17<br>harbor: 0.13<br>cypher: 0.07<br>raze: 0.03<br>viper: 0.03<br>"
          ],
          [
           "<b>shyy</b><br>Team: LEV<br>Rating: 0.98<br><br>killjoy: 0.74<br>skye: 0.26<br>"
          ],
          [
           "<b>rb</b><br>Team: DRX<br>Rating: 1.01<br><br>killjoy: 0.31<br>harbor: 0.20<br>neon: 0.11<br>astra: 0.09<br>fade: 0.09<br>sova: 0.09<br>kayo: 0.06<br>brimstone: 0.03<br>raze: 0.03<br>"
          ],
          [
           "<b>boostio</b><br>Team: EG<br>Rating: 0.98<br><br>killjoy: 0.67<br>astra: 0.30<br>reyna: 0.02<br>"
          ],
          [
           "<b>khalil</b><br>Team: FUR<br>Rating: 0.94<br><br>killjoy: 0.39<br>brimstone: 0.22<br>omen: 0.22<br>astra: 0.17<br>"
          ],
          [
           "<b>pancada</b><br>Team: SEN<br>Rating: 0.97<br><br>killjoy: 0.47<br>viper: 0.41<br>cypher: 0.12<br>"
          ],
          [
           "<b>lmemore</b><br>Team: RRQ<br>Rating: 0.99<br><br>killjoy: 0.78<br>viper: 0.17<br>cypher: 0.06<br>"
          ],
          [
           "<b>suggest</b><br>Team: DFM<br>Rating: 0.96<br><br>killjoy: 0.40<br>sage: 0.20<br>kayo: 0.20<br>breach: 0.20<br>"
          ],
          [
           "<b>derrek</b><br>Team: 100T<br>Rating: 0.93<br><br>skye: 0.25<br>killjoy: 0.25<br>sova: 0.25<br>breach: 0.19<br>harbor: 0.06<br>"
          ],
          [
           "<b>jitboys</b><br>Team: TLN<br>Rating: 1.01<br><br>killjoy: 0.47<br>cypher: 0.29<br>astra: 0.12<br>breach: 0.12<br>"
          ],
          [
           "<b>mojj</b><br>Team: FUT<br>Rating: 0.93<br><br>killjoy: 0.71<br>cypher: 0.21<br>viper: 0.07<br>"
          ],
          [
           "<b>tennn</b><br>Team: ZETA<br>Rating: 0.91<br><br>killjoy: 0.45<br>raze: 0.32<br>viper: 0.23<br>"
          ],
          [
           "<b>anthem</b><br>Team: DFM<br>Rating: 0.94<br><br>killjoy: 0.45<br>skye: 0.18<br>cypher: 0.09<br>sova: 0.09<br>fade: 0.09<br>viper: 0.09<br>"
          ],
          [
           "<b>aslanm4shadow</b><br>Team: BBL<br>Rating: 0.95<br><br>killjoy: 0.69<br>brimstone: 0.15<br>sage: 0.15<br>"
          ],
          [
           "<b>sushiboys</b><br>Team: TLN<br>Rating: 1.03<br><br>killjoy: 1.00<br>"
          ],
          [
           "<b>stellar</b><br>Team: 100T<br>Rating: 0.85<br><br>killjoy: 0.50<br>viper: 0.25<br>harbor: 0.19<br>cypher: 0.06<br>"
          ],
          [
           "<b>reita</b><br>Team: DFM<br>Rating: 0.80<br><br>killjoy: 0.25<br>skye: 0.25<br>harbor: 0.12<br>sova: 0.12<br>sage: 0.12<br>breach: 0.12<br>"
          ],
          [
           "<b>boo</b><br>Team: TH<br>Rating: 0.86<br><br>killjoy: 0.31<br>fade: 0.31<br>breach: 0.15<br>brimstone: 0.08<br>harbor: 0.08<br>skye: 0.08<br>"
          ],
          [
           "<b>txozin</b><br>Team: MIBR<br>Rating: 0.83<br><br>killjoy: 0.86<br>viper: 0.14<br>"
          ],
          [
           "<b>benjyfishy</b><br>Team: TH<br>Rating: 1.01<br><br>killjoy: 0.76<br>viper: 0.09<br>raze: 0.06<br>cypher: 0.06<br>reyna: 0.03<br>"
          ]
         ],
         "hovertemplate": "%{customdata}",
         "hovertext": [
          "alfajer",
          "nukkye",
          "buzz",
          "victor",
          "sheydos",
          "munchkin",
          "daveeys",
          "k1ng",
          "t3xture",
          "zellsis",
          "shyy",
          "rb",
          "boostio",
          "khalil",
          "pancada",
          "lmemore",
          "suggest",
          "derrek",
          "jitboys",
          "mojj",
          "tennn",
          "anthem",
          "aslanm4shadow",
          "sushiboys",
          "stellar",
          "reita",
          "boo",
          "txozin",
          "benjyfishy"
         ],
         "legendgroup": "killjoy",
         "marker": {
          "color": "#00cc96",
          "opacity": 0.8,
          "size": 12,
          "symbol": "circle"
         },
         "mode": "markers+text",
         "name": "killjoy",
         "orientation": "v",
         "showlegend": true,
         "text": [
          "alfajer",
          "nukkye",
          "buzz",
          "victor",
          "sheydos",
          "munchkin",
          "daveeys",
          "k1ng",
          "t3xture",
          "zellsis",
          "shyy",
          "rb",
          "boostio",
          "khalil",
          "pancada",
          "lmemore",
          "suggest",
          "derrek",
          "jitboys",
          "mojj",
          "tennn",
          "anthem",
          "aslanm4shadow",
          "sushiboys",
          "stellar",
          "reita",
          "boo",
          "txozin",
          "benjyfishy"
         ],
         "textposition": "top center",
         "type": "scatter",
         "x": [
          4.183401584625244,
          3.6950554847717285,
          2.916862964630127,
          2.3241419792175293,
          2.5778748989105225,
          3.4429244995117188,
          4.036070823669434,
          2.526341199874878,
          3.2441442012786865,
          3.033451557159424,
          3.891294479370117,
          2.758385181427002,
          4.356317520141602,
          4.021478652954102,
          1.676007628440857,
          3.541389226913452,
          3.019094705581665,
          -3.370931386947632,
          4.308409690856934,
          4.158023357391357,
          2.2244744300842285,
          3.684537410736084,
          3.576359987258911,
          3.60587739944458,
          2.2341058254241943,
          -3.111948251724243,
          3.0269854068756104,
          2.9168403148651123,
          3.110318660736084
         ],
         "xaxis": "x",
         "y": [
          1.2980917692184448,
          0.928955078125,
          0.053656239062547684,
          0.0646229013800621,
          1.4384686946868896,
          2.99127459526062,
          1.0495314598083496,
          2.24281907081604,
          1.3557552099227905,
          2.147883892059326,
          2.4675724506378174,
          2.681612730026245,
          2.4733924865722656,
          2.2341959476470947,
          1.9958884716033936,
          1.4170900583267212,
          1.5535639524459839,
          -2.2189154624938965,
          1.6517194509506226,
          1.7238483428955078,
          0.7933571934700012,
          2.818284034729004,
          1.9946136474609375,
          2.3512656688690186,
          1.9851644039154053,
          -2.7017691135406494,
          2.964920997619629,
          1.80844247341156,
          1.9018651247024536
         ],
         "yaxis": "y"
        },
        {
         "customdata": [
          [
           "<b>chronicle</b><br>Team: FNC<br>Rating: 1.21<br><br>viper: 0.55<br>breach: 0.34<br>kayo: 0.07<br>sage: 0.03<br>"
          ],
          [
           "<b>kingg</b><br>Team: LEV<br>Rating: 1.16<br><br>viper: 0.59<br>breach: 0.19<br>kayo: 0.15<br>brimstone: 0.04<br>raze: 0.04<br>"
          ],
          [
           "<b>mako</b><br>Team: DRX<br>Rating: 1.10<br><br>viper: 0.51<br>omen: 0.31<br>brimstone: 0.17<br>"
          ],
          [
           "<b>less</b><br>Team: LOUD<br>Rating: 1.18<br><br>viper: 0.54<br>killjoy: 0.46<br>"
          ],
          [
           "<b>suygetsu</b><br>Team: NAVI<br>Rating: 1.10<br><br>viper: 0.54<br>cypher: 0.27<br>killjoy: 0.15<br>sage: 0.04<br>"
          ],
          [
           "<b>hoody</b><br>Team: GIA<br>Rating: 1.07<br><br>viper: 0.72<br>omen: 0.17<br>skye: 0.11<br>"
          ],
          [
           "<b>xeta</b><br>Team: T1<br>Rating: 1.03<br><br>viper: 0.27<br>breach: 0.27<br>harbor: 0.24<br>sova: 0.21<br>"
          ],
          [
           "<b>runi</b><br>Team: C9<br>Rating: 0.98<br><br>viper: 0.40<br>breach: 0.27<br>killjoy: 0.13<br>sova: 0.13<br>cypher: 0.03<br>fade: 0.03<br>"
          ],
          [
           "<b>atakaptan</b><br>Team: FUT<br>Rating: 0.96<br><br>viper: 0.36<br>breach: 0.21<br>brimstone: 0.14<br>omen: 0.14<br>astra: 0.14<br>"
          ],
          [
           "<b>cender</b><br>Team: VIT<br>Rating: 1.03<br><br>killjoy: 0.40<br>viper: 0.40<br>cypher: 0.20<br>"
          ],
          [
           "<b>nagz</b><br>Team: KRÜ<br>Rating: 0.94<br><br>viper: 0.55<br>killjoy: 0.45<br>"
          ],
          [
           "<b>quick</b><br>Team: FUR<br>Rating: 0.92<br><br>viper: 0.60<br>killjoy: 0.20<br>harbor: 0.15<br>cypher: 0.05<br>"
          ],
          [
           "<b>crws</b><br>Team: TLN<br>Rating: 0.95<br><br>viper: 0.39<br>omen: 0.28<br>brimstone: 0.11<br>breach: 0.11<br>harbor: 0.06<br>kayo: 0.06<br>"
          ],
          [
           "<b>finesse</b><br>Team: NRG<br>Rating: 0.91<br><br>viper: 0.71<br>killjoy: 0.14<br>breach: 0.14<br>"
          ],
          [
           "<b>takej</b><br>Team: DFM<br>Rating: 0.87<br><br>viper: 0.45<br>omen: 0.27<br>brimstone: 0.18<br>harbor: 0.09<br>"
          ],
          [
           "<b>mixwell</b><br>Team: TH<br>Rating: 0.91<br><br>viper: 0.54<br>killjoy: 0.15<br>yoru: 0.15<br>raze: 0.08<br>breach: 0.08<br>"
          ],
          [
           "<b>murizzz</b><br>Team: MIBR<br>Rating: 0.77<br><br>viper: 0.64<br>skye: 0.27<br>fade: 0.09<br>"
          ],
          [
           "<b>axeddy</b><br>Team: KRÜ<br>Rating: 0.78<br><br>raze: 0.29<br>viper: 0.29<br>breach: 0.14<br>harbor: 0.14<br>kayo: 0.14<br>"
          ]
         ],
         "hovertemplate": "%{customdata}",
         "hovertext": [
          "chronicle",
          "kingg",
          "mako",
          "less",
          "suygetsu",
          "hoody",
          "xeta",
          "runi",
          "atakaptan",
          "cender",
          "nagz",
          "quick",
          "crws",
          "finesse",
          "takej",
          "mixwell",
          "murizzz",
          "axeddy"
         ],
         "legendgroup": "viper",
         "marker": {
          "color": "#ab63fa",
          "opacity": 0.8,
          "size": 12,
          "symbol": "circle"
         },
         "mode": "markers+text",
         "name": "viper",
         "orientation": "v",
         "showlegend": true,
         "text": [
          "chronicle",
          "kingg",
          "mako",
          "less",
          "suygetsu",
          "hoody",
          "xeta",
          "runi",
          "atakaptan",
          "cender",
          "nagz",
          "quick",
          "crws",
          "finesse",
          "takej",
          "mixwell",
          "murizzz",
          "axeddy"
         ],
         "textposition": "top center",
         "type": "scatter",
         "x": [
          -0.5700237154960632,
          -0.29263484477996826,
          -1.356881856918335,
          1.0954490900039673,
          0.00467178737744689,
          -0.6933695077896118,
          -1.4937288761138916,
          -0.7219194769859314,
          -1.0692648887634277,
          1.2057958841323853,
          0.9925424456596375,
          -0.002361566061154008,
          -1.5095123052597046,
          -0.0597827173769474,
          -1.6502363681793213,
          0.24631191790103912,
          -0.29644975066185,
          -0.061116378754377365
         ],
         "xaxis": "x",
         "y": [
          0.5848522782325745,
          0.8782058954238892,
          1.9699721336364746,
          1.3269907236099243,
          2.072296619415283,
          1.9087512493133545,
          0.06822656840085983,
          0.4458136558532715,
          1.2084299325942993,
          2.133915901184082,
          1.6166226863861084,
          1.4847347736358643,
          1.8454971313476562,
          1.176868200302124,
          1.642103672027588,
          0.971849799156189,
          1.5388392210006714,
          -0.04158518463373184
         ],
         "yaxis": "y"
        },
        {
         "customdata": [
          [
           "<b>derke</b><br>Team: FNC<br>Rating: 1.14<br><br>raze: 0.79<br>jett: 0.21<br>"
          ],
          [
           "<b>trexx</b><br>Team: KOI<br>Rating: 1.15<br><br>raze: 0.33<br>kayo: 0.33<br>skye: 0.12<br>viper: 0.12<br>fade: 0.08<br>"
          ],
          [
           "<b>jinggg</b><br>Team: PRX<br>Rating: 1.10<br><br>raze: 0.76<br>phoenix: 0.15<br>sage: 0.09<br>"
          ],
          [
           "<b>zekken</b><br>Team: SEN<br>Rating: 1.06<br><br>raze: 0.71<br>jett: 0.18<br>omen: 0.06<br>breach: 0.06<br>"
          ],
          [
           "<b>garnets</b><br>Team: TLN<br>Rating: 1.00<br><br>raze: 0.53<br>jett: 0.40<br>neon: 0.07<br>"
          ],
          [
           "<b>molsi</b><br>Team: VIT<br>Rating: 0.96<br><br>raze: 0.33<br>breach: 0.20<br>killjoy: 0.20<br>kayo: 0.13<br>fade: 0.07<br>skye: 0.07<br>"
          ],
          [
           "<b>jawgemo</b><br>Team: EG<br>Rating: 1.01<br><br>raze: 0.51<br>omen: 0.33<br>harbor: 0.09<br>astra: 0.07<br>"
          ],
          [
           "<b>scream</b><br>Team: KC<br>Rating: 1.07<br><br>raze: 0.53<br>jett: 0.35<br>phoenix: 0.12<br>"
          ],
          [
           "<b>jremy</b><br>Team: TS<br>Rating: 0.98<br><br>raze: 0.58<br>killjoy: 0.38<br>phoenix: 0.04<br>"
          ],
          [
           "<b>jzz</b><br>Team: MIBR<br>Rating: 0.77<br><br>raze: 0.45<br>skye: 0.27<br>neon: 0.18<br>jett: 0.09<br>"
          ],
          [
           "<b>harmii</b><br>Team: TL<br>Rating: 0.84<br><br>raze: 1.00<br>"
          ]
         ],
         "hovertemplate": "%{customdata}",
         "hovertext": [
          "derke",
          "trexx",
          "jinggg",
          "zekken",
          "garnets",
          "molsi",
          "jawgemo",
          "scream",
          "jremy",
          "jzz",
          "harmii"
         ],
         "legendgroup": "raze",
         "marker": {
          "color": "#FFA15A",
          "opacity": 0.8,
          "size": 12,
          "symbol": "circle"
         },
         "mode": "markers+text",
         "name": "raze",
         "orientation": "v",
         "showlegend": true,
         "text": [
          "derke",
          "trexx",
          "jinggg",
          "zekken",
          "garnets",
          "molsi",
          "jawgemo",
          "scream",
          "jremy",
          "jzz",
          "harmii"
         ],
         "textposition": "top center",
         "type": "scatter",
         "x": [
          1.8741509914398193,
          0.3026714324951172,
          1.6891850233078003,
          2.007553815841675,
          2.606576919555664,
          1.4944909811019897,
          1.3889527320861816,
          2.101613998413086,
          2.012197971343994,
          1.178128957748413,
          1.7077279090881348
         ],
         "xaxis": "x",
         "y": [
          -1.6015405654907227,
          -1.365617275238037,
          -0.966888964176178,
          -1.596737265586853,
          -1.9447097778320312,
          -0.46305036544799805,
          -1.3113744258880615,
          -2.1429927349090576,
          -0.3943042457103729,
          -1.8298654556274414,
          -1.1624372005462646
         ],
         "yaxis": "y"
        },
        {
         "customdata": [
          [
           "<b>shao</b><br>Team: NAVI<br>Rating: 1.09<br><br>fade: 0.23<br>astra: 0.23<br>omen: 0.15<br>killjoy: 0.15<br>brimstone: 0.12<br>sova: 0.12<br>"
          ],
          [
           "<b>boaster</b><br>Team: FNC<br>Rating: 1.01<br><br>astra: 0.45<br>brimstone: 0.31<br>omen: 0.21<br>viper: 0.03<br>"
          ],
          [
           "<b>2ge</b><br>Team: RRQ<br>Rating: 1.09<br><br>astra: 0.42<br>omen: 0.33<br>harbor: 0.25<br>"
          ],
          [
           "<b>mindfreak</b><br>Team: PRX<br>Rating: 1.01<br><br>astra: 0.36<br>brimstone: 0.33<br>omen: 0.27<br>viper: 0.03<br>"
          ],
          [
           "<b>koldamenta</b><br>Team: KOI<br>Rating: 0.77<br><br>astra: 0.33<br>omen: 0.29<br>sova: 0.21<br>brimstone: 0.17<br>"
          ]
         ],
         "hovertemplate": "%{customdata}",
         "hovertext": [
          "shao",
          "boaster",
          "2ge",
          "mindfreak",
          "koldamenta"
         ],
         "legendgroup": "astra",
         "marker": {
          "color": "#19d3f3",
          "opacity": 0.8,
          "size": 12,
          "symbol": "circle"
         },
         "mode": "markers+text",
         "name": "astra",
         "orientation": "v",
         "showlegend": true,
         "text": [
          "shao",
          "boaster",
          "2ge",
          "mindfreak",
          "koldamenta"
         ],
         "textposition": "top center",
         "type": "scatter",
         "x": [
          -4.559473991394043,
          -4.8477888107299805,
          -3.5184426307678223,
          -4.242302417755127,
          -5.024473667144775
         ],
         "xaxis": "x",
         "y": [
          0.44596341252326965,
          1.1998907327651978,
          1.359038233757019,
          0.9950395822525024,
          0.8990143537521362
         ],
         "yaxis": "y"
        },
        {
         "customdata": [
          [
           "<b>invy</b><br>Team: TS<br>Rating: 1.12<br><br>breach: 0.61<br>kayo: 0.17<br>skye: 0.13<br>viper: 0.09<br>"
          ],
          [
           "<b>fl1pzjder</b><br>Team: RRQ<br>Rating: 1.01<br><br>breach: 0.33<br>skye: 0.28<br>kayo: 0.22<br>viper: 0.11<br>sova: 0.06<br>"
          ],
          [
           "<b>patiphan</b><br>Team: TLN<br>Rating: 1.07<br><br>harbor: 0.24<br>breach: 0.24<br>omen: 0.18<br>raze: 0.12<br>kayo: 0.12<br>jett: 0.06<br>brimstone: 0.06<br>"
          ],
          [
           "<b>crow</b><br>Team: ZETA<br>Rating: 0.90<br><br>breach: 0.45<br>kayo: 0.27<br>killjoy: 0.14<br>skye: 0.09<br>sage: 0.05<br>"
          ],
          [
           "<b>dephh</b><br>Team: SEN<br>Rating: 0.69<br><br>breach: 0.50<br>omen: 0.25<br>harbor: 0.25<br>"
          ],
          [
           "<b>ze1sh</b><br>Team: KC<br>Rating: 0.77<br><br>breach: 0.29<br>skye: 0.18<br>killjoy: 0.18<br>kayo: 0.18<br>viper: 0.18<br>"
          ]
         ],
         "hovertemplate": "%{customdata}",
         "hovertext": [
          "invy",
          "fl1pzjder",
          "patiphan",
          "crow",
          "dephh",
          "ze1sh"
         ],
         "legendgroup": "breach",
         "marker": {
          "color": "#FF6692",
          "opacity": 0.8,
          "size": 12,
          "symbol": "circle"
         },
         "mode": "markers+text",
         "name": "breach",
         "orientation": "v",
         "showlegend": true,
         "text": [
          "invy",
          "fl1pzjder",
          "patiphan",
          "crow",
          "dephh",
          "ze1sh"
         ],
         "textposition": "top center",
         "type": "scatter",
         "x": [
          -1.8296715021133423,
          -1.7452315092086792,
          -2.583925485610962,
          -1.5309196710586548,
          -2.2020671367645264,
          -1.7390443086624146
         ],
         "xaxis": "x",
         "y": [
          -1.1104670763015747,
          -2.071544647216797,
          0.5332888960838318,
          -1.2956677675247192,
          -0.19187216460704803,
          -1.4397140741348267
         ],
         "yaxis": "y"
        },
        {
         "customdata": [
          [
           "<b>monyet</b><br>Team: GE<br>Rating: 1.22<br><br>omen: 0.40<br>astra: 0.40<br>raze: 0.10<br>viper: 0.10<br>"
          ],
          [
           "<b>sugarz3ro</b><br>Team: ZETA<br>Rating: 1.05<br><br>omen: 0.50<br>brimstone: 0.32<br>astra: 0.14<br>harbor: 0.05<br>"
          ],
          [
           "<b>borkum</b><br>Team: TS<br>Rating: 1.04<br><br>omen: 0.62<br>brimstone: 0.17<br>astra: 0.17<br>viper: 0.04<br>"
          ],
          [
           "<b>nivera</b><br>Team: KC<br>Rating: 0.99<br><br>omen: 0.47<br>killjoy: 0.24<br>sova: 0.18<br>cypher: 0.06<br>viper: 0.06<br>"
          ],
          [
           "<b>tuyz</b><br>Team: LOUD<br>Rating: 0.98<br><br>omen: 0.50<br>harbor: 0.25<br>astra: 0.17<br>brimstone: 0.08<br>"
          ],
          [
           "<b>jakee</b><br>Team: C9<br>Rating: 0.97<br><br>omen: 0.50<br>astra: 0.20<br>brimstone: 0.17<br>viper: 0.13<br>"
          ],
          [
           "<b>sylvan</b><br>Team: GEN<br>Rating: 0.97<br><br>omen: 0.50<br>skye: 0.15<br>fade: 0.15<br>sova: 0.10<br>astra: 0.10<br>"
          ],
          [
           "<b>melser</b><br>Team: KRÜ<br>Rating: 0.98<br><br>omen: 0.41<br>astra: 0.27<br>brimstone: 0.14<br>harbor: 0.14<br>viper: 0.05<br>"
          ],
          [
           "<b>bang</b><br>Team: 100T<br>Rating: 0.95<br><br>omen: 0.38<br>brimstone: 0.31<br>viper: 0.19<br>astra: 0.12<br>"
          ],
          [
           "<b>mazino</b><br>Team: LEV<br>Rating: 0.96<br><br>omen: 0.48<br>harbor: 0.26<br>astra: 0.22<br>brimstone: 0.04<br>"
          ],
          [
           "<b>brave</b><br>Team: BBL<br>Rating: 1.08<br><br>omen: 0.54<br>viper: 0.38<br>astra: 0.08<br>"
          ],
          [
           "<b>destrian</b><br>Team: VIT<br>Rating: 0.94<br><br>omen: 0.40<br>sova: 0.33<br>brimstone: 0.13<br>breach: 0.07<br>gekko: 0.07<br>"
          ],
          [
           "<b>mrfalin</b><br>Team: FUT<br>Rating: 0.95<br><br>omen: 0.50<br>sova: 0.18<br>skye: 0.14<br>fade: 0.07<br>breach: 0.07<br>astra: 0.04<br>"
          ],
          [
           "<b>rglmeister</b><br>Team: MIBR<br>Rating: 0.96<br><br>omen: 0.36<br>brimstone: 0.27<br>harbor: 0.18<br>astra: 0.18<br>"
          ],
          [
           "<b>ts</b><br>Team: GEN<br>Rating: 0.86<br><br>omen: 0.48<br>sova: 0.24<br>gekko: 0.14<br>astra: 0.10<br>skye: 0.03<br>"
          ],
          [
           "<b>avova</b><br>Team: TH<br>Rating: 0.96<br><br>omen: 0.69<br>killjoy: 0.15<br>astra: 0.15<br>"
          ],
          [
           "<b>redgar</b><br>Team: TL<br>Rating: 0.88<br><br>omen: 0.84<br>brimstone: 0.06<br>harbor: 0.03<br>astra: 0.03<br>reyna: 0.03<br>"
          ],
          [
           "<b>ange1</b><br>Team: NAVI<br>Rating: 0.84<br><br>omen: 0.42<br>cypher: 0.19<br>sova: 0.15<br>kayo: 0.12<br>brimstone: 0.08<br>yoru: 0.04<br>"
          ],
          [
           "<b>rhyme</b><br>Team: GIA<br>Rating: 0.88<br><br>omen: 0.44<br>harbor: 0.17<br>astra: 0.17<br>breach: 0.17<br>sage: 0.06<br>"
          ],
          [
           "<b>bonecold</b><br>Team: VIT<br>Rating: 0.84<br><br>omen: 0.40<br>fade: 0.20<br>sage: 0.20<br>skye: 0.13<br>brimstone: 0.07<br>"
          ],
          [
           "<b>xms</b><br>Team: KC<br>Rating: 0.90<br><br>omen: 0.41<br>killjoy: 0.41<br>harbor: 0.18<br>"
          ]
         ],
         "hovertemplate": "%{customdata}",
         "hovertext": [
          "monyet",
          "sugarz3ro",
          "borkum",
          "nivera",
          "tuyz",
          "jakee",
          "sylvan",
          "melser",
          "bang",
          "mazino",
          "brave",
          "destrian",
          "mrfalin",
          "rglmeister",
          "ts",
          "avova",
          "redgar",
          "ange1",
          "rhyme",
          "bonecold",
          "xms"
         ],
         "legendgroup": "omen",
         "marker": {
          "color": "#B6E880",
          "opacity": 0.8,
          "size": 12,
          "symbol": "circle"
         },
         "mode": "markers+text",
         "name": "omen",
         "orientation": "v",
         "showlegend": true,
         "text": [
          "monyet",
          "sugarz3ro",
          "borkum",
          "nivera",
          "tuyz",
          "jakee",
          "sylvan",
          "melser",
          "bang",
          "mazino",
          "brave",
          "destrian",
          "mrfalin",
          "rglmeister",
          "ts",
          "avova",
          "redgar",
          "ange1",
          "rhyme",
          "bonecold",
          "xms"
         ],
         "textposition": "top center",
         "type": "scatter",
         "x": [
          -4.589191436767578,
          -4.4196906089782715,
          -4.2400102615356445,
          -4.110878944396973,
          -3.571044921875,
          -4.565121173858643,
          -5.029480934143066,
          -4.039559841156006,
          -4.074709892272949,
          -3.417038917541504,
          -2.5101397037506104,
          -5.294809341430664,
          -5.16422176361084,
          -3.707054853439331,
          -5.584094524383545,
          -4.193179130554199,
          -4.418363094329834,
          -4.91126012802124,
          -3.6689202785491943,
          -4.802797794342041,
          -3.1309139728546143
         ],
         "xaxis": "x",
         "y": [
          1.4628889560699463,
          1.88450026512146,
          2.6062381267547607,
          3.4544191360473633,
          2.703925371170044,
          2.170801877975464,
          2.793454170227051,
          1.9621798992156982,
          1.5154119729995728,
          2.2804720401763916,
          2.2667064666748047,
          2.2789506912231445,
          2.6674251556396484,
          1.7758684158325195,
          3.093320846557617,
          3.1229264736175537,
          3.005830764770508,
          3.332648754119873,
          2.468332052230835,
          3.223033905029297,
          3.367807388305664
         ],
         "yaxis": "y"
        },
        {
         "customdata": [
          [
           "<b>d4v41</b><br>Team: PRX<br>Rating: 1.16<br><br>skye: 0.55<br>killjoy: 0.18<br>viper: 0.18<br>kayo: 0.09<br>"
          ],
          [
           "<b>ethan</b><br>Team: EG<br>Rating: 1.08<br><br>skye: 0.53<br>breach: 0.30<br>kayo: 0.16<br>"
          ],
          [
           "<b>crashies</b><br>Team: NRG<br>Rating: 1.10<br><br>skye: 0.76<br>sova: 0.24<br>"
          ],
          [
           "<b>jamppi</b><br>Team: TL<br>Rating: 1.00<br><br>skye: 0.34<br>breach: 0.25<br>sova: 0.19<br>killjoy: 0.16<br>neon: 0.03<br>jett: 0.03<br>"
          ],
          [
           "<b>asuna</b><br>Team: 100T<br>Rating: 1.01<br><br>skye: 0.47<br>raze: 0.24<br>gekko: 0.12<br>yoru: 0.06<br>sage: 0.06<br>kayo: 0.06<br>"
          ],
          [
           "<b>cauanzin</b><br>Team: LOUD<br>Rating: 1.00<br><br>skye: 0.54<br>sova: 0.29<br>breach: 0.17<br>"
          ],
          [
           "<b>xeppaa</b><br>Team: C9<br>Rating: 1.00<br><br>skye: 0.60<br>raze: 0.27<br>killjoy: 0.13<br>"
          ],
          [
           "<b>mwzera</b><br>Team: FUR<br>Rating: 0.99<br><br>skye: 0.39<br>raze: 0.30<br>sova: 0.13<br>fade: 0.09<br>killjoy: 0.04<br>viper: 0.04<br>"
          ],
          [
           "<b>foxz</b><br>Team: TLN<br>Rating: 1.07<br><br>skye: 0.71<br>sova: 0.24<br>kayo: 0.06<br>"
          ],
          [
           "<b>bazzi</b><br>Team: GE<br>Rating: 0.97<br><br>skye: 0.40<br>fade: 0.30<br>killjoy: 0.10<br>viper: 0.10<br>breach: 0.10<br>"
          ],
          [
           "<b>emman</b><br>Team: RRQ<br>Rating: 0.90<br><br>skye: 0.67<br>raze: 0.33<br>"
          ],
          [
           "<b>stax</b><br>Team: DRX<br>Rating: 0.89<br><br>skye: 0.51<br>breach: 0.31<br>kayo: 0.14<br>omen: 0.03<br>"
          ],
          [
           "<b>sacy</b><br>Team: SEN<br>Rating: 0.93<br><br>skye: 0.65<br>sova: 0.18<br>breach: 0.12<br>fade: 0.06<br>"
          ],
          [
           "<b>turko</b><br>Team: BBL<br>Rating: 1.05<br><br>skye: 0.38<br>breach: 0.31<br>kayo: 0.23<br>sova: 0.08<br>"
          ],
          [
           "<b>starxo</b><br>Team: KOI<br>Rating: 0.98<br><br>skye: 0.62<br>raze: 0.21<br>omen: 0.17<br>"
          ],
          [
           "<b>carpe</b><br>Team: T1<br>Rating: 0.97<br><br>skye: 0.30<br>brimstone: 0.27<br>gekko: 0.18<br>breach: 0.12<br>kayo: 0.09<br>astra: 0.03<br>"
          ],
          [
           "<b>mazin</b><br>Team: FUR<br>Rating: 0.91<br><br>skye: 0.30<br>harbor: 0.26<br>viper: 0.22<br>kayo: 0.17<br>breach: 0.04<br>"
          ],
          [
           "<b>frz</b><br>Team: MIBR<br>Rating: 0.99<br><br>skye: 0.36<br>killjoy: 0.27<br>breach: 0.18<br>chamber: 0.09<br>viper: 0.09<br>"
          ],
          [
           "<b>klaus</b><br>Team: KRÜ<br>Rating: 0.91<br><br>skye: 0.68<br>sova: 0.32<br>"
          ],
          [
           "<b>weber</b><br>Team: TH<br>Rating: 0.86<br><br>skye: 0.43<br>killjoy: 0.14<br>sova: 0.14<br>kayo: 0.14<br>breach: 0.14<br>"
          ],
          [
           "<b>xnfri</b><br>Team: DFM<br>Rating: 0.83<br><br>skye: 0.36<br>omen: 0.27<br>brimstone: 0.09<br>jett: 0.09<br>kayo: 0.09<br>raze: 0.09<br>"
          ]
         ],
         "hovertemplate": "%{customdata}",
         "hovertext": [
          "d4v41",
          "ethan",
          "crashies",
          "jamppi",
          "asuna",
          "cauanzin",
          "xeppaa",
          "mwzera",
          "foxz",
          "bazzi",
          "emman",
          "stax",
          "sacy",
          "turko",
          "starxo",
          "carpe",
          "mazin",
          "frz",
          "klaus",
          "weber",
          "xnfri"
         ],
         "legendgroup": "skye",
         "marker": {
          "color": "#FF97FF",
          "opacity": 0.8,
          "size": 12,
          "symbol": "circle"
         },
         "mode": "markers+text",
         "name": "skye",
         "orientation": "v",
         "showlegend": true,
         "text": [
          "d4v41",
          "ethan",
          "crashies",
          "jamppi",
          "asuna",
          "cauanzin",
          "xeppaa",
          "mwzera",
          "foxz",
          "bazzi",
          "emman",
          "stax",
          "sacy",
          "turko",
          "starxo",
          "carpe",
          "mazin",
          "frz",
          "klaus",
          "weber",
          "xnfri"
         ],
         "textposition": "top center",
         "type": "scatter",
         "x": [
          -2.928762912750244,
          -1.7358053922653198,
          -3.918168783187866,
          -2.910731077194214,
          -2.2160205841064453,
          -3.844939708709717,
          -2.625068426132202,
          -2.896573066711426,
          -3.660407066345215,
          -2.830136775970459,
          -3.2903778553009033,
          -1.953904390335083,
          -3.3955271244049072,
          -1.7987593412399292,
          -2.7687408924102783,
          -1.8560274839401245,
          -2.3528690338134766,
          -2.558779239654541,
          -4.041253089904785,
          -2.91762375831604,
          -2.613621711730957
         ],
         "xaxis": "x",
         "y": [
          -4.057991981506348,
          -3.357285976409912,
          -4.167681694030762,
          -2.4898862838745117,
          -4.829064846038818,
          -3.312222480773926,
          -4.4683027267456055,
          -4.502957820892334,
          -4.114952564239502,
          -3.340670585632324,
          -4.8981242179870605,
          -3.098513603210449,
          -3.8282363414764404,
          -2.6116271018981934,
          -4.92930269241333,
          -3.8027055263519287,
          -3.198655128479004,
          -3.0456440448760986,
          -3.635627508163452,
          -3.602417469024658,
          -4.293447017669678
         ],
         "yaxis": "y"
        },
        {
         "customdata": [
          [
           "<b>s0m</b><br>Team: NRG<br>Rating: 1.14<br><br>harbor: 0.43<br>omen: 0.26<br>astra: 0.21<br>brimstone: 0.10<br>"
          ],
          [
           "<b>f0rsaken</b><br>Team: PRX<br>Rating: 1.06<br><br>harbor: 0.21<br>cypher: 0.18<br>neon: 0.18<br>jett: 0.18<br>skye: 0.09<br>killjoy: 0.09<br>fade: 0.06<br>"
          ],
          [
           "<b>intro</b><br>Team: T1<br>Rating: 1.16<br><br>harbor: 1.00<br>"
          ]
         ],
         "hovertemplate": "%{customdata}",
         "hovertext": [
          "s0m",
          "f0rsaken",
          "intro"
         ],
         "legendgroup": "harbor",
         "marker": {
          "color": "#FECB52",
          "opacity": 0.8,
          "size": 12,
          "symbol": "circle"
         },
         "mode": "markers+text",
         "name": "harbor",
         "orientation": "v",
         "showlegend": true,
         "text": [
          "s0m",
          "f0rsaken",
          "intro"
         ],
         "textposition": "top center",
         "type": "scatter",
         "x": [
          -3.272890567779541,
          2.9946563243865967,
          -2.7126922607421875
         ],
         "xaxis": "x",
         "y": [
          1.5603262186050415,
          -5.306639194488525,
          0.9543135762214661
         ],
         "yaxis": "y"
        },
        {
         "customdata": [
          [
           "<b>cloud</b><br>Team: GIA<br>Rating: 1.02<br><br>sova: 0.50<br>skye: 0.50<br>"
          ],
          [
           "<b>xffero</b><br>Team: RRQ<br>Rating: 1.10<br><br>sova: 0.42<br>astra: 0.26<br>brimstone: 0.11<br>omen: 0.11<br>fade: 0.05<br>reyna: 0.05<br>"
          ],
          [
           "<b>nzr</b><br>Team: LEV<br>Rating: 1.08<br><br>sova: 0.37<br>raze: 0.26<br>skye: 0.26<br>fade: 0.07<br>breach: 0.04<br>"
          ],
          [
           "<b>c0m</b><br>Team: EG<br>Rating: 1.07<br><br>sova: 0.47<br>viper: 0.40<br>breach: 0.09<br>brimstone: 0.02<br>fade: 0.02<br>"
          ],
          [
           "<b>laz</b><br>Team: ZETA<br>Rating: 1.06<br><br>sova: 0.32<br>skye: 0.27<br>fade: 0.18<br>chamber: 0.14<br>cypher: 0.05<br>viper: 0.05<br>"
          ],
          [
           "<b>sh1n</b><br>Team: KC<br>Rating: 0.97<br><br>sova: 0.29<br>breach: 0.24<br>skye: 0.24<br>fade: 0.12<br>astra: 0.12<br>"
          ],
          [
           "<b>zest</b><br>Team: DRX<br>Rating: 0.93<br><br>sova: 0.37<br>fade: 0.26<br>brimstone: 0.16<br>harbor: 0.16<br>astra: 0.05<br>"
          ],
          [
           "<b>jessievash</b><br>Team: TS<br>Rating: 0.95<br><br>sova: 0.62<br>skye: 0.12<br>killjoy: 0.12<br>harbor: 0.04<br>fade: 0.04<br>breach: 0.04<br>"
          ],
          [
           "<b>souhcni</b><br>Team: BBL<br>Rating: 0.93<br><br>sova: 0.38<br>fade: 0.15<br>brimstone: 0.08<br>breach: 0.08<br>harbor: 0.08<br>skye: 0.08<br>gekko: 0.08<br>killjoy: 0.08<br>"
          ],
          [
           "<b>eko</b><br>Team: GEN<br>Rating: 0.88<br><br>sova: 0.56<br>breach: 0.44<br>"
          ],
          [
           "<b>kon4n</b><br>Team: FUR<br>Rating: 0.88<br><br>sova: 0.67<br>skye: 0.33<br>"
          ]
         ],
         "hovertemplate": "%{customdata}",
         "hovertext": [
          "cloud",
          "xffero",
          "nzr",
          "c0m",
          "laz",
          "sh1n",
          "zest",
          "jessievash",
          "souhcni",
          "eko",
          "kon4n"
         ],
         "legendgroup": "sova",
         "marker": {
          "color": "#636efa",
          "opacity": 0.8,
          "size": 12,
          "symbol": "circle"
         },
         "mode": "markers+text",
         "name": "sova",
         "orientation": "v",
         "showlegend": true,
         "text": [
          "cloud",
          "xffero",
          "nzr",
          "c0m",
          "laz",
          "sh1n",
          "zest",
          "jessievash",
          "souhcni",
          "eko",
          "kon4n"
         ],
         "textposition": "top center",
         "type": "scatter",
         "x": [
          -4.639540672302246,
          -4.7625298500061035,
          -4.8377909660339355,
          -2.7007555961608887,
          -4.441443920135498,
          -3.922550916671753,
          -4.369714260101318,
          -4.690281391143799,
          -4.28944206237793,
          -3.650913953781128,
          -4.5910420417785645
         ],
         "xaxis": "x",
         "y": [
          -3.1583104133605957,
          -0.51092928647995,
          -2.95992374420166,
          -0.43380507826805115,
          -2.580047845840454,
          -2.286567211151123,
          -1.1849312782287598,
          -1.5698680877685547,
          -1.4435245990753174,
          -1.3225958347320557,
          -2.121718406677246
         ],
         "yaxis": "y"
        },
        {
         "customdata": [
          [
           "<b>nats</b><br>Team: TL<br>Rating: 1.11<br><br>cypher: 0.44<br>viper: 0.38<br>killjoy: 0.12<br>fade: 0.03<br>chamber: 0.03<br>"
          ]
         ],
         "hovertemplate": "%{customdata}",
         "hovertext": [
          "nats"
         ],
         "legendgroup": "cypher",
         "marker": {
          "color": "#EF553B",
          "opacity": 0.8,
          "size": 12,
          "symbol": "circle"
         },
         "mode": "markers+text",
         "name": "cypher",
         "orientation": "v",
         "showlegend": true,
         "text": [
          "nats"
         ],
         "textposition": "top center",
         "type": "scatter",
         "x": [
          0.5551300048828125
         ],
         "xaxis": "x",
         "y": [
          1.80757474899292
         ],
         "yaxis": "y"
        },
        {
         "customdata": [
          [
           "<b>zyppan</b><br>Team: NAVI<br>Rating: 1.00<br><br>kayo: 0.31<br>skye: 0.23<br>fade: 0.19<br>breach: 0.15<br>raze: 0.12<br>"
          ],
          [
           "<b>qraxs</b><br>Team: FUT<br>Rating: 0.96<br><br>kayo: 0.75<br>gekko: 0.21<br>sage: 0.04<br>"
          ],
          [
           "<b>saadhak</b><br>Team: LOUD<br>Rating: 0.99<br><br>kayo: 0.46<br>raze: 0.17<br>viper: 0.17<br>killjoy: 0.12<br>chamber: 0.08<br>"
          ],
          [
           "<b>goddead</b><br>Team: GEN<br>Rating: 0.88<br><br>kayo: 0.55<br>breach: 0.31<br>sage: 0.10<br>raze: 0.03<br>"
          ],
          [
           "<b>ayrin</b><br>Team: GE<br>Rating: 0.91<br><br>kayo: 0.60<br>brimstone: 0.10<br>harbor: 0.10<br>fade: 0.10<br>skye: 0.10<br>"
          ]
         ],
         "hovertemplate": "%{customdata}",
         "hovertext": [
          "zyppan",
          "qraxs",
          "saadhak",
          "goddead",
          "ayrin"
         ],
         "legendgroup": "kayo",
         "marker": {
          "color": "#00cc96",
          "opacity": 0.8,
          "size": 12,
          "symbol": "circle"
         },
         "mode": "markers+text",
         "name": "kayo",
         "orientation": "v",
         "showlegend": true,
         "text": [
          "zyppan",
          "qraxs",
          "saadhak",
          "goddead",
          "ayrin"
         ],
         "textposition": "top center",
         "type": "scatter",
         "x": [
          -1.0034810304641724,
          -0.4622403681278229,
          -0.20233996212482452,
          -0.8904910683631897,
          -0.4947144687175751
         ],
         "xaxis": "x",
         "y": [
          -2.3425939083099365,
          -1.8759791851043701,
          -1.346126675605774,
          -1.47641122341156,
          -2.06915020942688
         ],
         "yaxis": "y"
        },
        {
         "customdata": [
          [
           "<b>marved</b><br>Team: SEN<br>Rating: 0.88<br><br>brimstone: 0.41<br>astra: 0.41<br>viper: 0.18<br>"
          ]
         ],
         "hovertemplate": "%{customdata}",
         "hovertext": [
          "marved"
         ],
         "legendgroup": "brimstone",
         "marker": {
          "color": "#ab63fa",
          "opacity": 0.8,
          "size": 12,
          "symbol": "circle"
         },
         "mode": "markers+text",
         "name": "brimstone",
         "orientation": "v",
         "showlegend": true,
         "text": [
          "marved"
         ],
         "textposition": "top center",
         "type": "scatter",
         "x": [
          -4.463984489440918
         ],
         "xaxis": "x",
         "y": [
          0.8499400615692139
         ],
         "yaxis": "y"
        },
        {
         "customdata": [
          [
           "<b>cgrs</b><br>Team: PRX<br>Rating: 0.84<br><br>gekko: 0.50<br>skye: 0.19<br>breach: 0.12<br>killjoy: 0.12<br>fade: 0.06<br>"
          ],
          [
           "<b>lenne</b><br>Team: TS<br>Rating: 0.78<br><br>gekko: 1.00<br>"
          ]
         ],
         "hovertemplate": "%{customdata}",
         "hovertext": [
          "cgrs",
          "lenne"
         ],
         "legendgroup": "gekko",
         "marker": {
          "color": "#FFA15A",
          "opacity": 0.8,
          "size": 12,
          "symbol": "circle"
         },
         "mode": "markers+text",
         "name": "gekko",
         "orientation": "v",
         "showlegend": true,
         "text": [
          "cgrs",
          "lenne"
         ],
         "textposition": "top center",
         "type": "scatter",
         "x": [
          -1.5775084495544434,
          -0.5574691295623779
         ],
         "xaxis": "x",
         "y": [
          -3.9272382259368896,
          -3.975566864013672
         ],
         "yaxis": "y"
        }
       ],
       "layout": {
        "coloraxis": {
         "colorbar": {
          "title": {
           "text": "Rating"
          },
          "x": 1.1
         }
        },
        "height": 700,
        "legend": {
         "title": {
          "text": "favorite_agent"
         },
         "tracegroupgap": 0
        },
        "margin": {
         "b": 10,
         "l": 10,
         "r": 10,
         "t": 30
        },
        "template": {
         "data": {
          "bar": [
           {
            "error_x": {
             "color": "#2a3f5f"
            },
            "error_y": {
             "color": "#2a3f5f"
            },
            "marker": {
             "line": {
              "color": "#E5ECF6",
              "width": 0.5
             },
             "pattern": {
              "fillmode": "overlay",
              "size": 10,
              "solidity": 0.2
             }
            },
            "type": "bar"
           }
          ],
          "barpolar": [
           {
            "marker": {
             "line": {
              "color": "#E5ECF6",
              "width": 0.5
             },
             "pattern": {
              "fillmode": "overlay",
              "size": 10,
              "solidity": 0.2
             }
            },
            "type": "barpolar"
           }
          ],
          "carpet": [
           {
            "aaxis": {
             "endlinecolor": "#2a3f5f",
             "gridcolor": "white",
             "linecolor": "white",
             "minorgridcolor": "white",
             "startlinecolor": "#2a3f5f"
            },
            "baxis": {
             "endlinecolor": "#2a3f5f",
             "gridcolor": "white",
             "linecolor": "white",
             "minorgridcolor": "white",
             "startlinecolor": "#2a3f5f"
            },
            "type": "carpet"
           }
          ],
          "choropleth": [
           {
            "colorbar": {
             "outlinewidth": 0,
             "ticks": ""
            },
            "type": "choropleth"
           }
          ],
          "contour": [
           {
            "colorbar": {
             "outlinewidth": 0,
             "ticks": ""
            },
            "colorscale": [
             [
              0,
              "#0d0887"
             ],
             [
              0.1111111111111111,
              "#46039f"
             ],
             [
              0.2222222222222222,
              "#7201a8"
             ],
             [
              0.3333333333333333,
              "#9c179e"
             ],
             [
              0.4444444444444444,
              "#bd3786"
             ],
             [
              0.5555555555555556,
              "#d8576b"
             ],
             [
              0.6666666666666666,
              "#ed7953"
             ],
             [
              0.7777777777777778,
              "#fb9f3a"
             ],
             [
              0.8888888888888888,
              "#fdca26"
             ],
             [
              1,
              "#f0f921"
             ]
            ],
            "type": "contour"
           }
          ],
          "contourcarpet": [
           {
            "colorbar": {
             "outlinewidth": 0,
             "ticks": ""
            },
            "type": "contourcarpet"
           }
          ],
          "heatmap": [
           {
            "colorbar": {
             "outlinewidth": 0,
             "ticks": ""
            },
            "colorscale": [
             [
              0,
              "#0d0887"
             ],
             [
              0.1111111111111111,
              "#46039f"
             ],
             [
              0.2222222222222222,
              "#7201a8"
             ],
             [
              0.3333333333333333,
              "#9c179e"
             ],
             [
              0.4444444444444444,
              "#bd3786"
             ],
             [
              0.5555555555555556,
              "#d8576b"
             ],
             [
              0.6666666666666666,
              "#ed7953"
             ],
             [
              0.7777777777777778,
              "#fb9f3a"
             ],
             [
              0.8888888888888888,
              "#fdca26"
             ],
             [
              1,
              "#f0f921"
             ]
            ],
            "type": "heatmap"
           }
          ],
          "heatmapgl": [
           {
            "colorbar": {
             "outlinewidth": 0,
             "ticks": ""
            },
            "colorscale": [
             [
              0,
              "#0d0887"
             ],
             [
              0.1111111111111111,
              "#46039f"
             ],
             [
              0.2222222222222222,
              "#7201a8"
             ],
             [
              0.3333333333333333,
              "#9c179e"
             ],
             [
              0.4444444444444444,
              "#bd3786"
             ],
             [
              0.5555555555555556,
              "#d8576b"
             ],
             [
              0.6666666666666666,
              "#ed7953"
             ],
             [
              0.7777777777777778,
              "#fb9f3a"
             ],
             [
              0.8888888888888888,
              "#fdca26"
             ],
             [
              1,
              "#f0f921"
             ]
            ],
            "type": "heatmapgl"
           }
          ],
          "histogram": [
           {
            "marker": {
             "pattern": {
              "fillmode": "overlay",
              "size": 10,
              "solidity": 0.2
             }
            },
            "type": "histogram"
           }
          ],
          "histogram2d": [
           {
            "colorbar": {
             "outlinewidth": 0,
             "ticks": ""
            },
            "colorscale": [
             [
              0,
              "#0d0887"
             ],
             [
              0.1111111111111111,
              "#46039f"
             ],
             [
              0.2222222222222222,
              "#7201a8"
             ],
             [
              0.3333333333333333,
              "#9c179e"
             ],
             [
              0.4444444444444444,
              "#bd3786"
             ],
             [
              0.5555555555555556,
              "#d8576b"
             ],
             [
              0.6666666666666666,
              "#ed7953"
             ],
             [
              0.7777777777777778,
              "#fb9f3a"
             ],
             [
              0.8888888888888888,
              "#fdca26"
             ],
             [
              1,
              "#f0f921"
             ]
            ],
            "type": "histogram2d"
           }
          ],
          "histogram2dcontour": [
           {
            "colorbar": {
             "outlinewidth": 0,
             "ticks": ""
            },
            "colorscale": [
             [
              0,
              "#0d0887"
             ],
             [
              0.1111111111111111,
              "#46039f"
             ],
             [
              0.2222222222222222,
              "#7201a8"
             ],
             [
              0.3333333333333333,
              "#9c179e"
             ],
             [
              0.4444444444444444,
              "#bd3786"
             ],
             [
              0.5555555555555556,
              "#d8576b"
             ],
             [
              0.6666666666666666,
              "#ed7953"
             ],
             [
              0.7777777777777778,
              "#fb9f3a"
             ],
             [
              0.8888888888888888,
              "#fdca26"
             ],
             [
              1,
              "#f0f921"
             ]
            ],
            "type": "histogram2dcontour"
           }
          ],
          "mesh3d": [
           {
            "colorbar": {
             "outlinewidth": 0,
             "ticks": ""
            },
            "type": "mesh3d"
           }
          ],
          "parcoords": [
           {
            "line": {
             "colorbar": {
              "outlinewidth": 0,
              "ticks": ""
             }
            },
            "type": "parcoords"
           }
          ],
          "pie": [
           {
            "automargin": true,
            "type": "pie"
           }
          ],
          "scatter": [
           {
            "fillpattern": {
             "fillmode": "overlay",
             "size": 10,
             "solidity": 0.2
            },
            "type": "scatter"
           }
          ],
          "scatter3d": [
           {
            "line": {
             "colorbar": {
              "outlinewidth": 0,
              "ticks": ""
             }
            },
            "marker": {
             "colorbar": {
              "outlinewidth": 0,
              "ticks": ""
             }
            },
            "type": "scatter3d"
           }
          ],
          "scattercarpet": [
           {
            "marker": {
             "colorbar": {
              "outlinewidth": 0,
              "ticks": ""
             }
            },
            "type": "scattercarpet"
           }
          ],
          "scattergeo": [
           {
            "marker": {
             "colorbar": {
              "outlinewidth": 0,
              "ticks": ""
             }
            },
            "type": "scattergeo"
           }
          ],
          "scattergl": [
           {
            "marker": {
             "colorbar": {
              "outlinewidth": 0,
              "ticks": ""
             }
            },
            "type": "scattergl"
           }
          ],
          "scattermapbox": [
           {
            "marker": {
             "colorbar": {
              "outlinewidth": 0,
              "ticks": ""
             }
            },
            "type": "scattermapbox"
           }
          ],
          "scatterpolar": [
           {
            "marker": {
             "colorbar": {
              "outlinewidth": 0,
              "ticks": ""
             }
            },
            "type": "scatterpolar"
           }
          ],
          "scatterpolargl": [
           {
            "marker": {
             "colorbar": {
              "outlinewidth": 0,
              "ticks": ""
             }
            },
            "type": "scatterpolargl"
           }
          ],
          "scatterternary": [
           {
            "marker": {
             "colorbar": {
              "outlinewidth": 0,
              "ticks": ""
             }
            },
            "type": "scatterternary"
           }
          ],
          "surface": [
           {
            "colorbar": {
             "outlinewidth": 0,
             "ticks": ""
            },
            "colorscale": [
             [
              0,
              "#0d0887"
             ],
             [
              0.1111111111111111,
              "#46039f"
             ],
             [
              0.2222222222222222,
              "#7201a8"
             ],
             [
              0.3333333333333333,
              "#9c179e"
             ],
             [
              0.4444444444444444,
              "#bd3786"
             ],
             [
              0.5555555555555556,
              "#d8576b"
             ],
             [
              0.6666666666666666,
              "#ed7953"
             ],
             [
              0.7777777777777778,
              "#fb9f3a"
             ],
             [
              0.8888888888888888,
              "#fdca26"
             ],
             [
              1,
              "#f0f921"
             ]
            ],
            "type": "surface"
           }
          ],
          "table": [
           {
            "cells": {
             "fill": {
              "color": "#EBF0F8"
             },
             "line": {
              "color": "white"
             }
            },
            "header": {
             "fill": {
              "color": "#C8D4E3"
             },
             "line": {
              "color": "white"
             }
            },
            "type": "table"
           }
          ]
         },
         "layout": {
          "annotationdefaults": {
           "arrowcolor": "#2a3f5f",
           "arrowhead": 0,
           "arrowwidth": 1
          },
          "autotypenumbers": "strict",
          "coloraxis": {
           "colorbar": {
            "outlinewidth": 0,
            "ticks": ""
           }
          },
          "colorscale": {
           "diverging": [
            [
             0,
             "#8e0152"
            ],
            [
             0.1,
             "#c51b7d"
            ],
            [
             0.2,
             "#de77ae"
            ],
            [
             0.3,
             "#f1b6da"
            ],
            [
             0.4,
             "#fde0ef"
            ],
            [
             0.5,
             "#f7f7f7"
            ],
            [
             0.6,
             "#e6f5d0"
            ],
            [
             0.7,
             "#b8e186"
            ],
            [
             0.8,
             "#7fbc41"
            ],
            [
             0.9,
             "#4d9221"
            ],
            [
             1,
             "#276419"
            ]
           ],
           "sequential": [
            [
             0,
             "#0d0887"
            ],
            [
             0.1111111111111111,
             "#46039f"
            ],
            [
             0.2222222222222222,
             "#7201a8"
            ],
            [
             0.3333333333333333,
             "#9c179e"
            ],
            [
             0.4444444444444444,
             "#bd3786"
            ],
            [
             0.5555555555555556,
             "#d8576b"
            ],
            [
             0.6666666666666666,
             "#ed7953"
            ],
            [
             0.7777777777777778,
             "#fb9f3a"
            ],
            [
             0.8888888888888888,
             "#fdca26"
            ],
            [
             1,
             "#f0f921"
            ]
           ],
           "sequentialminus": [
            [
             0,
             "#0d0887"
            ],
            [
             0.1111111111111111,
             "#46039f"
            ],
            [
             0.2222222222222222,
             "#7201a8"
            ],
            [
             0.3333333333333333,
             "#9c179e"
            ],
            [
             0.4444444444444444,
             "#bd3786"
            ],
            [
             0.5555555555555556,
             "#d8576b"
            ],
            [
             0.6666666666666666,
             "#ed7953"
            ],
            [
             0.7777777777777778,
             "#fb9f3a"
            ],
            [
             0.8888888888888888,
             "#fdca26"
            ],
            [
             1,
             "#f0f921"
            ]
           ]
          },
          "colorway": [
           "#636efa",
           "#EF553B",
           "#00cc96",
           "#ab63fa",
           "#FFA15A",
           "#19d3f3",
           "#FF6692",
           "#B6E880",
           "#FF97FF",
           "#FECB52"
          ],
          "font": {
           "color": "#2a3f5f"
          },
          "geo": {
           "bgcolor": "white",
           "lakecolor": "white",
           "landcolor": "#E5ECF6",
           "showlakes": true,
           "showland": true,
           "subunitcolor": "white"
          },
          "hoverlabel": {
           "align": "left"
          },
          "hovermode": "closest",
          "mapbox": {
           "style": "light"
          },
          "paper_bgcolor": "white",
          "plot_bgcolor": "#E5ECF6",
          "polar": {
           "angularaxis": {
            "gridcolor": "white",
            "linecolor": "white",
            "ticks": ""
           },
           "bgcolor": "#E5ECF6",
           "radialaxis": {
            "gridcolor": "white",
            "linecolor": "white",
            "ticks": ""
           }
          },
          "scene": {
           "xaxis": {
            "backgroundcolor": "#E5ECF6",
            "gridcolor": "white",
            "gridwidth": 2,
            "linecolor": "white",
            "showbackground": true,
            "ticks": "",
            "zerolinecolor": "white"
           },
           "yaxis": {
            "backgroundcolor": "#E5ECF6",
            "gridcolor": "white",
            "gridwidth": 2,
            "linecolor": "white",
            "showbackground": true,
            "ticks": "",
            "zerolinecolor": "white"
           },
           "zaxis": {
            "backgroundcolor": "#E5ECF6",
            "gridcolor": "white",
            "gridwidth": 2,
            "linecolor": "white",
            "showbackground": true,
            "ticks": "",
            "zerolinecolor": "white"
           }
          },
          "shapedefaults": {
           "line": {
            "color": "#2a3f5f"
           }
          },
          "ternary": {
           "aaxis": {
            "gridcolor": "white",
            "linecolor": "white",
            "ticks": ""
           },
           "baxis": {
            "gridcolor": "white",
            "linecolor": "white",
            "ticks": ""
           },
           "bgcolor": "#E5ECF6",
           "caxis": {
            "gridcolor": "white",
            "linecolor": "white",
            "ticks": ""
           }
          },
          "title": {
           "x": 0.05
          },
          "xaxis": {
           "automargin": true,
           "gridcolor": "white",
           "linecolor": "white",
           "ticks": "",
           "title": {
            "standoff": 15
           },
           "zerolinecolor": "white",
           "zerolinewidth": 2
          },
          "yaxis": {
           "automargin": true,
           "gridcolor": "white",
           "linecolor": "white",
           "ticks": "",
           "title": {
            "standoff": 15
           },
           "zerolinecolor": "white",
           "zerolinewidth": 2
          }
         }
        },
        "title": {
         "text": "UMAP plot of player agent picks, span=90d"
        },
        "width": 900,
        "xaxis": {
         "anchor": "y",
         "domain": [
          0,
          1
         ],
         "title": {
          "text": "Feature 1"
         }
        },
        "yaxis": {
         "anchor": "x",
         "domain": [
          0,
          1
         ],
         "title": {
          "text": "Feature 2"
         }
        }
       }
      }
     },
     "metadata": {},
     "output_type": "display_data"
    }
   ],
   "source": [
    "tsne = UMAP(n_neighbors=20, min_dist=0.7, metric=\"correlation\", random_state=42)\n",
    "# tsne = PCA(n_components=2, random_state=42)\n",
    "# tsne = TSNE(n_components=2, random_state=42)\n",
    "df[\"annotation\"] = df.apply(get_annotation, axis=1)\n",
    "df[\"favorite_agent\"] = df[agent_roles.keys()].idxmax(axis=1)\n",
    "val = df[list(agent_roles.keys())].values\n",
    "X = tsne.fit_transform(val)\n",
    "df[\"x\"] = X[:, 0]\n",
    "df[\"y\"] = X[:, 1]\n",
    "fig = px.scatter(\n",
    "    df,\n",
    "    x=\"x\",\n",
    "    y=\"y\",\n",
    "    hover_name=\"name\",\n",
    "    text=\"name\",\n",
    "    color=\"favorite_agent\",\n",
    "    # symbol=\"region\",\n",
    "    custom_data=[\"annotation\"],\n",
    "    width=900,\n",
    "    height=700,\n",
    ")\n",
    "# fig.update_layout(coloraxis_colorbar=dict(x=1.1))\n",
    "fig.update_layout(\n",
    "    coloraxis_colorbar=dict(x=1.1, title=\"Rating\"),\n",
    "    # legend=dict(orientation=\"h\", yanchor=\"bottom\", y=0, xanchor=\"left\", x=0, title=\"Region\", tracegroupgap=10),\n",
    "    margin=dict(l=10, r=10, b=10, t=30),\n",
    "    title=f\"UMAP plot of player agent picks, span={span}\",\n",
    "    xaxis_title=\"Feature 1\",\n",
    "    yaxis_title=\"Feature 2\",\n",
    ")\n",
    "fig.update_traces(\n",
    "    marker=dict(\n",
    "        size=12,\n",
    "        opacity=0.8,\n",
    "    ),\n",
    "    textposition=\"top center\",\n",
    "    hovertemplate=\"%{customdata}\",\n",
    ")\n",
    "\n",
    "fig.write_html(f\"figs/players-{span}.html\")\n",
    "fig.write_image(f\"figs/players-{span}.png\", scale=2)\n",
    "\n",
    "fig.show()"
   ]
  }
 ],
 "metadata": {
  "kernelspec": {
   "display_name": "rindti",
   "language": "python",
   "name": "python3"
  },
  "language_info": {
   "codemirror_mode": {
    "name": "ipython",
    "version": 3
   },
   "file_extension": ".py",
   "mimetype": "text/x-python",
   "name": "python",
   "nbconvert_exporter": "python",
   "pygments_lexer": "ipython3",
   "version": "3.8.13"
  },
  "orig_nbformat": 4
 },
 "nbformat": 4,
 "nbformat_minor": 2
}
