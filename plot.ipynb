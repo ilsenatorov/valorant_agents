{
 "cells": [
  {
   "cell_type": "code",
   "execution_count": 128,
   "metadata": {},
   "outputs": [],
   "source": [
    "import plotly.express as px\n",
    "import pandas as pd\n",
    "import numpy as np\n",
    "from sklearn.decomposition import PCA\n",
    "from sklearn.manifold import TSNE\n",
    "from umap import UMAP\n",
    "import pickle\n",
    "from valorant import *\n",
    "import plotly.graph_objects as go"
   ]
  },
  {
   "cell_type": "code",
   "execution_count": 129,
   "metadata": {},
   "outputs": [],
   "source": [
    "def get_region(team):\n",
    "    if team in emea:\n",
    "        return \"EMEA\"\n",
    "    elif team in amer:\n",
    "        return \"AMERICAS\"\n",
    "    elif team in apac:\n",
    "        return \"PACIFIC\"\n",
    "    else:\n",
    "        return \"OTHER\"\n"
   ]
  },
  {
   "cell_type": "code",
   "execution_count": 138,
   "metadata": {},
   "outputs": [],
   "source": [
    "span = \"all\"\n",
    "with open(f\"data/data-{span}.pkl\", \"rb\") as f:\n",
    "    data = pickle.load(f)"
   ]
  },
  {
   "cell_type": "code",
   "execution_count": 139,
   "metadata": {},
   "outputs": [],
   "source": [
    "df = []\n",
    "for i in data.values():\n",
    "    columns = {\"name\": i[\"name\"], \"team\": i[\"team\"], \"rating\": i[\"rating\"]}\n",
    "    for agent in agent_roles.keys():\n",
    "        if agent in i[\"stats\"].index:\n",
    "            columns[agent] = i[\"stats\"].loc[agent, \"Usage count\"]\n",
    "        else:\n",
    "            columns[agent] = 0\n",
    "    df.append(columns)\n",
    "df = pd.DataFrame(df)\n",
    "df[\"region\"] = df[\"team\"].apply(lambda x: get_region(x))\n",
    "df = df[df[\"region\"] != \"OTHER\"]"
   ]
  },
  {
   "cell_type": "code",
   "execution_count": 140,
   "metadata": {},
   "outputs": [
    {
     "data": {
      "application/vnd.plotly.v1+json": {
       "config": {
        "plotlyServerURL": "https://plot.ly"
       },
       "data": [
        {
         "hovertemplate": "color=controller<br>x=%{x}<br>y=%{y}<br>size=%{marker.size}<br>text=%{text}<extra></extra>",
         "legendgroup": "controller",
         "marker": {
          "color": "#636efa",
          "size": [
           1016,
           2591,
           3315,
           2087,
           200
          ],
          "sizemode": "area",
          "sizeref": 2.0866666666666664,
          "symbol": "circle"
         },
         "mode": "markers+text",
         "name": "controller",
         "orientation": "v",
         "showlegend": true,
         "text": [
          "brimstone",
          "viper",
          "omen",
          "astra",
          "harbor"
         ],
         "type": "scatter",
         "x": [
          11.270718574523926,
          10.589360237121582,
          11.480881690979004,
          11.217267036437988,
          11.35314655303955
         ],
         "xaxis": "x",
         "y": [
          4.905065059661865,
          4.370407581329346,
          3.9131226539611816,
          4.356844902038574,
          5.516660213470459
         ],
         "yaxis": "y"
        },
        {
         "hovertemplate": "color=sentinel<br>x=%{x}<br>y=%{y}<br>size=%{marker.size}<br>text=%{text}<extra></extra>",
         "legendgroup": "sentinel",
         "marker": {
          "color": "#EF553B",
          "size": [
           2582,
           2125,
           2596,
           1759
          ],
          "sizemode": "area",
          "sizeref": 2.0866666666666664,
          "symbol": "circle"
         },
         "mode": "markers+text",
         "name": "sentinel",
         "orientation": "v",
         "showlegend": true,
         "text": [
          "killjoy",
          "cypher",
          "sage",
          "chamber"
         ],
         "type": "scatter",
         "x": [
          9.764328002929688,
          10.089890480041504,
          11.210898399353027,
          9.941513061523438
         ],
         "xaxis": "x",
         "y": [
          4.634452819824219,
          4.88867712020874,
          7.376861095428467,
          6.109746932983398
         ],
         "yaxis": "y"
        },
        {
         "hovertemplate": "color=initiator<br>x=%{x}<br>y=%{y}<br>size=%{marker.size}<br>text=%{text}<extra></extra>",
         "legendgroup": "initiator",
         "marker": {
          "color": "#00cc96",
          "size": [
           5657,
           2068,
           2461,
           1575,
           819,
           52
          ],
          "sizemode": "area",
          "sizeref": 2.0866666666666664,
          "symbol": "circle"
         },
         "mode": "markers+text",
         "name": "initiator",
         "orientation": "v",
         "showlegend": true,
         "text": [
          "sova",
          "breach",
          "skye",
          "kayo",
          "fade",
          "gekko"
         ],
         "type": "scatter",
         "x": [
          12.150456428527832,
          12.099461555480957,
          11.818536758422852,
          11.37611198425293,
          11.639579772949219,
          11.017572402954102
         ],
         "xaxis": "x",
         "y": [
          6.837626934051514,
          6.236445903778076,
          7.199872970581055,
          6.79594087600708,
          6.159742832183838,
          5.959328651428223
         ],
         "yaxis": "y"
        },
        {
         "hovertemplate": "color=duelist<br>x=%{x}<br>y=%{y}<br>size=%{marker.size}<br>text=%{text}<extra></extra>",
         "legendgroup": "duelist",
         "marker": {
          "color": "#ab63fa",
          "size": [
           929,
           7512,
           1295,
           4606,
           116,
           383
          ],
          "sizemode": "area",
          "sizeref": 2.0866666666666664,
          "symbol": "circle"
         },
         "mode": "markers+text",
         "name": "duelist",
         "orientation": "v",
         "showlegend": true,
         "text": [
          "phoenix",
          "jett",
          "reyna",
          "raze",
          "yoru",
          "neon"
         ],
         "type": "scatter",
         "x": [
          10.76567268371582,
          9.668392181396484,
          10.312938690185547,
          10.233092308044434,
          10.65157699584961,
          10.456086158752441
         ],
         "xaxis": "x",
         "y": [
          6.993281364440918,
          6.868753910064697,
          6.865880489349365,
          7.501719951629639,
          5.477992534637451,
          6.152254104614258
         ],
         "yaxis": "y"
        }
       ],
       "layout": {
        "coloraxis": {
         "colorbar": {
          "title": {
           "text": "Usage count"
          },
          "x": 1.1
         }
        },
        "height": 700,
        "legend": {
         "itemsizing": "constant",
         "orientation": "h",
         "title": {
          "text": "Role"
         },
         "tracegroupgap": 0,
         "x": 0,
         "xanchor": "left",
         "y": 0,
         "yanchor": "bottom"
        },
        "margin": {
         "b": 10,
         "l": 10,
         "r": 10,
         "t": 30
        },
        "template": {
         "data": {
          "bar": [
           {
            "error_x": {
             "color": "#2a3f5f"
            },
            "error_y": {
             "color": "#2a3f5f"
            },
            "marker": {
             "line": {
              "color": "#E5ECF6",
              "width": 0.5
             },
             "pattern": {
              "fillmode": "overlay",
              "size": 10,
              "solidity": 0.2
             }
            },
            "type": "bar"
           }
          ],
          "barpolar": [
           {
            "marker": {
             "line": {
              "color": "#E5ECF6",
              "width": 0.5
             },
             "pattern": {
              "fillmode": "overlay",
              "size": 10,
              "solidity": 0.2
             }
            },
            "type": "barpolar"
           }
          ],
          "carpet": [
           {
            "aaxis": {
             "endlinecolor": "#2a3f5f",
             "gridcolor": "white",
             "linecolor": "white",
             "minorgridcolor": "white",
             "startlinecolor": "#2a3f5f"
            },
            "baxis": {
             "endlinecolor": "#2a3f5f",
             "gridcolor": "white",
             "linecolor": "white",
             "minorgridcolor": "white",
             "startlinecolor": "#2a3f5f"
            },
            "type": "carpet"
           }
          ],
          "choropleth": [
           {
            "colorbar": {
             "outlinewidth": 0,
             "ticks": ""
            },
            "type": "choropleth"
           }
          ],
          "contour": [
           {
            "colorbar": {
             "outlinewidth": 0,
             "ticks": ""
            },
            "colorscale": [
             [
              0,
              "#0d0887"
             ],
             [
              0.1111111111111111,
              "#46039f"
             ],
             [
              0.2222222222222222,
              "#7201a8"
             ],
             [
              0.3333333333333333,
              "#9c179e"
             ],
             [
              0.4444444444444444,
              "#bd3786"
             ],
             [
              0.5555555555555556,
              "#d8576b"
             ],
             [
              0.6666666666666666,
              "#ed7953"
             ],
             [
              0.7777777777777778,
              "#fb9f3a"
             ],
             [
              0.8888888888888888,
              "#fdca26"
             ],
             [
              1,
              "#f0f921"
             ]
            ],
            "type": "contour"
           }
          ],
          "contourcarpet": [
           {
            "colorbar": {
             "outlinewidth": 0,
             "ticks": ""
            },
            "type": "contourcarpet"
           }
          ],
          "heatmap": [
           {
            "colorbar": {
             "outlinewidth": 0,
             "ticks": ""
            },
            "colorscale": [
             [
              0,
              "#0d0887"
             ],
             [
              0.1111111111111111,
              "#46039f"
             ],
             [
              0.2222222222222222,
              "#7201a8"
             ],
             [
              0.3333333333333333,
              "#9c179e"
             ],
             [
              0.4444444444444444,
              "#bd3786"
             ],
             [
              0.5555555555555556,
              "#d8576b"
             ],
             [
              0.6666666666666666,
              "#ed7953"
             ],
             [
              0.7777777777777778,
              "#fb9f3a"
             ],
             [
              0.8888888888888888,
              "#fdca26"
             ],
             [
              1,
              "#f0f921"
             ]
            ],
            "type": "heatmap"
           }
          ],
          "heatmapgl": [
           {
            "colorbar": {
             "outlinewidth": 0,
             "ticks": ""
            },
            "colorscale": [
             [
              0,
              "#0d0887"
             ],
             [
              0.1111111111111111,
              "#46039f"
             ],
             [
              0.2222222222222222,
              "#7201a8"
             ],
             [
              0.3333333333333333,
              "#9c179e"
             ],
             [
              0.4444444444444444,
              "#bd3786"
             ],
             [
              0.5555555555555556,
              "#d8576b"
             ],
             [
              0.6666666666666666,
              "#ed7953"
             ],
             [
              0.7777777777777778,
              "#fb9f3a"
             ],
             [
              0.8888888888888888,
              "#fdca26"
             ],
             [
              1,
              "#f0f921"
             ]
            ],
            "type": "heatmapgl"
           }
          ],
          "histogram": [
           {
            "marker": {
             "pattern": {
              "fillmode": "overlay",
              "size": 10,
              "solidity": 0.2
             }
            },
            "type": "histogram"
           }
          ],
          "histogram2d": [
           {
            "colorbar": {
             "outlinewidth": 0,
             "ticks": ""
            },
            "colorscale": [
             [
              0,
              "#0d0887"
             ],
             [
              0.1111111111111111,
              "#46039f"
             ],
             [
              0.2222222222222222,
              "#7201a8"
             ],
             [
              0.3333333333333333,
              "#9c179e"
             ],
             [
              0.4444444444444444,
              "#bd3786"
             ],
             [
              0.5555555555555556,
              "#d8576b"
             ],
             [
              0.6666666666666666,
              "#ed7953"
             ],
             [
              0.7777777777777778,
              "#fb9f3a"
             ],
             [
              0.8888888888888888,
              "#fdca26"
             ],
             [
              1,
              "#f0f921"
             ]
            ],
            "type": "histogram2d"
           }
          ],
          "histogram2dcontour": [
           {
            "colorbar": {
             "outlinewidth": 0,
             "ticks": ""
            },
            "colorscale": [
             [
              0,
              "#0d0887"
             ],
             [
              0.1111111111111111,
              "#46039f"
             ],
             [
              0.2222222222222222,
              "#7201a8"
             ],
             [
              0.3333333333333333,
              "#9c179e"
             ],
             [
              0.4444444444444444,
              "#bd3786"
             ],
             [
              0.5555555555555556,
              "#d8576b"
             ],
             [
              0.6666666666666666,
              "#ed7953"
             ],
             [
              0.7777777777777778,
              "#fb9f3a"
             ],
             [
              0.8888888888888888,
              "#fdca26"
             ],
             [
              1,
              "#f0f921"
             ]
            ],
            "type": "histogram2dcontour"
           }
          ],
          "mesh3d": [
           {
            "colorbar": {
             "outlinewidth": 0,
             "ticks": ""
            },
            "type": "mesh3d"
           }
          ],
          "parcoords": [
           {
            "line": {
             "colorbar": {
              "outlinewidth": 0,
              "ticks": ""
             }
            },
            "type": "parcoords"
           }
          ],
          "pie": [
           {
            "automargin": true,
            "type": "pie"
           }
          ],
          "scatter": [
           {
            "fillpattern": {
             "fillmode": "overlay",
             "size": 10,
             "solidity": 0.2
            },
            "type": "scatter"
           }
          ],
          "scatter3d": [
           {
            "line": {
             "colorbar": {
              "outlinewidth": 0,
              "ticks": ""
             }
            },
            "marker": {
             "colorbar": {
              "outlinewidth": 0,
              "ticks": ""
             }
            },
            "type": "scatter3d"
           }
          ],
          "scattercarpet": [
           {
            "marker": {
             "colorbar": {
              "outlinewidth": 0,
              "ticks": ""
             }
            },
            "type": "scattercarpet"
           }
          ],
          "scattergeo": [
           {
            "marker": {
             "colorbar": {
              "outlinewidth": 0,
              "ticks": ""
             }
            },
            "type": "scattergeo"
           }
          ],
          "scattergl": [
           {
            "marker": {
             "colorbar": {
              "outlinewidth": 0,
              "ticks": ""
             }
            },
            "type": "scattergl"
           }
          ],
          "scattermapbox": [
           {
            "marker": {
             "colorbar": {
              "outlinewidth": 0,
              "ticks": ""
             }
            },
            "type": "scattermapbox"
           }
          ],
          "scatterpolar": [
           {
            "marker": {
             "colorbar": {
              "outlinewidth": 0,
              "ticks": ""
             }
            },
            "type": "scatterpolar"
           }
          ],
          "scatterpolargl": [
           {
            "marker": {
             "colorbar": {
              "outlinewidth": 0,
              "ticks": ""
             }
            },
            "type": "scatterpolargl"
           }
          ],
          "scatterternary": [
           {
            "marker": {
             "colorbar": {
              "outlinewidth": 0,
              "ticks": ""
             }
            },
            "type": "scatterternary"
           }
          ],
          "surface": [
           {
            "colorbar": {
             "outlinewidth": 0,
             "ticks": ""
            },
            "colorscale": [
             [
              0,
              "#0d0887"
             ],
             [
              0.1111111111111111,
              "#46039f"
             ],
             [
              0.2222222222222222,
              "#7201a8"
             ],
             [
              0.3333333333333333,
              "#9c179e"
             ],
             [
              0.4444444444444444,
              "#bd3786"
             ],
             [
              0.5555555555555556,
              "#d8576b"
             ],
             [
              0.6666666666666666,
              "#ed7953"
             ],
             [
              0.7777777777777778,
              "#fb9f3a"
             ],
             [
              0.8888888888888888,
              "#fdca26"
             ],
             [
              1,
              "#f0f921"
             ]
            ],
            "type": "surface"
           }
          ],
          "table": [
           {
            "cells": {
             "fill": {
              "color": "#EBF0F8"
             },
             "line": {
              "color": "white"
             }
            },
            "header": {
             "fill": {
              "color": "#C8D4E3"
             },
             "line": {
              "color": "white"
             }
            },
            "type": "table"
           }
          ]
         },
         "layout": {
          "annotationdefaults": {
           "arrowcolor": "#2a3f5f",
           "arrowhead": 0,
           "arrowwidth": 1
          },
          "autotypenumbers": "strict",
          "coloraxis": {
           "colorbar": {
            "outlinewidth": 0,
            "ticks": ""
           }
          },
          "colorscale": {
           "diverging": [
            [
             0,
             "#8e0152"
            ],
            [
             0.1,
             "#c51b7d"
            ],
            [
             0.2,
             "#de77ae"
            ],
            [
             0.3,
             "#f1b6da"
            ],
            [
             0.4,
             "#fde0ef"
            ],
            [
             0.5,
             "#f7f7f7"
            ],
            [
             0.6,
             "#e6f5d0"
            ],
            [
             0.7,
             "#b8e186"
            ],
            [
             0.8,
             "#7fbc41"
            ],
            [
             0.9,
             "#4d9221"
            ],
            [
             1,
             "#276419"
            ]
           ],
           "sequential": [
            [
             0,
             "#0d0887"
            ],
            [
             0.1111111111111111,
             "#46039f"
            ],
            [
             0.2222222222222222,
             "#7201a8"
            ],
            [
             0.3333333333333333,
             "#9c179e"
            ],
            [
             0.4444444444444444,
             "#bd3786"
            ],
            [
             0.5555555555555556,
             "#d8576b"
            ],
            [
             0.6666666666666666,
             "#ed7953"
            ],
            [
             0.7777777777777778,
             "#fb9f3a"
            ],
            [
             0.8888888888888888,
             "#fdca26"
            ],
            [
             1,
             "#f0f921"
            ]
           ],
           "sequentialminus": [
            [
             0,
             "#0d0887"
            ],
            [
             0.1111111111111111,
             "#46039f"
            ],
            [
             0.2222222222222222,
             "#7201a8"
            ],
            [
             0.3333333333333333,
             "#9c179e"
            ],
            [
             0.4444444444444444,
             "#bd3786"
            ],
            [
             0.5555555555555556,
             "#d8576b"
            ],
            [
             0.6666666666666666,
             "#ed7953"
            ],
            [
             0.7777777777777778,
             "#fb9f3a"
            ],
            [
             0.8888888888888888,
             "#fdca26"
            ],
            [
             1,
             "#f0f921"
            ]
           ]
          },
          "colorway": [
           "#636efa",
           "#EF553B",
           "#00cc96",
           "#ab63fa",
           "#FFA15A",
           "#19d3f3",
           "#FF6692",
           "#B6E880",
           "#FF97FF",
           "#FECB52"
          ],
          "font": {
           "color": "#2a3f5f"
          },
          "geo": {
           "bgcolor": "white",
           "lakecolor": "white",
           "landcolor": "#E5ECF6",
           "showlakes": true,
           "showland": true,
           "subunitcolor": "white"
          },
          "hoverlabel": {
           "align": "left"
          },
          "hovermode": "closest",
          "mapbox": {
           "style": "light"
          },
          "paper_bgcolor": "white",
          "plot_bgcolor": "#E5ECF6",
          "polar": {
           "angularaxis": {
            "gridcolor": "white",
            "linecolor": "white",
            "ticks": ""
           },
           "bgcolor": "#E5ECF6",
           "radialaxis": {
            "gridcolor": "white",
            "linecolor": "white",
            "ticks": ""
           }
          },
          "scene": {
           "xaxis": {
            "backgroundcolor": "#E5ECF6",
            "gridcolor": "white",
            "gridwidth": 2,
            "linecolor": "white",
            "showbackground": true,
            "ticks": "",
            "zerolinecolor": "white"
           },
           "yaxis": {
            "backgroundcolor": "#E5ECF6",
            "gridcolor": "white",
            "gridwidth": 2,
            "linecolor": "white",
            "showbackground": true,
            "ticks": "",
            "zerolinecolor": "white"
           },
           "zaxis": {
            "backgroundcolor": "#E5ECF6",
            "gridcolor": "white",
            "gridwidth": 2,
            "linecolor": "white",
            "showbackground": true,
            "ticks": "",
            "zerolinecolor": "white"
           }
          },
          "shapedefaults": {
           "line": {
            "color": "#2a3f5f"
           }
          },
          "ternary": {
           "aaxis": {
            "gridcolor": "white",
            "linecolor": "white",
            "ticks": ""
           },
           "baxis": {
            "gridcolor": "white",
            "linecolor": "white",
            "ticks": ""
           },
           "bgcolor": "#E5ECF6",
           "caxis": {
            "gridcolor": "white",
            "linecolor": "white",
            "ticks": ""
           }
          },
          "title": {
           "x": 0.05
          },
          "xaxis": {
           "automargin": true,
           "gridcolor": "white",
           "linecolor": "white",
           "ticks": "",
           "title": {
            "standoff": 15
           },
           "zerolinecolor": "white",
           "zerolinewidth": 2
          },
          "yaxis": {
           "automargin": true,
           "gridcolor": "white",
           "linecolor": "white",
           "ticks": "",
           "title": {
            "standoff": 15
           },
           "zerolinecolor": "white",
           "zerolinewidth": 2
          }
         }
        },
        "title": {
         "text": "UMAP plot of agent usage, span=all"
        },
        "width": 700,
        "xaxis": {
         "anchor": "y",
         "domain": [
          0,
          1
         ],
         "title": {
          "text": "Feature 1"
         }
        },
        "yaxis": {
         "anchor": "x",
         "domain": [
          0,
          1
         ],
         "title": {
          "text": "Feature 2"
         }
        }
       }
      }
     },
     "metadata": {},
     "output_type": "display_data"
    }
   ],
   "source": [
    "tsne = UMAP(n_neighbors=7, min_dist=0.1, metric=\"euclidean\", random_state=42)\n",
    "agents = df[agent_roles.keys()].T.values\n",
    "X = tsne.fit_transform(agents / agents.sum(axis=0))\n",
    "fig = px.scatter(\n",
    "    x=X[:, 0],\n",
    "    y=X[:, 1],\n",
    "    text=agent_roles.keys(),\n",
    "    # symbol=agent_roles.values(),\n",
    "    color=agent_roles.values(),\n",
    "    size_max=60,\n",
    "    size=agents.sum(axis=1),\n",
    "    width=700,\n",
    "    height=700,\n",
    ")\n",
    "fig.update_layout(\n",
    "    coloraxis_colorbar=dict(x=1.1, title=\"Usage count\"),\n",
    "    legend=dict(orientation=\"h\", yanchor=\"bottom\", y=0, xanchor=\"left\", x=0, title=\"Role\"),\n",
    "    margin=dict(l=10, r=10, b=10, t=30),\n",
    "    title=f\"UMAP plot of agent usage, span={span}\",\n",
    "    xaxis_title=\"Feature 1\",\n",
    "    yaxis_title=\"Feature 2\",\n",
    ")\n",
    "fig.write_html(f\"figs/agents-{span}.html\")\n",
    "fig.write_image(f\"figs/agents-{span}.png\", scale=2)\n",
    "fig.show()"
   ]
  },
  {
   "cell_type": "code",
   "execution_count": 141,
   "metadata": {},
   "outputs": [],
   "source": [
    "def get_annotation(row):\n",
    "    annotation = f\"<b>{row['name']}</b><br>Team: {row['team']}<br>Rating: {row['rating']:.2f}<br><br>\"\n",
    "    maps_played = row[agent_roles.keys()].sum()\n",
    "    for agent, pickrate in row[agent_roles.keys()].sort_values(ascending=False).to_dict().items():\n",
    "        if pickrate:\n",
    "            annotation += f\"{agent}: {pickrate/maps_played:.2f}<br>\"\n",
    "    return annotation"
   ]
  },
  {
   "cell_type": "code",
   "execution_count": 142,
   "metadata": {},
   "outputs": [
    {
     "data": {
      "application/vnd.plotly.v1+json": {
       "config": {
        "plotlyServerURL": "https://plot.ly"
       },
       "data": [
        {
         "customdata": [
          [
           "<b>leo</b><br>Team: FNC<br>Rating: 1.20<br><br>sova: 0.23<br>sage: 0.22<br>omen: 0.16<br>breach: 0.12<br>fade: 0.09<br>skye: 0.04<br>phoenix: 0.03<br>viper: 0.02<br>astra: 0.02<br>kayo: 0.02<br>reyna: 0.02<br>brimstone: 0.02<br>chamber: 0.01<br>killjoy: 0.01<br>"
          ],
          [
           "<b>chronicle</b><br>Team: FNC<br>Rating: 1.10<br><br>sova: 0.36<br>breach: 0.14<br>viper: 0.11<br>raze: 0.09<br>brimstone: 0.08<br>chamber: 0.06<br>omen: 0.05<br>killjoy: 0.03<br>reyna: 0.03<br>kayo: 0.02<br>sage: 0.01<br>skye: 0.01<br>jett: 0.01<br>neon: 0.00<br>"
          ],
          [
           "<b>shao</b><br>Team: NAVI<br>Rating: 1.18<br><br>sova: 0.42<br>fade: 0.15<br>sage: 0.14<br>raze: 0.09<br>astra: 0.08<br>omen: 0.04<br>jett: 0.03<br>brimstone: 0.02<br>killjoy: 0.02<br>phoenix: 0.01<br>gekko: 0.01<br>reyna: 0.00<br>viper: 0.00<br>breach: 0.00<br>skye: 0.00<br>cypher: 0.00<br>kayo: 0.00<br>"
          ],
          [
           "<b>cloud</b><br>Team: GIA<br>Rating: 1.14<br><br>sova: 0.41<br>skye: 0.14<br>raze: 0.12<br>sage: 0.07<br>breach: 0.07<br>kayo: 0.05<br>reyna: 0.05<br>viper: 0.03<br>fade: 0.02<br>jett: 0.01<br>neon: 0.01<br>gekko: 0.01<br>omen: 0.01<br>"
          ],
          [
           "<b>crashies</b><br>Team: NRG<br>Rating: 0.99<br><br>sova: 0.52<br>skye: 0.21<br>cypher: 0.09<br>kayo: 0.06<br>fade: 0.02<br>viper: 0.02<br>breach: 0.02<br>omen: 0.01<br>killjoy: 0.01<br>phoenix: 0.01<br>raze: 0.00<br>sage: 0.00<br>reyna: 0.00<br>"
          ],
          [
           "<b>nzr</b><br>Team: LEV<br>Rating: 1.15<br><br>sova: 0.66<br>skye: 0.10<br>raze: 0.10<br>fade: 0.05<br>kayo: 0.03<br>breach: 0.02<br>viper: 0.02<br>killjoy: 0.02<br>omen: 0.01<br>sage: 0.01<br>brimstone: 0.00<br>"
          ],
          [
           "<b>bcj</b><br>Team: EG<br>Rating: 1.00<br><br>sova: 0.55<br>omen: 0.10<br>sage: 0.08<br>skye: 0.07<br>breach: 0.05<br>reyna: 0.04<br>raze: 0.03<br>fade: 0.02<br>kayo: 0.01<br>astra: 0.01<br>cypher: 0.01<br>brimstone: 0.01<br>viper: 0.01<br>jett: 0.00<br>"
          ],
          [
           "<b>cryocells</b><br>Team: 100T<br>Rating: 1.16<br><br>sova: 0.43<br>jett: 0.35<br>chamber: 0.14<br>omen: 0.02<br>reyna: 0.02<br>sage: 0.01<br>raze: 0.01<br>skye: 0.01<br>phoenix: 0.00<br>"
          ],
          [
           "<b>xeta</b><br>Team: T1<br>Rating: 1.05<br><br>sova: 0.54<br>breach: 0.16<br>jett: 0.07<br>skye: 0.05<br>omen: 0.04<br>viper: 0.04<br>harbor: 0.04<br>kayo: 0.02<br>cypher: 0.02<br>brimstone: 0.00<br>killjoy: 0.00<br>"
          ],
          [
           "<b>ardiis</b><br>Team: NRG<br>Rating: 1.06<br><br>sova: 0.38<br>jett: 0.21<br>chamber: 0.14<br>raze: 0.07<br>sage: 0.05<br>kayo: 0.05<br>killjoy: 0.03<br>brimstone: 0.03<br>breach: 0.02<br>cypher: 0.01<br>skye: 0.01<br>reyna: 0.00<br>"
          ],
          [
           "<b>c0m</b><br>Team: EG<br>Rating: 1.07<br><br>sova: 0.26<br>viper: 0.23<br>cypher: 0.17<br>killjoy: 0.12<br>breach: 0.07<br>sage: 0.04<br>omen: 0.02<br>skye: 0.02<br>phoenix: 0.02<br>fade: 0.01<br>brimstone: 0.01<br>kayo: 0.01<br>raze: 0.01<br>gekko: 0.01<br>"
          ],
          [
           "<b>cauanzin</b><br>Team: LOUD<br>Rating: 1.09<br><br>sova: 0.40<br>skye: 0.33<br>kayo: 0.10<br>sage: 0.08<br>breach: 0.06<br>reyna: 0.02<br>fade: 0.01<br>"
          ],
          [
           "<b>runi</b><br>Team: C9<br>Rating: 1.14<br><br>sova: 0.57<br>fade: 0.20<br>breach: 0.18<br>viper: 0.03<br>killjoy: 0.01<br>sage: 0.01<br>astra: 0.00<br>cypher: 0.00<br>"
          ],
          [
           "<b>foxz</b><br>Team: TLN<br>Rating: 0.99<br><br>sova: 0.54<br>skye: 0.18<br>fade: 0.06<br>sage: 0.05<br>raze: 0.04<br>yoru: 0.04<br>kayo: 0.02<br>jett: 0.02<br>cypher: 0.02<br>reyna: 0.01<br>viper: 0.01<br>astra: 0.00<br>gekko: 0.00<br>phoenix: 0.00<br>omen: 0.00<br>"
          ],
          [
           "<b>molsi</b><br>Team: VIT<br>Rating: 1.12<br><br>sova: 0.42<br>raze: 0.17<br>skye: 0.10<br>kayo: 0.08<br>omen: 0.05<br>reyna: 0.04<br>breach: 0.03<br>brimstone: 0.03<br>fade: 0.02<br>neon: 0.02<br>sage: 0.02<br>jett: 0.01<br>killjoy: 0.01<br>phoenix: 0.00<br>viper: 0.00<br>cypher: 0.00<br>yoru: 0.00<br>"
          ],
          [
           "<b>sacy</b><br>Team: SEN<br>Rating: 1.19<br><br>sova: 0.63<br>fade: 0.08<br>breach: 0.07<br>skye: 0.06<br>jett: 0.06<br>omen: 0.04<br>sage: 0.02<br>viper: 0.02<br>raze: 0.01<br>reyna: 0.01<br>brimstone: 0.00<br>"
          ],
          [
           "<b>mrfalin</b><br>Team: FUT<br>Rating: 1.08<br><br>sova: 0.46<br>omen: 0.21<br>breach: 0.10<br>skye: 0.06<br>brimstone: 0.05<br>raze: 0.03<br>killjoy: 0.03<br>kayo: 0.03<br>astra: 0.01<br>sage: 0.01<br>fade: 0.01<br>harbor: 0.00<br>"
          ],
          [
           "<b>derrek</b><br>Team: 100T<br>Rating: 1.11<br><br>sova: 0.65<br>breach: 0.10<br>sage: 0.09<br>fade: 0.05<br>cypher: 0.04<br>jett: 0.02<br>skye: 0.02<br>killjoy: 0.02<br>omen: 0.00<br>harbor: 0.00<br>"
          ],
          [
           "<b>zest</b><br>Team: DRX<br>Rating: 1.03<br><br>sova: 0.64<br>sage: 0.15<br>fade: 0.12<br>skye: 0.03<br>brimstone: 0.03<br>harbor: 0.01<br>astra: 0.01<br>killjoy: 0.00<br>reyna: 0.00<br>viper: 0.00<br>kayo: 0.00<br>"
          ],
          [
           "<b>jessievash</b><br>Team: TS<br>Rating: 0.99<br><br>sova: 0.74<br>sage: 0.07<br>fade: 0.05<br>cypher: 0.04<br>breach: 0.04<br>skye: 0.02<br>omen: 0.01<br>killjoy: 0.01<br>raze: 0.00<br>kayo: 0.00<br>harbor: 0.00<br>jett: 0.00<br>"
          ],
          [
           "<b>ts</b><br>Team: GEN<br>Rating: 1.24<br><br>sova: 0.25<br>jett: 0.20<br>omen: 0.15<br>astra: 0.15<br>skye: 0.06<br>viper: 0.05<br>fade: 0.04<br>brimstone: 0.02<br>breach: 0.02<br>gekko: 0.02<br>sage: 0.02<br>chamber: 0.01<br>harbor: 0.01<br>phoenix: 0.00<br>yoru: 0.00<br>kayo: 0.00<br>killjoy: 0.00<br>"
          ],
          [
           "<b>frz</b><br>Team: MIBR<br>Rating: 1.04<br><br>sova: 0.28<br>killjoy: 0.12<br>skye: 0.11<br>chamber: 0.11<br>phoenix: 0.09<br>jett: 0.07<br>reyna: 0.07<br>cypher: 0.03<br>sage: 0.03<br>breach: 0.03<br>viper: 0.02<br>raze: 0.02<br>kayo: 0.01<br>omen: 0.01<br>brimstone: 0.00<br>"
          ],
          [
           "<b>wolfen</b><br>Team: KOI<br>Rating: 1.07<br><br>sova: 0.48<br>jett: 0.24<br>chamber: 0.13<br>killjoy: 0.08<br>cypher: 0.02<br>skye: 0.01<br>reyna: 0.01<br>raze: 0.00<br>omen: 0.00<br>sage: 0.00<br>"
          ],
          [
           "<b>souhcni</b><br>Team: BBL<br>Rating: 0.96<br><br>sova: 0.36<br>cypher: 0.30<br>killjoy: 0.14<br>fade: 0.10<br>chamber: 0.03<br>breach: 0.02<br>skye: 0.01<br>brimstone: 0.01<br>astra: 0.01<br>kayo: 0.01<br>harbor: 0.00<br>gekko: 0.00<br>omen: 0.00<br>"
          ],
          [
           "<b>crow</b><br>Team: ZETA<br>Rating: 0.89<br><br>sova: 0.39<br>breach: 0.27<br>raze: 0.08<br>skye: 0.07<br>kayo: 0.05<br>viper: 0.04<br>sage: 0.03<br>fade: 0.03<br>killjoy: 0.01<br>harbor: 0.01<br>cypher: 0.00<br>jett: 0.00<br>"
          ],
          [
           "<b>eko</b><br>Team: GEN<br>Rating: 1.06<br><br>sova: 0.48<br>omen: 0.14<br>fade: 0.09<br>breach: 0.09<br>jett: 0.04<br>brimstone: 0.03<br>skye: 0.03<br>chamber: 0.02<br>kayo: 0.02<br>reyna: 0.02<br>neon: 0.02<br>sage: 0.01<br>phoenix: 0.01<br>viper: 0.01<br>"
          ],
          [
           "<b>muj</b><br>Team: FUT<br>Rating: 1.01<br><br>sova: 0.32<br>skye: 0.29<br>chamber: 0.12<br>raze: 0.11<br>jett: 0.06<br>kayo: 0.04<br>breach: 0.04<br>sage: 0.02<br>reyna: 0.01<br>brimstone: 0.01<br>"
          ],
          [
           "<b>lenne</b><br>Team: TS<br>Rating: 1.07<br><br>sova: 0.84<br>skye: 0.04<br>killjoy: 0.04<br>fade: 0.02<br>sage: 0.02<br>omen: 0.01<br>breach: 0.01<br>gekko: 0.00<br>chamber: 0.00<br>viper: 0.00<br>"
          ],
          [
           "<b>koldamenta</b><br>Team: KOI<br>Rating: 0.93<br><br>sova: 0.56<br>astra: 0.10<br>sage: 0.08<br>viper: 0.07<br>omen: 0.07<br>brimstone: 0.04<br>skye: 0.03<br>breach: 0.02<br>raze: 0.02<br>killjoy: 0.01<br>cypher: 0.01<br>"
          ]
         ],
         "hovertemplate": "%{customdata}",
         "hovertext": [
          "leo",
          "chronicle",
          "shao",
          "cloud",
          "crashies",
          "nzr",
          "bcj",
          "cryocells",
          "xeta",
          "ardiis",
          "c0m",
          "cauanzin",
          "runi",
          "foxz",
          "molsi",
          "sacy",
          "mrfalin",
          "derrek",
          "zest",
          "jessievash",
          "ts",
          "frz",
          "wolfen",
          "souhcni",
          "crow",
          "eko",
          "muj",
          "lenne",
          "koldamenta"
         ],
         "legendgroup": "sova",
         "marker": {
          "color": "#636efa",
          "opacity": 0.8,
          "size": 12,
          "symbol": "circle"
         },
         "mode": "markers+text",
         "name": "sova",
         "orientation": "v",
         "showlegend": true,
         "text": [
          "leo",
          "chronicle",
          "shao",
          "cloud",
          "crashies",
          "nzr",
          "bcj",
          "cryocells",
          "xeta",
          "ardiis",
          "c0m",
          "cauanzin",
          "runi",
          "foxz",
          "molsi",
          "sacy",
          "mrfalin",
          "derrek",
          "zest",
          "jessievash",
          "ts",
          "frz",
          "wolfen",
          "souhcni",
          "crow",
          "eko",
          "muj",
          "lenne",
          "koldamenta"
         ],
         "textposition": "top center",
         "type": "scatter",
         "x": [
          -1.7228511571884155,
          -2.6416268348693848,
          -3.394583225250244,
          -2.0057713985443115,
          -2.9349474906921387,
          -3.5520594120025635,
          -3.8151655197143555,
          -2.4123363494873047,
          -2.9034228324890137,
          -2.4086036682128906,
          -2.2329981327056885,
          -0.6750495433807373,
          -3.3587136268615723,
          -2.985649824142456,
          -2.7367019653320312,
          -3.4947242736816406,
          -2.8684043884277344,
          -3.9172627925872803,
          -4.0469069480896,
          -3.7477874755859375,
          -2.0221447944641113,
          -1.12502121925354,
          -1.9010738134384155,
          -2.0956926345825195,
          -1.838181734085083,
          -1.9225667715072632,
          -0.3145206570625305,
          -3.514132261276245,
          -3.9183273315429688
         ],
         "xaxis": "x",
         "y": [
          6.8068318367004395,
          5.881046772003174,
          4.659252166748047,
          5.272848606109619,
          4.139673233032227,
          4.988921642303467,
          5.48861026763916,
          4.745486259460449,
          5.504286289215088,
          5.061982154846191,
          10.781709671020508,
          6.247442722320557,
          3.973830461502075,
          4.694888114929199,
          5.273781776428223,
          5.379202842712402,
          6.136890411376953,
          4.354494094848633,
          5.130853176116943,
          4.008390426635742,
          6.5688557624816895,
          5.973252773284912,
          5.334726333618164,
          10.578753471374512,
          5.917923927307129,
          6.050985336303711,
          5.9886393547058105,
          4.597548961639404,
          4.708458423614502
         ],
         "yaxis": "y"
        },
        {
         "customdata": [
          [
           "<b>something</b><br>Team: PRX<br>Rating: 1.28<br><br>jett: 0.57<br>reyna: 0.31<br>raze: 0.06<br>breach: 0.03<br>chamber: 0.02<br>phoenix: 0.01<br>"
          ],
          [
           "<b>aspas</b><br>Team: LOUD<br>Rating: 1.25<br><br>jett: 0.50<br>reyna: 0.24<br>raze: 0.21<br>neon: 0.03<br>chamber: 0.03<br>"
          ],
          [
           "<b>sayf</b><br>Team: TL<br>Rating: 1.06<br><br>jett: 0.22<br>cypher: 0.18<br>killjoy: 0.12<br>raze: 0.10<br>chamber: 0.07<br>skye: 0.06<br>viper: 0.06<br>phoenix: 0.05<br>sage: 0.04<br>reyna: 0.03<br>sova: 0.02<br>breach: 0.01<br>neon: 0.01<br>kayo: 0.01<br>"
          ],
          [
           "<b>derke</b><br>Team: FNC<br>Rating: 1.15<br><br>jett: 0.49<br>raze: 0.26<br>chamber: 0.13<br>sova: 0.07<br>omen: 0.02<br>sage: 0.02<br>skye: 0.01<br>reyna: 0.01<br>phoenix: 0.00<br>"
          ],
          [
           "<b>leaf</b><br>Team: C9<br>Rating: 1.01<br><br>jett: 0.24<br>raze: 0.19<br>omen: 0.11<br>skye: 0.08<br>neon: 0.07<br>reyna: 0.07<br>chamber: 0.05<br>phoenix: 0.05<br>killjoy: 0.04<br>viper: 0.03<br>sage: 0.03<br>cypher: 0.01<br>kayo: 0.01<br>breach: 0.01<br>astra: 0.01<br>sova: 0.00<br>yoru: 0.00<br>fade: 0.00<br>"
          ],
          [
           "<b>monyet</b><br>Team: GE<br>Rating: 1.16<br><br>jett: 0.40<br>raze: 0.16<br>astra: 0.10<br>neon: 0.09<br>phoenix: 0.07<br>reyna: 0.07<br>omen: 0.05<br>viper: 0.02<br>skye: 0.02<br>sage: 0.01<br>killjoy: 0.01<br>"
          ],
          [
           "<b>d4v41</b><br>Team: PRX<br>Rating: 1.14<br><br>jett: 0.25<br>skye: 0.23<br>chamber: 0.10<br>sage: 0.09<br>kayo: 0.07<br>sova: 0.06<br>fade: 0.05<br>viper: 0.05<br>killjoy: 0.03<br>breach: 0.02<br>raze: 0.02<br>phoenix: 0.01<br>astra: 0.01<br>reyna: 0.01<br>brimstone: 0.00<br>"
          ],
          [
           "<b>s0m</b><br>Team: NRG<br>Rating: 1.03<br><br>jett: 0.28<br>omen: 0.15<br>raze: 0.14<br>astra: 0.13<br>phoenix: 0.06<br>harbor: 0.06<br>skye: 0.03<br>sage: 0.03<br>kayo: 0.03<br>brimstone: 0.02<br>reyna: 0.02<br>viper: 0.01<br>sova: 0.01<br>neon: 0.01<br>chamber: 0.01<br>yoru: 0.01<br>cypher: 0.00<br>"
          ],
          [
           "<b>keznit</b><br>Team: KRÜ<br>Rating: 1.10<br><br>jett: 0.38<br>raze: 0.28<br>reyna: 0.10<br>phoenix: 0.07<br>kayo: 0.05<br>skye: 0.04<br>neon: 0.03<br>chamber: 0.01<br>breach: 0.01<br>omen: 0.00<br>cypher: 0.00<br>fade: 0.00<br>"
          ],
          [
           "<b>buzz</b><br>Team: DRX<br>Rating: 1.12<br><br>jett: 0.47<br>chamber: 0.16<br>killjoy: 0.13<br>omen: 0.08<br>raze: 0.07<br>kayo: 0.03<br>astra: 0.03<br>brimstone: 0.01<br>cypher: 0.01<br>fade: 0.01<br>phoenix: 0.00<br>reyna: 0.00<br>breach: 0.00<br>"
          ],
          [
           "<b>sayaplayer</b><br>Team: T1<br>Rating: 1.13<br><br>jett: 0.48<br>omen: 0.21<br>raze: 0.19<br>chamber: 0.05<br>neon: 0.05<br>phoenix: 0.03<br>"
          ],
          [
           "<b>cned</b><br>Team: NAVI<br>Rating: 1.21<br><br>jett: 0.72<br>sage: 0.09<br>chamber: 0.07<br>raze: 0.05<br>reyna: 0.04<br>yoru: 0.02<br>omen: 0.01<br>neon: 0.01<br>astra: 0.00<br>killjoy: 0.00<br>cypher: 0.00<br>kayo: 0.00<br>"
          ],
          [
           "<b>qw1</b><br>Team: FUT<br>Rating: 1.09<br><br>jett: 0.66<br>neon: 0.10<br>raze: 0.09<br>chamber: 0.07<br>sage: 0.03<br>sova: 0.02<br>omen: 0.01<br>skye: 0.01<br>reyna: 0.00<br>"
          ],
          [
           "<b>qutionerx</b><br>Team: BBL<br>Rating: 1.09<br><br>jett: 0.50<br>cypher: 0.16<br>raze: 0.13<br>killjoy: 0.07<br>chamber: 0.06<br>sage: 0.04<br>neon: 0.02<br>yoru: 0.01<br>omen: 0.01<br>"
          ],
          [
           "<b>fit1nho</b><br>Team: GIA<br>Rating: 1.07<br><br>jett: 0.53<br>raze: 0.33<br>sova: 0.04<br>chamber: 0.02<br>sage: 0.02<br>kayo: 0.02<br>neon: 0.02<br>breach: 0.01<br>omen: 0.01<br>cypher: 0.01<br>reyna: 0.00<br>viper: 0.00<br>"
          ],
          [
           "<b>jamppi</b><br>Team: TL<br>Rating: 1.05<br><br>jett: 0.35<br>sova: 0.14<br>chamber: 0.12<br>omen: 0.11<br>skye: 0.09<br>breach: 0.08<br>killjoy: 0.06<br>astra: 0.02<br>raze: 0.01<br>sage: 0.01<br>neon: 0.00<br>brimstone: 0.00<br>"
          ],
          [
           "<b>t3xture</b><br>Team: GE<br>Rating: 1.13<br><br>jett: 0.72<br>raze: 0.12<br>killjoy: 0.06<br>chamber: 0.04<br>reyna: 0.02<br>sage: 0.01<br>phoenix: 0.01<br>neon: 0.01<br>sova: 0.01<br>"
          ],
          [
           "<b>f0rsaken</b><br>Team: PRX<br>Rating: 1.16<br><br>jett: 0.33<br>raze: 0.13<br>chamber: 0.08<br>yoru: 0.07<br>neon: 0.07<br>sova: 0.05<br>skye: 0.04<br>phoenix: 0.04<br>breach: 0.04<br>killjoy: 0.03<br>kayo: 0.03<br>reyna: 0.03<br>harbor: 0.02<br>cypher: 0.02<br>sage: 0.01<br>fade: 0.01<br>astra: 0.00<br>"
          ],
          [
           "<b>rb</b><br>Team: DRX<br>Rating: 1.07<br><br>jett: 0.40<br>raze: 0.14<br>sova: 0.09<br>killjoy: 0.07<br>neon: 0.07<br>kayo: 0.05<br>sage: 0.04<br>astra: 0.03<br>harbor: 0.03<br>skye: 0.03<br>chamber: 0.02<br>fade: 0.01<br>yoru: 0.00<br>brimstone: 0.00<br>omen: 0.00<br>"
          ],
          [
           "<b>meteor</b><br>Team: GEN<br>Rating: 1.11<br><br>jett: 0.72<br>chamber: 0.15<br>raze: 0.10<br>neon: 0.02<br>phoenix: 0.01<br>reyna: 0.01<br>"
          ],
          [
           "<b>dep</b><br>Team: ZETA<br>Rating: 1.08<br><br>jett: 0.60<br>raze: 0.10<br>sage: 0.07<br>neon: 0.04<br>sova: 0.04<br>killjoy: 0.03<br>viper: 0.03<br>phoenix: 0.02<br>omen: 0.02<br>breach: 0.01<br>fade: 0.01<br>reyna: 0.01<br>skye: 0.01<br>kayo: 0.01<br>"
          ],
          [
           "<b>boostio</b><br>Team: EG<br>Rating: 1.02<br><br>jett: 0.45<br>killjoy: 0.12<br>chamber: 0.12<br>phoenix: 0.09<br>astra: 0.06<br>raze: 0.06<br>skye: 0.04<br>breach: 0.01<br>cypher: 0.01<br>reyna: 0.01<br>kayo: 0.01<br>fade: 0.00<br>viper: 0.00<br>"
          ],
          [
           "<b>dgzin</b><br>Team: FUR<br>Rating: 1.04<br><br>jett: 0.78<br>chamber: 0.09<br>neon: 0.05<br>reyna: 0.05<br>kayo: 0.02<br>sova: 0.01<br>raze: 0.01<br>cypher: 0.01<br>"
          ],
          [
           "<b>foxy9</b><br>Team: DRX<br>Rating: 1.08<br><br>jett: 0.73<br>raze: 0.20<br>chamber: 0.02<br>sage: 0.01<br>reyna: 0.01<br>breach: 0.01<br>skye: 0.01<br>"
          ],
          [
           "<b>tuyz</b><br>Team: LOUD<br>Rating: 1.05<br><br>jett: 0.33<br>raze: 0.22<br>harbor: 0.08<br>sage: 0.07<br>omen: 0.07<br>chamber: 0.07<br>reyna: 0.06<br>astra: 0.05<br>brimstone: 0.02<br>neon: 0.01<br>cypher: 0.01<br>phoenix: 0.00<br>skye: 0.00<br>"
          ],
          [
           "<b>fl1pzjder</b><br>Team: RRQ<br>Rating: 1.07<br><br>jett: 0.29<br>kayo: 0.14<br>raze: 0.12<br>chamber: 0.10<br>skye: 0.08<br>breach: 0.08<br>sage: 0.06<br>viper: 0.05<br>killjoy: 0.03<br>reyna: 0.02<br>fade: 0.01<br>cypher: 0.01<br>sova: 0.01<br>"
          ],
          [
           "<b>patiphan</b><br>Team: TLN<br>Rating: 1.01<br><br>jett: 0.37<br>phoenix: 0.14<br>raze: 0.12<br>reyna: 0.10<br>harbor: 0.04<br>breach: 0.04<br>sage: 0.04<br>omen: 0.02<br>killjoy: 0.02<br>kayo: 0.02<br>astra: 0.01<br>sova: 0.01<br>viper: 0.01<br>brimstone: 0.01<br>yoru: 0.01<br>skye: 0.01<br>cypher: 0.01<br>gekko: 0.01<br>"
          ],
          [
           "<b>bazzi</b><br>Team: GE<br>Rating: 1.14<br><br>jett: 0.48<br>breach: 0.11<br>raze: 0.09<br>sova: 0.09<br>skye: 0.06<br>yoru: 0.04<br>fade: 0.03<br>sage: 0.03<br>cypher: 0.02<br>chamber: 0.02<br>neon: 0.02<br>killjoy: 0.00<br>reyna: 0.00<br>viper: 0.00<br>kayo: 0.00<br>"
          ],
          [
           "<b>garnets</b><br>Team: TLN<br>Rating: 1.04<br><br>jett: 0.67<br>raze: 0.18<br>neon: 0.09<br>chamber: 0.03<br>skye: 0.03<br>"
          ],
          [
           "<b>scream</b><br>Team: KC<br>Rating: 1.13<br><br>jett: 0.29<br>reyna: 0.20<br>raze: 0.14<br>phoenix: 0.14<br>sage: 0.13<br>kayo: 0.05<br>breach: 0.03<br>skye: 0.02<br>"
          ],
          [
           "<b>dubstep</b><br>Team: TS<br>Rating: 1.05<br><br>jett: 0.67<br>raze: 0.09<br>killjoy: 0.05<br>reyna: 0.04<br>chamber: 0.04<br>kayo: 0.03<br>yoru: 0.02<br>cypher: 0.02<br>sage: 0.01<br>viper: 0.01<br>neon: 0.01<br>phoenix: 0.00<br>astra: 0.00<br>"
          ],
          [
           "<b>tenz</b><br>Team: SEN<br>Rating: 1.13<br><br>jett: 0.63<br>reyna: 0.19<br>raze: 0.10<br>chamber: 0.02<br>kayo: 0.02<br>yoru: 0.01<br>sage: 0.01<br>viper: 0.01<br>neon: 0.00<br>phoenix: 0.00<br>"
          ],
          [
           "<b>ejay</b><br>Team: RRQ<br>Rating: 1.10<br><br>jett: 0.63<br>raze: 0.17<br>chamber: 0.08<br>sage: 0.04<br>kayo: 0.04<br>killjoy: 0.01<br>reyna: 0.01<br>yoru: 0.01<br>neon: 0.01<br>phoenix: 0.01<br>"
          ],
          [
           "<b>heat</b><br>Team: MIBR<br>Rating: 1.13<br><br>jett: 0.80<br>chamber: 0.13<br>raze: 0.05<br>neon: 0.01<br>"
          ],
          [
           "<b>nagz</b><br>Team: KRÜ<br>Rating: 1.10<br><br>jett: 0.59<br>chamber: 0.19<br>killjoy: 0.09<br>sage: 0.06<br>viper: 0.05<br>raze: 0.01<br>cypher: 0.01<br>brimstone: 0.00<br>"
          ],
          [
           "<b>goddead</b><br>Team: GEN<br>Rating: 1.01<br><br>jett: 0.26<br>kayo: 0.23<br>breach: 0.14<br>sage: 0.11<br>sova: 0.10<br>raze: 0.04<br>chamber: 0.04<br>skye: 0.04<br>cypher: 0.02<br>phoenix: 0.01<br>reyna: 0.01<br>viper: 0.01<br>neon: 0.01<br>astra: 0.01<br>"
          ],
          [
           "<b>quick</b><br>Team: FUR<br>Rating: 0.99<br><br>jett: 0.31<br>viper: 0.13<br>reyna: 0.10<br>killjoy: 0.10<br>chamber: 0.09<br>raze: 0.08<br>sage: 0.08<br>cypher: 0.05<br>harbor: 0.02<br>breach: 0.02<br>skye: 0.01<br>omen: 0.01<br>neon: 0.01<br>phoenix: 0.00<br>"
          ],
          [
           "<b>tacolilla</b><br>Team: LEV<br>Rating: 1.07<br><br>jett: 0.62<br>chamber: 0.18<br>skye: 0.06<br>raze: 0.06<br>sage: 0.05<br>reyna: 0.01<br>yoru: 0.00<br>breach: 0.00<br>"
          ],
          [
           "<b>anthem</b><br>Team: DFM<br>Rating: 1.11<br><br>jett: 0.42<br>skye: 0.14<br>raze: 0.10<br>killjoy: 0.07<br>sova: 0.07<br>chamber: 0.05<br>cypher: 0.04<br>kayo: 0.03<br>viper: 0.03<br>fade: 0.02<br>reyna: 0.02<br>breach: 0.02<br>sage: 0.01<br>"
          ],
          [
           "<b>ban</b><br>Team: T1<br>Rating: 1.06<br><br>jett: 0.50<br>skye: 0.13<br>reyna: 0.13<br>sage: 0.08<br>chamber: 0.05<br>omen: 0.03<br>viper: 0.02<br>harbor: 0.01<br>neon: 0.01<br>killjoy: 0.01<br>breach: 0.01<br>cypher: 0.01<br>fade: 0.00<br>astra: 0.00<br>kayo: 0.00<br>"
          ],
          [
           "<b>skrossi</b><br>Team: GE<br>Rating: 1.20<br><br>jett: 0.71<br>chamber: 0.20<br>raze: 0.04<br>reyna: 0.03<br>sage: 0.01<br>kayo: 0.01<br>yoru: 0.00<br>killjoy: 0.00<br>sova: 0.00<br>astra: 0.00<br>"
          ],
          [
           "<b>wronski</b><br>Team: GE<br>Rating: 1.10<br><br>jett: 0.77<br>reyna: 0.07<br>chamber: 0.06<br>raze: 0.03<br>kayo: 0.03<br>sage: 0.02<br>phoenix: 0.02<br>cypher: 0.00<br>sova: 0.00<br>viper: 0.00<br>skye: 0.00<br>astra: 0.00<br>"
          ],
          [
           "<b>reita</b><br>Team: DFM<br>Rating: 1.04<br><br>jett: 0.45<br>sova: 0.16<br>omen: 0.11<br>fade: 0.06<br>reyna: 0.04<br>viper: 0.03<br>chamber: 0.03<br>killjoy: 0.03<br>raze: 0.02<br>skye: 0.02<br>cypher: 0.01<br>breach: 0.01<br>sage: 0.01<br>harbor: 0.00<br>brimstone: 0.00<br>astra: 0.00<br>"
          ],
          [
           "<b>seoldam</b><br>Team: DFM<br>Rating: 1.16<br><br>jett: 0.82<br>skye: 0.17<br>raze: 0.01<br>"
          ],
          [
           "<b>mixwell</b><br>Team: TH<br>Rating: 1.01<br><br>jett: 0.46<br>viper: 0.14<br>chamber: 0.11<br>raze: 0.07<br>killjoy: 0.05<br>skye: 0.05<br>sage: 0.02<br>cypher: 0.02<br>breach: 0.02<br>kayo: 0.01<br>neon: 0.01<br>reyna: 0.01<br>harbor: 0.01<br>yoru: 0.01<br>"
          ],
          [
           "<b>murizzz</b><br>Team: MIBR<br>Rating: 0.97<br><br>jett: 0.17<br>raze: 0.12<br>sova: 0.11<br>viper: 0.11<br>sage: 0.10<br>skye: 0.10<br>reyna: 0.08<br>kayo: 0.06<br>chamber: 0.05<br>killjoy: 0.03<br>phoenix: 0.03<br>breach: 0.03<br>fade: 0.01<br>neon: 0.01<br>"
          ],
          [
           "<b>harmii</b><br>Team: TL<br>Rating: 1.02<br><br>jett: 0.50<br>raze: 0.31<br>chamber: 0.19<br>"
          ],
          [
           "<b>keloqz</b><br>Team: TH<br>Rating: 1.01<br><br>jett: 0.72<br>chamber: 0.12<br>skye: 0.04<br>raze: 0.04<br>neon: 0.02<br>sage: 0.02<br>reyna: 0.02<br>omen: 0.00<br>phoenix: 0.00<br>breach: 0.00<br>"
          ]
         ],
         "hovertemplate": "%{customdata}",
         "hovertext": [
          "something",
          "aspas",
          "sayf",
          "derke",
          "leaf",
          "monyet",
          "d4v41",
          "s0m",
          "keznit",
          "buzz",
          "sayaplayer",
          "cned",
          "qw1",
          "qutionerx",
          "fit1nho",
          "jamppi",
          "t3xture",
          "f0rsaken",
          "rb",
          "meteor",
          "dep",
          "boostio",
          "dgzin",
          "foxy9",
          "tuyz",
          "fl1pzjder",
          "patiphan",
          "bazzi",
          "garnets",
          "scream",
          "dubstep",
          "tenz",
          "ejay",
          "heat",
          "nagz",
          "goddead",
          "quick",
          "tacolilla",
          "anthem",
          "ban",
          "skrossi",
          "wronski",
          "reita",
          "seoldam",
          "mixwell",
          "murizzz",
          "harmii",
          "keloqz"
         ],
         "legendgroup": "jett",
         "marker": {
          "color": "#EF553B",
          "opacity": 0.8,
          "size": 12,
          "symbol": "circle"
         },
         "mode": "markers+text",
         "name": "jett",
         "orientation": "v",
         "showlegend": true,
         "text": [
          "something",
          "aspas",
          "sayf",
          "derke",
          "leaf",
          "monyet",
          "d4v41",
          "s0m",
          "keznit",
          "buzz",
          "sayaplayer",
          "cned",
          "qw1",
          "qutionerx",
          "fit1nho",
          "jamppi",
          "t3xture",
          "f0rsaken",
          "rb",
          "meteor",
          "dep",
          "boostio",
          "dgzin",
          "foxy9",
          "tuyz",
          "fl1pzjder",
          "patiphan",
          "bazzi",
          "garnets",
          "scream",
          "dubstep",
          "tenz",
          "ejay",
          "heat",
          "nagz",
          "goddead",
          "quick",
          "tacolilla",
          "anthem",
          "ban",
          "skrossi",
          "wronski",
          "reita",
          "seoldam",
          "mixwell",
          "murizzz",
          "harmii",
          "keloqz"
         ],
         "textposition": "top center",
         "type": "scatter",
         "x": [
          2.167734146118164,
          3.978806972503662,
          1.0034276247024536,
          5.308572292327881,
          3.1183199882507324,
          2.7278552055358887,
          1.8215924501419067,
          3.7024152278900146,
          3.5536887645721436,
          5.6149797439575195,
          4.138637542724609,
          7.281328201293945,
          6.255964756011963,
          2.4674370288848877,
          5.124453067779541,
          2.422044038772583,
          4.581108570098877,
          3.951470375061035,
          4.4094672203063965,
          4.197195053100586,
          4.979756832122803,
          6.438462257385254,
          5.129177093505859,
          2.084991216659546,
          3.19950795173645,
          2.7792227268218994,
          1.9161843061447144,
          3.694775104522705,
          1.3680768013000488,
          3.195244312286377,
          6.695944309234619,
          6.489454746246338,
          3.3809239864349365,
          6.314727783203125,
          6.187641143798828,
          1.478890299797058,
          2.070114850997925,
          5.909911155700684,
          1.5582250356674194,
          6.970331192016602,
          6.804180145263672,
          6.215870380401611,
          2.810119390487671,
          1.9090241193771362,
          5.878838539123535,
          1.2315053939819336,
          0.4673806130886078,
          5.767428398132324
         ],
         "xaxis": "x",
         "y": [
          10.03610897064209,
          10.174263954162598,
          11.052826881408691,
          10.251976013183594,
          9.393217086791992,
          9.87868595123291,
          10.882076263427734,
          10.028955459594727,
          9.93089771270752,
          11.587509155273438,
          10.594802856445312,
          10.766416549682617,
          11.02545166015625,
          10.570405960083008,
          9.785398483276367,
          11.645586013793945,
          11.142422676086426,
          11.383865356445312,
          11.326014518737793,
          10.830981254577637,
          11.326908111572266,
          11.302457809448242,
          10.906425476074219,
          10.198866844177246,
          9.877325057983398,
          10.838887214660645,
          9.710911750793457,
          11.702813148498535,
          9.91960334777832,
          10.316570281982422,
          10.200889587402344,
          10.249735832214355,
          10.865253448486328,
          10.6373291015625,
          11.721847534179688,
          9.51215934753418,
          11.066461563110352,
          10.71999454498291,
          9.348553657531738,
          10.581151962280273,
          11.053295135498047,
          10.029092788696289,
          11.413657188415527,
          10.322470664978027,
          11.39184284210205,
          8.697840690612793,
          9.180279731750488,
          10.543905258178711
         ],
         "yaxis": "y"
        },
        {
         "customdata": [
          [
           "<b>alfajer</b><br>Team: FNC<br>Rating: 1.17<br><br>killjoy: 0.39<br>raze: 0.20<br>cypher: 0.11<br>chamber: 0.10<br>viper: 0.06<br>jett: 0.05<br>sage: 0.03<br>neon: 0.02<br>reyna: 0.01<br>kayo: 0.01<br>phoenix: 0.01<br>skye: 0.01<br>omen: 0.00<br>"
          ],
          [
           "<b>less</b><br>Team: LOUD<br>Rating: 1.13<br><br>killjoy: 0.43<br>viper: 0.33<br>cypher: 0.08<br>chamber: 0.07<br>raze: 0.07<br>sage: 0.01<br>jett: 0.00<br>"
          ],
          [
           "<b>munchkin</b><br>Team: T1<br>Rating: 1.03<br><br>killjoy: 0.24<br>cypher: 0.21<br>jett: 0.11<br>skye: 0.10<br>raze: 0.07<br>omen: 0.06<br>phoenix: 0.04<br>reyna: 0.04<br>chamber: 0.03<br>sage: 0.02<br>viper: 0.02<br>breach: 0.02<br>brimstone: 0.02<br>sova: 0.01<br>astra: 0.00<br>kayo: 0.00<br>"
          ],
          [
           "<b>k1ng</b><br>Team: GEN<br>Rating: 1.09<br><br>killjoy: 0.43<br>cypher: 0.40<br>viper: 0.13<br>astra: 0.01<br>brimstone: 0.00<br>kayo: 0.00<br>omen: 0.00<br>sova: 0.00<br>sage: 0.00<br>reyna: 0.00<br>breach: 0.00<br>chamber: 0.00<br>"
          ],
          [
           "<b>shyy</b><br>Team: LEV<br>Rating: 1.04<br><br>killjoy: 0.39<br>skye: 0.22<br>fade: 0.19<br>kayo: 0.11<br>chamber: 0.04<br>cypher: 0.02<br>jett: 0.02<br>"
          ],
          [
           "<b>benkai</b><br>Team: PRX<br>Rating: 1.08<br><br>killjoy: 0.22<br>cypher: 0.19<br>sova: 0.13<br>breach: 0.12<br>viper: 0.11<br>sage: 0.10<br>fade: 0.08<br>astra: 0.02<br>omen: 0.01<br>chamber: 0.01<br>skye: 0.00<br>jett: 0.00<br>reyna: 0.00<br>phoenix: 0.00<br>"
          ],
          [
           "<b>jitboys</b><br>Team: TLN<br>Rating: 1.05<br><br>killjoy: 0.24<br>chamber: 0.19<br>omen: 0.12<br>cypher: 0.09<br>breach: 0.07<br>astra: 0.06<br>viper: 0.06<br>sage: 0.05<br>kayo: 0.05<br>brimstone: 0.02<br>skye: 0.02<br>fade: 0.02<br>raze: 0.02<br>reyna: 0.01<br>harbor: 0.01<br>"
          ],
          [
           "<b>mojj</b><br>Team: FUT<br>Rating: 0.97<br><br>killjoy: 0.47<br>cypher: 0.20<br>viper: 0.18<br>sage: 0.09<br>raze: 0.03<br>reyna: 0.01<br>breach: 0.01<br>sova: 0.01<br>brimstone: 0.00<br>omen: 0.00<br>"
          ],
          [
           "<b>sushiboys</b><br>Team: TLN<br>Rating: 1.00<br><br>killjoy: 0.48<br>cypher: 0.23<br>jett: 0.11<br>raze: 0.06<br>chamber: 0.03<br>viper: 0.02<br>sova: 0.01<br>neon: 0.01<br>skye: 0.01<br>astra: 0.01<br>fade: 0.01<br>kayo: 0.00<br>sage: 0.00<br>breach: 0.00<br>"
          ],
          [
           "<b>klaus</b><br>Team: KRÜ<br>Rating: 1.00<br><br>killjoy: 0.28<br>sova: 0.19<br>viper: 0.14<br>skye: 0.13<br>cypher: 0.12<br>breach: 0.07<br>fade: 0.03<br>kayo: 0.02<br>jett: 0.01<br>raze: 0.01<br>gekko: 0.00<br>"
          ],
          [
           "<b>benjyfishy</b><br>Team: TH<br>Rating: 1.10<br><br>killjoy: 0.55<br>jett: 0.28<br>raze: 0.06<br>chamber: 0.05<br>viper: 0.04<br>cypher: 0.02<br>reyna: 0.01<br>"
          ]
         ],
         "hovertemplate": "%{customdata}",
         "hovertext": [
          "alfajer",
          "less",
          "munchkin",
          "k1ng",
          "shyy",
          "benkai",
          "jitboys",
          "mojj",
          "sushiboys",
          "klaus",
          "benjyfishy"
         ],
         "legendgroup": "killjoy",
         "marker": {
          "color": "#00cc96",
          "opacity": 0.8,
          "size": 12,
          "symbol": "circle"
         },
         "mode": "markers+text",
         "name": "killjoy",
         "orientation": "v",
         "showlegend": true,
         "text": [
          "alfajer",
          "less",
          "munchkin",
          "k1ng",
          "shyy",
          "benkai",
          "jitboys",
          "mojj",
          "sushiboys",
          "klaus",
          "benjyfishy"
         ],
         "textposition": "top center",
         "type": "scatter",
         "x": [
          -0.05619358271360397,
          -0.3914062976837158,
          -0.16247713565826416,
          -1.2915414571762085,
          0.10445469617843628,
          -1.3553597927093506,
          -0.5361183285713196,
          -0.9244006276130676,
          -0.5204095840454102,
          -1.00779390335083,
          0.2999863028526306
         ],
         "xaxis": "x",
         "y": [
          11.379048347473145,
          11.217310905456543,
          10.825090408325195,
          11.958797454833984,
          10.127079963684082,
          10.812252044677734,
          9.821677207946777,
          11.722450256347656,
          11.918364524841309,
          10.712312698364258,
          10.501739501953125
         ],
         "yaxis": "y"
        },
        {
         "customdata": [
          [
           "<b>kingg</b><br>Team: LEV<br>Rating: 1.17<br><br>raze: 0.33<br>viper: 0.26<br>kayo: 0.12<br>sage: 0.08<br>breach: 0.07<br>phoenix: 0.06<br>neon: 0.06<br>skye: 0.01<br>reyna: 0.00<br>brimstone: 0.00<br>omen: 0.00<br>"
          ],
          [
           "<b>nukkye</b><br>Team: GIA<br>Rating: 1.17<br><br>raze: 0.46<br>sova: 0.15<br>jett: 0.10<br>sage: 0.07<br>reyna: 0.06<br>killjoy: 0.04<br>kayo: 0.03<br>breach: 0.02<br>phoenix: 0.01<br>viper: 0.01<br>skye: 0.01<br>cypher: 0.01<br>omen: 0.01<br>neon: 0.01<br>chamber: 0.01<br>fade: 0.00<br>"
          ],
          [
           "<b>trexx</b><br>Team: KOI<br>Rating: 1.21<br><br>raze: 0.54<br>sova: 0.09<br>kayo: 0.08<br>jett: 0.06<br>cypher: 0.05<br>reyna: 0.05<br>viper: 0.03<br>skye: 0.03<br>killjoy: 0.02<br>fade: 0.02<br>sage: 0.01<br>yoru: 0.01<br>chamber: 0.00<br>breach: 0.00<br>neon: 0.00<br>"
          ],
          [
           "<b>zyppan</b><br>Team: NAVI<br>Rating: 1.11<br><br>raze: 0.58<br>kayo: 0.20<br>sage: 0.06<br>skye: 0.06<br>reyna: 0.03<br>fade: 0.02<br>jett: 0.02<br>breach: 0.01<br>brimstone: 0.01<br>phoenix: 0.01<br>sova: 0.01<br>"
          ],
          [
           "<b>jinggg</b><br>Team: PRX<br>Rating: 1.14<br><br>raze: 0.63<br>reyna: 0.16<br>sage: 0.08<br>jett: 0.06<br>phoenix: 0.03<br>chamber: 0.02<br>kayo: 0.01<br>neon: 0.00<br>breach: 0.00<br>"
          ],
          [
           "<b>kamyk</b><br>Team: FNC<br>Rating: 1.09<br><br>raze: 0.21<br>sage: 0.13<br>cypher: 0.12<br>astra: 0.11<br>skye: 0.08<br>killjoy: 0.07<br>viper: 0.07<br>kayo: 0.05<br>omen: 0.04<br>chamber: 0.04<br>sova: 0.03<br>breach: 0.03<br>phoenix: 0.01<br>brimstone: 0.00<br>yoru: 0.00<br>"
          ],
          [
           "<b>zekken</b><br>Team: SEN<br>Rating: 1.20<br><br>raze: 0.38<br>sova: 0.28<br>kayo: 0.08<br>skye: 0.07<br>jett: 0.06<br>neon: 0.03<br>phoenix: 0.02<br>sage: 0.02<br>chamber: 0.01<br>killjoy: 0.01<br>viper: 0.01<br>breach: 0.01<br>omen: 0.01<br>fade: 0.01<br>reyna: 0.01<br>astra: 0.00<br>brimstone: 0.00<br>yoru: 0.00<br>cypher: 0.00<br>"
          ],
          [
           "<b>twisten</b><br>Team: VIT<br>Rating: 1.15<br><br>raze: 0.46<br>jett: 0.38<br>kayo: 0.04<br>cypher: 0.03<br>reyna: 0.03<br>viper: 0.02<br>chamber: 0.02<br>sova: 0.01<br>omen: 0.01<br>sage: 0.01<br>breach: 0.00<br>brimstone: 0.00<br>phoenix: 0.00<br>killjoy: 0.00<br>"
          ],
          [
           "<b>daveeys</b><br>Team: KRÜ<br>Rating: 1.11<br><br>raze: 0.33<br>chamber: 0.15<br>phoenix: 0.14<br>reyna: 0.07<br>jett: 0.07<br>brimstone: 0.06<br>kayo: 0.05<br>killjoy: 0.03<br>astra: 0.03<br>omen: 0.03<br>cypher: 0.01<br>breach: 0.01<br>sova: 0.01<br>harbor: 0.01<br>skye: 0.00<br>"
          ],
          [
           "<b>asuna</b><br>Team: 100T<br>Rating: 1.12<br><br>raze: 0.30<br>reyna: 0.17<br>phoenix: 0.12<br>skye: 0.11<br>jett: 0.10<br>kayo: 0.09<br>sage: 0.04<br>sova: 0.02<br>fade: 0.02<br>neon: 0.01<br>breach: 0.01<br>gekko: 0.01<br>chamber: 0.00<br>yoru: 0.00<br>astra: 0.00<br>omen: 0.00<br>"
          ],
          [
           "<b>mwzera</b><br>Team: FUR<br>Rating: 1.11<br><br>raze: 0.50<br>jett: 0.19<br>sova: 0.14<br>skye: 0.09<br>reyna: 0.03<br>omen: 0.02<br>fade: 0.02<br>kayo: 0.01<br>killjoy: 0.00<br>viper: 0.00<br>chamber: 0.00<br>yoru: 0.00<br>"
          ],
          [
           "<b>jawgemo</b><br>Team: EG<br>Rating: 1.07<br><br>raze: 0.34<br>jett: 0.25<br>omen: 0.08<br>kayo: 0.06<br>sage: 0.06<br>astra: 0.06<br>reyna: 0.05<br>skye: 0.04<br>harbor: 0.02<br>neon: 0.01<br>chamber: 0.01<br>brimstone: 0.01<br>viper: 0.01<br>phoenix: 0.01<br>fade: 0.01<br>yoru: 0.00<br>"
          ],
          [
           "<b>jremy</b><br>Team: TS<br>Rating: 1.01<br><br>raze: 0.42<br>chamber: 0.11<br>jett: 0.09<br>killjoy: 0.08<br>cypher: 0.07<br>sage: 0.05<br>skye: 0.04<br>fade: 0.03<br>kayo: 0.02<br>sova: 0.02<br>phoenix: 0.02<br>breach: 0.02<br>neon: 0.01<br>"
          ],
          [
           "<b>suggest</b><br>Team: DFM<br>Rating: 1.06<br><br>raze: 0.28<br>breach: 0.19<br>skye: 0.11<br>kayo: 0.08<br>jett: 0.06<br>sova: 0.06<br>sage: 0.06<br>phoenix: 0.05<br>killjoy: 0.05<br>chamber: 0.03<br>viper: 0.02<br>yoru: 0.01<br>"
          ],
          [
           "<b>mazin</b><br>Team: FUR<br>Rating: 0.99<br><br>raze: 0.22<br>astra: 0.14<br>omen: 0.14<br>sage: 0.12<br>viper: 0.10<br>skye: 0.10<br>kayo: 0.07<br>jett: 0.05<br>harbor: 0.04<br>breach: 0.03<br>"
          ],
          [
           "<b>tennn</b><br>Team: ZETA<br>Rating: 0.85<br><br>raze: 0.32<br>killjoy: 0.15<br>breach: 0.11<br>sova: 0.11<br>sage: 0.08<br>skye: 0.06<br>kayo: 0.05<br>reyna: 0.04<br>jett: 0.04<br>viper: 0.03<br>phoenix: 0.02<br>fade: 0.01<br>"
          ],
          [
           "<b>ayrin</b><br>Team: GE<br>Rating: 0.99<br><br>raze: 0.27<br>viper: 0.22<br>killjoy: 0.19<br>cypher: 0.08<br>astra: 0.08<br>omen: 0.04<br>sage: 0.03<br>phoenix: 0.03<br>brimstone: 0.02<br>kayo: 0.02<br>harbor: 0.01<br>reyna: 0.00<br>skye: 0.00<br>chamber: 0.00<br>fade: 0.00<br>"
          ],
          [
           "<b>jzz</b><br>Team: MIBR<br>Rating: 1.05<br><br>raze: 0.27<br>jett: 0.24<br>skye: 0.10<br>neon: 0.09<br>reyna: 0.08<br>sova: 0.07<br>fade: 0.06<br>chamber: 0.06<br>breach: 0.02<br>kayo: 0.01<br>astra: 0.01<br>"
          ],
          [
           "<b>rhyme</b><br>Team: GIA<br>Rating: 0.98<br><br>raze: 0.34<br>cypher: 0.09<br>sova: 0.09<br>omen: 0.07<br>jett: 0.05<br>kayo: 0.05<br>sage: 0.05<br>astra: 0.04<br>killjoy: 0.04<br>breach: 0.04<br>viper: 0.03<br>reyna: 0.03<br>chamber: 0.02<br>yoru: 0.02<br>brimstone: 0.02<br>neon: 0.01<br>harbor: 0.01<br>skye: 0.00<br>phoenix: 0.00<br>"
          ],
          [
           "<b>kon4n</b><br>Team: FUR<br>Rating: 1.03<br><br>raze: 0.31<br>skye: 0.18<br>sage: 0.15<br>phoenix: 0.12<br>breach: 0.11<br>reyna: 0.07<br>sova: 0.02<br>neon: 0.01<br>kayo: 0.01<br>"
          ],
          [
           "<b>xnfri</b><br>Team: DFM<br>Rating: 1.03<br><br>raze: 0.23<br>skye: 0.20<br>chamber: 0.12<br>jett: 0.11<br>kayo: 0.08<br>sova: 0.06<br>omen: 0.05<br>reyna: 0.05<br>harbor: 0.02<br>astra: 0.02<br>brimstone: 0.02<br>breach: 0.01<br>viper: 0.01<br>yoru: 0.01<br>phoenix: 0.01<br>sage: 0.01<br>"
          ],
          [
           "<b>axeddy</b><br>Team: KRÜ<br>Rating: 1.01<br><br>raze: 0.20<br>kayo: 0.19<br>skye: 0.15<br>phoenix: 0.10<br>killjoy: 0.06<br>sage: 0.05<br>jett: 0.05<br>breach: 0.04<br>omen: 0.03<br>yoru: 0.03<br>viper: 0.03<br>brimstone: 0.02<br>reyna: 0.02<br>chamber: 0.02<br>sova: 0.01<br>astra: 0.01<br>harbor: 0.01<br>"
          ]
         ],
         "hovertemplate": "%{customdata}",
         "hovertext": [
          "kingg",
          "nukkye",
          "trexx",
          "zyppan",
          "jinggg",
          "kamyk",
          "zekken",
          "twisten",
          "daveeys",
          "asuna",
          "mwzera",
          "jawgemo",
          "jremy",
          "suggest",
          "mazin",
          "tennn",
          "ayrin",
          "jzz",
          "rhyme",
          "kon4n",
          "xnfri",
          "axeddy"
         ],
         "legendgroup": "raze",
         "marker": {
          "color": "#ab63fa",
          "opacity": 0.8,
          "size": 12,
          "symbol": "circle"
         },
         "mode": "markers+text",
         "name": "raze",
         "orientation": "v",
         "showlegend": true,
         "text": [
          "kingg",
          "nukkye",
          "trexx",
          "zyppan",
          "jinggg",
          "kamyk",
          "zekken",
          "twisten",
          "daveeys",
          "asuna",
          "mwzera",
          "jawgemo",
          "jremy",
          "suggest",
          "mazin",
          "tennn",
          "ayrin",
          "jzz",
          "rhyme",
          "kon4n",
          "xnfri",
          "axeddy"
         ],
         "textposition": "top center",
         "type": "scatter",
         "x": [
          1.7600570917129517,
          3.73057222366333,
          3.2986021041870117,
          3.061363458633423,
          3.5544283390045166,
          0.6821895837783813,
          2.894477605819702,
          4.162489891052246,
          2.0534074306488037,
          3.2658803462982178,
          3.435803174972534,
          3.635157823562622,
          1.617924690246582,
          0.9622422456741333,
          -0.2045431286096573,
          1.264939785003662,
          1.7782155275344849,
          1.5989776849746704,
          2.8258109092712402,
          0.9365846514701843,
          0.7148392796516418,
          0.6515704989433289
         ],
         "xaxis": "x",
         "y": [
          7.191553115844727,
          7.268852710723877,
          7.0958356857299805,
          6.54079532623291,
          6.988925457000732,
          7.9442243576049805,
          6.8479180335998535,
          8.870271682739258,
          7.713160037994385,
          7.4458842277526855,
          7.881173133850098,
          8.48303508758545,
          7.731375694274902,
          7.551490306854248,
          8.139214515686035,
          7.698212146759033,
          8.154608726501465,
          8.672785758972168,
          7.603662014007568,
          7.094277381896973,
          8.300722122192383,
          7.202253818511963
         ],
         "yaxis": "y"
        },
        {
         "customdata": [
          [
           "<b>mako</b><br>Team: DRX<br>Rating: 1.22<br><br>viper: 0.33<br>jett: 0.21<br>astra: 0.19<br>omen: 0.15<br>brimstone: 0.07<br>sage: 0.03<br>raze: 0.01<br>reyna: 0.01<br>phoenix: 0.00<br>"
          ],
          [
           "<b>atakaptan</b><br>Team: FUT<br>Rating: 1.11<br><br>viper: 0.41<br>brimstone: 0.27<br>omen: 0.15<br>astra: 0.08<br>breach: 0.04<br>sage: 0.02<br>kayo: 0.01<br>raze: 0.00<br>killjoy: 0.00<br>"
          ],
          [
           "<b>nivera</b><br>Team: KC<br>Rating: 1.05<br><br>viper: 0.30<br>killjoy: 0.14<br>cypher: 0.14<br>omen: 0.12<br>chamber: 0.12<br>sova: 0.06<br>kayo: 0.06<br>breach: 0.04<br>brimstone: 0.02<br>astra: 0.01<br>"
          ],
          [
           "<b>jakee</b><br>Team: C9<br>Rating: 1.09<br><br>viper: 0.27<br>omen: 0.20<br>jett: 0.18<br>astra: 0.13<br>chamber: 0.05<br>sova: 0.04<br>brimstone: 0.03<br>raze: 0.03<br>cypher: 0.03<br>breach: 0.02<br>killjoy: 0.01<br>reyna: 0.01<br>phoenix: 0.01<br>neon: 0.00<br>fade: 0.00<br>"
          ],
          [
           "<b>rglmeister</b><br>Team: MIBR<br>Rating: 1.07<br><br>viper: 0.25<br>omen: 0.25<br>astra: 0.21<br>brimstone: 0.13<br>harbor: 0.06<br>raze: 0.06<br>sage: 0.03<br>breach: 0.01<br>skye: 0.01<br>"
          ]
         ],
         "hovertemplate": "%{customdata}",
         "hovertext": [
          "mako",
          "atakaptan",
          "nivera",
          "jakee",
          "rglmeister"
         ],
         "legendgroup": "viper",
         "marker": {
          "color": "#FFA15A",
          "opacity": 0.8,
          "size": 12,
          "symbol": "circle"
         },
         "mode": "markers+text",
         "name": "viper",
         "orientation": "v",
         "showlegend": true,
         "text": [
          "mako",
          "atakaptan",
          "nivera",
          "jakee",
          "rglmeister"
         ],
         "textposition": "top center",
         "type": "scatter",
         "x": [
          -3.041989326477051,
          -2.6685898303985596,
          -0.9874182343482971,
          -3.539144277572632,
          -2.0739731788635254
         ],
         "xaxis": "x",
         "y": [
          9.288551330566406,
          9.06261920928955,
          9.820058822631836,
          9.228885650634766,
          8.787713050842285
         ],
         "yaxis": "y"
        },
        {
         "customdata": [
          [
           "<b>invy</b><br>Team: TS<br>Rating: 1.17<br><br>breach: 0.23<br>sova: 0.23<br>kayo: 0.14<br>skye: 0.11<br>fade: 0.06<br>cypher: 0.05<br>jett: 0.04<br>killjoy: 0.04<br>astra: 0.03<br>viper: 0.02<br>omen: 0.01<br>raze: 0.01<br>reyna: 0.01<br>chamber: 0.01<br>brimstone: 0.01<br>sage: 0.01<br>"
          ],
          [
           "<b>boaster</b><br>Team: FNC<br>Rating: 0.99<br><br>breach: 0.20<br>astra: 0.19<br>sova: 0.16<br>brimstone: 0.14<br>omen: 0.11<br>viper: 0.08<br>jett: 0.04<br>kayo: 0.03<br>sage: 0.02<br>skye: 0.02<br>cypher: 0.01<br>fade: 0.01<br>reyna: 0.01<br>"
          ],
          [
           "<b>cender</b><br>Team: VIT<br>Rating: 1.11<br><br>breach: 0.27<br>cypher: 0.16<br>killjoy: 0.12<br>sage: 0.10<br>chamber: 0.10<br>viper: 0.09<br>astra: 0.08<br>omen: 0.07<br>jett: 0.01<br>brimstone: 0.01<br>"
          ],
          [
           "<b>stax</b><br>Team: DRX<br>Rating: 1.05<br><br>breach: 0.47<br>skye: 0.27<br>kayo: 0.10<br>sage: 0.06<br>fade: 0.04<br>phoenix: 0.02<br>brimstone: 0.01<br>omen: 0.01<br>harbor: 0.01<br>reyna: 0.00<br>"
          ],
          [
           "<b>destrian</b><br>Team: VIT<br>Rating: 1.08<br><br>breach: 0.23<br>sova: 0.23<br>astra: 0.13<br>omen: 0.11<br>fade: 0.09<br>sage: 0.08<br>brimstone: 0.08<br>viper: 0.02<br>harbor: 0.02<br>killjoy: 0.01<br>skye: 0.00<br>gekko: 0.00<br>"
          ],
          [
           "<b>crws</b><br>Team: TLN<br>Rating: 0.96<br><br>breach: 0.44<br>sage: 0.12<br>skye: 0.12<br>kayo: 0.10<br>viper: 0.06<br>omen: 0.05<br>astra: 0.03<br>brimstone: 0.03<br>reyna: 0.02<br>sova: 0.02<br>harbor: 0.01<br>raze: 0.01<br>jett: 0.01<br>cypher: 0.00<br>"
          ],
          [
           "<b>newzera</b><br>Team: KC<br>Rating: 1.04<br><br>breach: 0.27<br>skye: 0.18<br>jett: 0.14<br>sova: 0.12<br>sage: 0.10<br>omen: 0.05<br>kayo: 0.05<br>cypher: 0.03<br>phoenix: 0.02<br>killjoy: 0.01<br>viper: 0.01<br>raze: 0.01<br>reyna: 0.01<br>harbor: 0.01<br>"
          ]
         ],
         "hovertemplate": "%{customdata}",
         "hovertext": [
          "invy",
          "boaster",
          "cender",
          "stax",
          "destrian",
          "crws",
          "newzera"
         ],
         "legendgroup": "breach",
         "marker": {
          "color": "#19d3f3",
          "opacity": 0.8,
          "size": 12,
          "symbol": "circle"
         },
         "mode": "markers+text",
         "name": "breach",
         "orientation": "v",
         "showlegend": true,
         "text": [
          "invy",
          "boaster",
          "cender",
          "stax",
          "destrian",
          "crws",
          "newzera"
         ],
         "textposition": "top center",
         "type": "scatter",
         "x": [
          -1.0186461210250854,
          -2.4358863830566406,
          -1.3628764152526855,
          -0.827353835105896,
          -1.9294596910476685,
          -1.0080723762512207,
          -0.7445066571235657
         ],
         "xaxis": "x",
         "y": [
          6.7855730056762695,
          7.415493488311768,
          9.737052917480469,
          7.620481491088867,
          7.092844009399414,
          8.17074966430664,
          7.328405380249023
         ],
         "yaxis": "y"
        },
        {
         "customdata": [
          [
           "<b>xffero</b><br>Team: RRQ<br>Rating: 1.08<br><br>astra: 0.18<br>viper: 0.14<br>breach: 0.13<br>raze: 0.13<br>omen: 0.09<br>sova: 0.08<br>kayo: 0.05<br>sage: 0.04<br>jett: 0.04<br>reyna: 0.04<br>fade: 0.02<br>brimstone: 0.02<br>phoenix: 0.02<br>skye: 0.02<br>yoru: 0.00<br>cypher: 0.00<br>"
          ],
          [
           "<b>sugarz3ro</b><br>Team: ZETA<br>Rating: 1.07<br><br>astra: 0.45<br>omen: 0.27<br>viper: 0.18<br>brimstone: 0.09<br>harbor: 0.01<br>jett: 0.01<br>"
          ],
          [
           "<b>2ge</b><br>Team: RRQ<br>Rating: 1.05<br><br>astra: 0.37<br>viper: 0.23<br>omen: 0.14<br>skye: 0.12<br>harbor: 0.03<br>brimstone: 0.02<br>fade: 0.02<br>sage: 0.02<br>breach: 0.02<br>kayo: 0.01<br>raze: 0.01<br>reyna: 0.01<br>phoenix: 0.01<br>"
          ],
          [
           "<b>borkum</b><br>Team: TS<br>Rating: 0.96<br><br>astra: 0.26<br>omen: 0.24<br>viper: 0.18<br>phoenix: 0.14<br>breach: 0.06<br>brimstone: 0.05<br>cypher: 0.03<br>reyna: 0.02<br>killjoy: 0.01<br>skye: 0.01<br>harbor: 0.00<br>"
          ],
          [
           "<b>mindfreak</b><br>Team: PRX<br>Rating: 1.05<br><br>astra: 0.35<br>omen: 0.27<br>viper: 0.19<br>brimstone: 0.11<br>cypher: 0.03<br>sage: 0.03<br>harbor: 0.01<br>reyna: 0.01<br>kayo: 0.00<br>raze: 0.00<br>"
          ],
          [
           "<b>pancada</b><br>Team: SEN<br>Rating: 1.02<br><br>astra: 0.27<br>omen: 0.24<br>sage: 0.19<br>brimstone: 0.07<br>raze: 0.07<br>viper: 0.06<br>killjoy: 0.06<br>reyna: 0.02<br>cypher: 0.01<br>chamber: 0.01<br>jett: 0.00<br>"
          ],
          [
           "<b>sh1n</b><br>Team: KC<br>Rating: 1.02<br><br>astra: 0.33<br>sova: 0.20<br>omen: 0.16<br>viper: 0.11<br>brimstone: 0.04<br>fade: 0.03<br>raze: 0.02<br>breach: 0.02<br>skye: 0.02<br>gekko: 0.02<br>sage: 0.01<br>kayo: 0.01<br>jett: 0.01<br>reyna: 0.00<br>cypher: 0.00<br>chamber: 0.00<br>neon: 0.00<br>"
          ],
          [
           "<b>dephh</b><br>Team: SEN<br>Rating: 0.94<br><br>astra: 0.28<br>cypher: 0.26<br>killjoy: 0.17<br>breach: 0.07<br>kayo: 0.07<br>omen: 0.05<br>sage: 0.04<br>harbor: 0.02<br>viper: 0.02<br>chamber: 0.02<br>brimstone: 0.01<br>phoenix: 0.00<br>skye: 0.00<br>"
          ]
         ],
         "hovertemplate": "%{customdata}",
         "hovertext": [
          "xffero",
          "sugarz3ro",
          "2ge",
          "borkum",
          "mindfreak",
          "pancada",
          "sh1n",
          "dephh"
         ],
         "legendgroup": "astra",
         "marker": {
          "color": "#FF6692",
          "opacity": 0.8,
          "size": 12,
          "symbol": "circle"
         },
         "mode": "markers+text",
         "name": "astra",
         "orientation": "v",
         "showlegend": true,
         "text": [
          "xffero",
          "sugarz3ro",
          "2ge",
          "borkum",
          "mindfreak",
          "pancada",
          "sh1n",
          "dephh"
         ],
         "textposition": "top center",
         "type": "scatter",
         "x": [
          -1.599837303161621,
          -3.121253252029419,
          -2.5559256076812744,
          -3.614201784133911,
          -4.109372138977051,
          -2.824477195739746,
          -2.763697385787964,
          -1.5488859415054321
         ],
         "xaxis": "x",
         "y": [
          7.878509998321533,
          8.769097328186035,
          8.422948837280273,
          8.758352279663086,
          8.591361999511719,
          8.224435806274414,
          7.7803955078125,
          10.247940063476562
         ],
         "yaxis": "y"
        },
        {
         "customdata": [
          [
           "<b>ethan</b><br>Team: EG<br>Rating: 1.05<br><br>skye: 0.34<br>sage: 0.16<br>omen: 0.15<br>breach: 0.12<br>kayo: 0.09<br>chamber: 0.06<br>sova: 0.05<br>raze: 0.01<br>yoru: 0.00<br>fade: 0.00<br>"
          ],
          [
           "<b>emman</b><br>Team: RRQ<br>Rating: 1.02<br><br>skye: 0.33<br>raze: 0.21<br>sage: 0.12<br>kayo: 0.09<br>reyna: 0.07<br>omen: 0.04<br>phoenix: 0.04<br>killjoy: 0.04<br>astra: 0.03<br>breach: 0.02<br>"
          ],
          [
           "<b>starxo</b><br>Team: KOI<br>Rating: 1.03<br><br>skye: 0.30<br>sage: 0.18<br>omen: 0.15<br>raze: 0.06<br>jett: 0.06<br>brimstone: 0.05<br>breach: 0.04<br>astra: 0.04<br>reyna: 0.03<br>sova: 0.02<br>neon: 0.02<br>phoenix: 0.01<br>viper: 0.01<br>chamber: 0.01<br>kayo: 0.01<br>fade: 0.01<br>cypher: 0.00<br>"
          ],
          [
           "<b>carpe</b><br>Team: T1<br>Rating: 0.93<br><br>skye: 0.26<br>brimstone: 0.22<br>breach: 0.20<br>gekko: 0.12<br>kayo: 0.10<br>sova: 0.06<br>fade: 0.02<br>astra: 0.02<br>"
          ],
          [
           "<b>soulcas</b><br>Team: TL<br>Rating: 1.04<br><br>skye: 0.24<br>raze: 0.24<br>sova: 0.16<br>fade: 0.09<br>kayo: 0.07<br>reyna: 0.05<br>astra: 0.04<br>sage: 0.03<br>viper: 0.02<br>neon: 0.02<br>breach: 0.02<br>omen: 0.01<br>phoenix: 0.01<br>brimstone: 0.01<br>jett: 0.00<br>"
          ]
         ],
         "hovertemplate": "%{customdata}",
         "hovertext": [
          "ethan",
          "emman",
          "starxo",
          "carpe",
          "soulcas"
         ],
         "legendgroup": "skye",
         "marker": {
          "color": "#B6E880",
          "opacity": 0.8,
          "size": 12,
          "symbol": "circle"
         },
         "mode": "markers+text",
         "name": "skye",
         "orientation": "v",
         "showlegend": true,
         "text": [
          "ethan",
          "emman",
          "starxo",
          "carpe",
          "soulcas"
         ],
         "textposition": "top center",
         "type": "scatter",
         "x": [
          -0.23608963191509247,
          0.361925333738327,
          -0.28442496061325073,
          0.22083567082881927,
          0.8016636967658997
         ],
         "xaxis": "x",
         "y": [
          6.922027111053467,
          6.852793216705322,
          7.144148826599121,
          9.485472679138184,
          6.054675102233887
         ],
         "yaxis": "y"
        },
        {
         "customdata": [
          [
           "<b>nats</b><br>Team: TL<br>Rating: 1.13<br><br>cypher: 0.60<br>viper: 0.24<br>killjoy: 0.07<br>astra: 0.04<br>chamber: 0.02<br>kayo: 0.01<br>omen: 0.01<br>sage: 0.01<br>fade: 0.00<br>"
          ],
          [
           "<b>suygetsu</b><br>Team: NAVI<br>Rating: 1.11<br><br>cypher: 0.49<br>killjoy: 0.20<br>viper: 0.17<br>sage: 0.06<br>skye: 0.05<br>jett: 0.02<br>chamber: 0.01<br>"
          ],
          [
           "<b>laz</b><br>Team: ZETA<br>Rating: 1.09<br><br>cypher: 0.28<br>chamber: 0.17<br>killjoy: 0.10<br>sova: 0.10<br>phoenix: 0.09<br>viper: 0.09<br>skye: 0.08<br>breach: 0.03<br>fade: 0.02<br>yoru: 0.02<br>kayo: 0.01<br>jett: 0.01<br>sage: 0.01<br>omen: 0.00<br>"
          ],
          [
           "<b>lmemore</b><br>Team: RRQ<br>Rating: 1.04<br><br>cypher: 0.21<br>viper: 0.19<br>killjoy: 0.18<br>sova: 0.17<br>chamber: 0.12<br>reyna: 0.07<br>omen: 0.03<br>skye: 0.02<br>brimstone: 0.02<br>sage: 0.00<br>"
          ],
          [
           "<b>saadhak</b><br>Team: LOUD<br>Rating: 1.07<br><br>cypher: 0.27<br>kayo: 0.20<br>killjoy: 0.17<br>viper: 0.08<br>raze: 0.05<br>skye: 0.05<br>breach: 0.05<br>sage: 0.04<br>astra: 0.03<br>chamber: 0.02<br>brimstone: 0.01<br>omen: 0.01<br>gekko: 0.01<br>fade: 0.00<br>"
          ],
          [
           "<b>finesse</b><br>Team: NRG<br>Rating: 0.87<br><br>cypher: 0.39<br>killjoy: 0.22<br>viper: 0.19<br>breach: 0.10<br>fade: 0.03<br>sage: 0.02<br>kayo: 0.02<br>phoenix: 0.01<br>skye: 0.01<br>omen: 0.01<br>brimstone: 0.00<br>"
          ],
          [
           "<b>weber</b><br>Team: TH<br>Rating: 0.31<br><br>cypher: 0.40<br>breach: 0.27<br>omen: 0.21<br>killjoy: 0.05<br>skye: 0.04<br>sova: 0.01<br>kayo: 0.01<br>"
          ]
         ],
         "hovertemplate": "%{customdata}",
         "hovertext": [
          "nats",
          "suygetsu",
          "laz",
          "lmemore",
          "saadhak",
          "finesse",
          "weber"
         ],
         "legendgroup": "cypher",
         "marker": {
          "color": "#FF97FF",
          "opacity": 0.8,
          "size": 12,
          "symbol": "circle"
         },
         "mode": "markers+text",
         "name": "cypher",
         "orientation": "v",
         "showlegend": true,
         "text": [
          "nats",
          "suygetsu",
          "laz",
          "lmemore",
          "saadhak",
          "finesse",
          "weber"
         ],
         "textposition": "top center",
         "type": "scatter",
         "x": [
          -1.7715911865234375,
          -1.4249207973480225,
          -0.8552758693695068,
          -1.6943373680114746,
          -0.8245930671691895,
          -1.8265730142593384,
          -0.5633066296577454
         ],
         "xaxis": "x",
         "y": [
          11.653928756713867,
          11.383909225463867,
          10.876172065734863,
          10.935352325439453,
          10.50088119506836,
          11.75014591217041,
          9.534010887145996
         ],
         "yaxis": "y"
        },
        {
         "customdata": [
          [
           "<b>demon1</b><br>Team: EG<br>Rating: 1.16<br><br>chamber: 0.60<br>jett: 0.26<br>brimstone: 0.05<br>neon: 0.04<br>cypher: 0.03<br>killjoy: 0.02<br>astra: 0.00<br>"
          ]
         ],
         "hovertemplate": "%{customdata}",
         "hovertext": [
          "demon1"
         ],
         "legendgroup": "chamber",
         "marker": {
          "color": "#FECB52",
          "opacity": 0.8,
          "size": 12,
          "symbol": "circle"
         },
         "mode": "markers+text",
         "name": "chamber",
         "orientation": "v",
         "showlegend": true,
         "text": [
          "demon1"
         ],
         "textposition": "top center",
         "type": "scatter",
         "x": [
          3.0543038845062256
         ],
         "xaxis": "x",
         "y": [
          11.278393745422363
         ],
         "yaxis": "y"
        },
        {
         "customdata": [
          [
           "<b>victor</b><br>Team: NRG<br>Rating: 0.95<br><br>phoenix: 0.24<br>raze: 0.21<br>kayo: 0.11<br>neon: 0.10<br>skye: 0.08<br>omen: 0.06<br>killjoy: 0.05<br>sage: 0.03<br>brimstone: 0.03<br>jett: 0.03<br>breach: 0.02<br>reyna: 0.02<br>viper: 0.01<br>yoru: 0.00<br>sova: 0.00<br>chamber: 0.00<br>"
          ]
         ],
         "hovertemplate": "%{customdata}",
         "hovertext": [
          "victor"
         ],
         "legendgroup": "phoenix",
         "marker": {
          "color": "#636efa",
          "opacity": 0.8,
          "size": 12,
          "symbol": "circle"
         },
         "mode": "markers+text",
         "name": "phoenix",
         "orientation": "v",
         "showlegend": true,
         "text": [
          "victor"
         ],
         "textposition": "top center",
         "type": "scatter",
         "x": [
          1.730263352394104
         ],
         "xaxis": "x",
         "y": [
          6.917919158935547
         ],
         "yaxis": "y"
        },
        {
         "customdata": [
          [
           "<b>hoody</b><br>Team: GIA<br>Rating: 1.11<br><br>sage: 0.32<br>jett: 0.18<br>skye: 0.13<br>viper: 0.09<br>raze: 0.07<br>breach: 0.06<br>kayo: 0.03<br>killjoy: 0.03<br>reyna: 0.03<br>phoenix: 0.02<br>sova: 0.02<br>brimstone: 0.01<br>omen: 0.01<br>neon: 0.00<br>"
          ],
          [
           "<b>sheydos</b><br>Team: KOI<br>Rating: 1.18<br><br>sage: 0.40<br>raze: 0.16<br>skye: 0.14<br>breach: 0.06<br>killjoy: 0.05<br>kayo: 0.05<br>phoenix: 0.04<br>reyna: 0.04<br>sova: 0.03<br>viper: 0.02<br>fade: 0.01<br>brimstone: 0.00<br>cypher: 0.00<br>omen: 0.00<br>"
          ],
          [
           "<b>qraxs</b><br>Team: FUT<br>Rating: 1.01<br><br>sage: 0.36<br>kayo: 0.24<br>skye: 0.11<br>raze: 0.10<br>fade: 0.10<br>gekko: 0.02<br>phoenix: 0.02<br>reyna: 0.02<br>jett: 0.01<br>viper: 0.01<br>sova: 0.00<br>"
          ],
          [
           "<b>mazino</b><br>Team: LEV<br>Rating: 1.09<br><br>sage: 0.24<br>viper: 0.11<br>phoenix: 0.10<br>omen: 0.10<br>sova: 0.08<br>skye: 0.08<br>kayo: 0.07<br>fade: 0.06<br>harbor: 0.05<br>astra: 0.05<br>brimstone: 0.02<br>raze: 0.01<br>killjoy: 0.01<br>jett: 0.01<br>cypher: 0.01<br>breach: 0.00<br>reyna: 0.00<br>"
          ],
          [
           "<b>turko</b><br>Team: BBL<br>Rating: 0.80<br><br>sage: 0.42<br>killjoy: 0.20<br>brimstone: 0.10<br>breach: 0.07<br>sova: 0.05<br>kayo: 0.05<br>skye: 0.05<br>omen: 0.03<br>fade: 0.01<br>phoenix: 0.01<br>cypher: 0.01<br>reyna: 0.01<br>viper: 0.00<br>"
          ],
          [
           "<b>stellar</b><br>Team: 100T<br>Rating: 1.08<br><br>sage: 0.21<br>omen: 0.21<br>killjoy: 0.20<br>viper: 0.11<br>cypher: 0.08<br>chamber: 0.05<br>breach: 0.05<br>astra: 0.04<br>kayo: 0.02<br>skye: 0.01<br>sova: 0.01<br>phoenix: 0.01<br>harbor: 0.01<br>reyna: 0.00<br>brimstone: 0.00<br>raze: 0.00<br>jett: 0.00<br>"
          ],
          [
           "<b>ze1sh</b><br>Team: KC<br>Rating: 0.40<br><br>sage: 0.25<br>sova: 0.17<br>breach: 0.17<br>kayo: 0.11<br>viper: 0.11<br>killjoy: 0.08<br>skye: 0.08<br>raze: 0.03<br>"
          ]
         ],
         "hovertemplate": "%{customdata}",
         "hovertext": [
          "hoody",
          "sheydos",
          "qraxs",
          "mazino",
          "turko",
          "stellar",
          "ze1sh"
         ],
         "legendgroup": "sage",
         "marker": {
          "color": "#EF553B",
          "opacity": 0.8,
          "size": 12,
          "symbol": "circle"
         },
         "mode": "markers+text",
         "name": "sage",
         "orientation": "v",
         "showlegend": true,
         "text": [
          "hoody",
          "sheydos",
          "qraxs",
          "mazino",
          "turko",
          "stellar",
          "ze1sh"
         ],
         "textposition": "top center",
         "type": "scatter",
         "x": [
          -0.06583582609891891,
          0.05130229517817497,
          0.2041480392217636,
          -1.0588303804397583,
          -0.5164267420768738,
          -1.8774880170822144,
          -0.1802901327610016
         ],
         "xaxis": "x",
         "y": [
          8.177692413330078,
          7.627472877502441,
          7.80422306060791,
          8.187731742858887,
          8.43548583984375,
          9.307334899902344,
          9.080251693725586
         ],
         "yaxis": "y"
        },
        {
         "customdata": [
          [
           "<b>zellsis</b><br>Team: C9<br>Rating: 1.11<br><br>kayo: 0.19<br>raze: 0.17<br>phoenix: 0.15<br>killjoy: 0.14<br>reyna: 0.10<br>sage: 0.09<br>breach: 0.06<br>neon: 0.02<br>viper: 0.02<br>harbor: 0.01<br>chamber: 0.01<br>cypher: 0.01<br>skye: 0.01<br>sova: 0.00<br>jett: 0.00<br>"
          ],
          [
           "<b>xeppaa</b><br>Team: C9<br>Rating: 1.10<br><br>kayo: 0.29<br>raze: 0.22<br>skye: 0.22<br>fade: 0.10<br>reyna: 0.04<br>jett: 0.04<br>viper: 0.02<br>sova: 0.02<br>killjoy: 0.02<br>sage: 0.02<br>brimstone: 0.01<br>phoenix: 0.00<br>chamber: 0.00<br>"
          ]
         ],
         "hovertemplate": "%{customdata}",
         "hovertext": [
          "zellsis",
          "xeppaa"
         ],
         "legendgroup": "kayo",
         "marker": {
          "color": "#00cc96",
          "opacity": 0.8,
          "size": 12,
          "symbol": "circle"
         },
         "mode": "markers+text",
         "name": "kayo",
         "orientation": "v",
         "showlegend": true,
         "text": [
          "zellsis",
          "xeppaa"
         ],
         "textposition": "top center",
         "type": "scatter",
         "x": [
          1.2706111669540405,
          0.49954167008399963
         ],
         "xaxis": "x",
         "y": [
          6.70015287399292,
          6.444370269775391
         ],
         "yaxis": "y"
        },
        {
         "customdata": [
          [
           "<b>khalil</b><br>Team: FUR<br>Rating: 1.03<br><br>omen: 0.37<br>killjoy: 0.18<br>cypher: 0.18<br>brimstone: 0.08<br>astra: 0.08<br>viper: 0.06<br>chamber: 0.03<br>sova: 0.01<br>reyna: 0.01<br>"
          ],
          [
           "<b>sylvan</b><br>Team: GEN<br>Rating: 1.02<br><br>omen: 0.35<br>astra: 0.24<br>jett: 0.14<br>viper: 0.07<br>brimstone: 0.07<br>sova: 0.03<br>fade: 0.02<br>sage: 0.02<br>skye: 0.02<br>reyna: 0.01<br>"
          ],
          [
           "<b>intro</b><br>Team: T1<br>Rating: 1.04<br><br>omen: 0.25<br>viper: 0.13<br>phoenix: 0.10<br>breach: 0.10<br>killjoy: 0.09<br>skye: 0.08<br>sova: 0.07<br>kayo: 0.04<br>cypher: 0.04<br>brimstone: 0.02<br>chamber: 0.02<br>jett: 0.02<br>reyna: 0.02<br>harbor: 0.01<br>raze: 0.01<br>astra: 0.01<br>sage: 0.01<br>"
          ],
          [
           "<b>melser</b><br>Team: KRÜ<br>Rating: 1.03<br><br>omen: 0.36<br>astra: 0.30<br>sage: 0.09<br>brimstone: 0.08<br>viper: 0.05<br>raze: 0.03<br>sova: 0.03<br>reyna: 0.03<br>skye: 0.02<br>harbor: 0.01<br>jett: 0.01<br>"
          ],
          [
           "<b>bang</b><br>Team: 100T<br>Rating: 1.09<br><br>omen: 0.28<br>skye: 0.17<br>astra: 0.11<br>raze: 0.10<br>brimstone: 0.09<br>viper: 0.08<br>kayo: 0.05<br>phoenix: 0.04<br>reyna: 0.04<br>sage: 0.02<br>breach: 0.02<br>jett: 0.00<br>"
          ],
          [
           "<b>brave</b><br>Team: BBL<br>Rating: 1.03<br><br>omen: 0.25<br>raze: 0.15<br>astra: 0.14<br>sage: 0.14<br>viper: 0.12<br>kayo: 0.05<br>skye: 0.05<br>breach: 0.04<br>brimstone: 0.04<br>cypher: 0.01<br>jett: 0.01<br>reyna: 0.00<br>killjoy: 0.00<br>"
          ],
          [
           "<b>marved</b><br>Team: SEN<br>Rating: 1.05<br><br>omen: 0.41<br>astra: 0.18<br>brimstone: 0.18<br>viper: 0.08<br>killjoy: 0.04<br>sage: 0.03<br>kayo: 0.02<br>phoenix: 0.01<br>skye: 0.01<br>fade: 0.01<br>reyna: 0.01<br>cypher: 0.01<br>chamber: 0.00<br>raze: 0.00<br>breach: 0.00<br>jett: 0.00<br>sova: 0.00<br>"
          ],
          [
           "<b>avova</b><br>Team: TH<br>Rating: 1.04<br><br>omen: 0.41<br>astra: 0.30<br>viper: 0.10<br>brimstone: 0.09<br>sage: 0.05<br>raze: 0.03<br>killjoy: 0.01<br>kayo: 0.01<br>phoenix: 0.01<br>cypher: 0.00<br>"
          ],
          [
           "<b>aslanm4shadow</b><br>Team: BBL<br>Rating: 1.00<br><br>omen: 0.29<br>sage: 0.16<br>astra: 0.10<br>jett: 0.08<br>reyna: 0.08<br>killjoy: 0.07<br>raze: 0.06<br>phoenix: 0.05<br>sova: 0.03<br>kayo: 0.03<br>chamber: 0.02<br>brimstone: 0.02<br>neon: 0.00<br>"
          ],
          [
           "<b>redgar</b><br>Team: TL<br>Rating: 0.95<br><br>omen: 0.33<br>sova: 0.33<br>astra: 0.11<br>breach: 0.07<br>viper: 0.05<br>skye: 0.04<br>kayo: 0.02<br>sage: 0.02<br>brimstone: 0.01<br>reyna: 0.01<br>fade: 0.01<br>harbor: 0.00<br>jett: 0.00<br>"
          ],
          [
           "<b>ange1</b><br>Team: NAVI<br>Rating: 0.94<br><br>omen: 0.39<br>brimstone: 0.23<br>viper: 0.12<br>sova: 0.04<br>cypher: 0.03<br>astra: 0.03<br>kayo: 0.03<br>breach: 0.03<br>fade: 0.02<br>phoenix: 0.02<br>yoru: 0.02<br>jett: 0.01<br>reyna: 0.01<br>gekko: 0.01<br>killjoy: 0.01<br>sage: 0.01<br>skye: 0.00<br>harbor: 0.00<br>raze: 0.00<br>"
          ],
          [
           "<b>bonecold</b><br>Team: VIT<br>Rating: 0.99<br><br>omen: 0.32<br>sova: 0.17<br>brimstone: 0.16<br>viper: 0.10<br>astra: 0.08<br>breach: 0.05<br>fade: 0.04<br>sage: 0.03<br>kayo: 0.02<br>skye: 0.02<br>raze: 0.01<br>killjoy: 0.01<br>"
          ],
          [
           "<b>xms</b><br>Team: KC<br>Rating: 1.08<br><br>omen: 0.28<br>chamber: 0.18<br>astra: 0.15<br>brimstone: 0.09<br>killjoy: 0.08<br>sage: 0.08<br>reyna: 0.06<br>harbor: 0.03<br>cypher: 0.02<br>kayo: 0.01<br>phoenix: 0.01<br>jett: 0.01<br>viper: 0.01<br>"
          ],
          [
           "<b>boo</b><br>Team: TH<br>Rating: 1.08<br><br>omen: 0.42<br>astra: 0.20<br>viper: 0.09<br>sage: 0.07<br>brimstone: 0.06<br>fade: 0.04<br>killjoy: 0.04<br>breach: 0.03<br>cypher: 0.02<br>sova: 0.01<br>skye: 0.01<br>kayo: 0.01<br>harbor: 0.00<br>raze: 0.00<br>"
          ],
          [
           "<b>txozin</b><br>Team: MIBR<br>Rating: 0.84<br><br>omen: 0.73<br>astra: 0.11<br>killjoy: 0.07<br>brimstone: 0.05<br>viper: 0.03<br>chamber: 0.01<br>"
          ]
         ],
         "hovertemplate": "%{customdata}",
         "hovertext": [
          "khalil",
          "sylvan",
          "intro",
          "melser",
          "bang",
          "brave",
          "marved",
          "avova",
          "aslanm4shadow",
          "redgar",
          "ange1",
          "bonecold",
          "xms",
          "boo",
          "txozin"
         ],
         "legendgroup": "omen",
         "marker": {
          "color": "#ab63fa",
          "opacity": 0.8,
          "size": 12,
          "symbol": "circle"
         },
         "mode": "markers+text",
         "name": "omen",
         "orientation": "v",
         "showlegend": true,
         "text": [
          "khalil",
          "sylvan",
          "intro",
          "melser",
          "bang",
          "brave",
          "marved",
          "avova",
          "aslanm4shadow",
          "redgar",
          "ange1",
          "bonecold",
          "xms",
          "boo",
          "txozin"
         ],
         "textposition": "top center",
         "type": "scatter",
         "x": [
          -2.250563144683838,
          -3.089484453201294,
          -1.156554937362671,
          -3.551959753036499,
          -4.504583358764648,
          -1.9275630712509155,
          -4.352321147918701,
          -4.584822654724121,
          -2.4000637531280518,
          -3.040684700012207,
          -3.768305540084839,
          -3.149319887161255,
          -1.629709243774414,
          -4.061403751373291,
          -1.8706445693969727
         ],
         "xaxis": "x",
         "y": [
          9.540717124938965,
          8.457322120666504,
          9.039081573486328,
          8.040449142456055,
          8.193739891052246,
          8.313675880432129,
          7.762613773345947,
          8.148824691772461,
          8.793567657470703,
          6.753424644470215,
          8.133410453796387,
          7.501539707183838,
          9.170299530029297,
          7.860659599304199,
          8.68283462524414
         ],
         "yaxis": "y"
        },
        {
         "customdata": [
          [
           "<b>takej</b><br>Team: DFM<br>Rating: 1.02<br><br>reyna: 0.35<br>sage: 0.11<br>phoenix: 0.11<br>skye: 0.09<br>viper: 0.08<br>brimstone: 0.07<br>astra: 0.05<br>omen: 0.04<br>jett: 0.04<br>breach: 0.02<br>raze: 0.02<br>killjoy: 0.01<br>chamber: 0.01<br>yoru: 0.00<br>harbor: 0.00<br>"
          ]
         ],
         "hovertemplate": "%{customdata}",
         "hovertext": [
          "takej"
         ],
         "legendgroup": "reyna",
         "marker": {
          "color": "#FFA15A",
          "opacity": 0.8,
          "size": 12,
          "symbol": "circle"
         },
         "mode": "markers+text",
         "name": "reyna",
         "orientation": "v",
         "showlegend": true,
         "text": [
          "takej"
         ],
         "textposition": "top center",
         "type": "scatter",
         "x": [
          0.9893791675567627
         ],
         "xaxis": "x",
         "y": [
          9.189749717712402
         ],
         "yaxis": "y"
        },
        {
         "customdata": [
          [
           "<b>cgrs</b><br>Team: PRX<br>Rating: 0.95<br><br>gekko: 0.24<br>chamber: 0.21<br>jett: 0.13<br>fade: 0.13<br>skye: 0.08<br>breach: 0.05<br>raze: 0.05<br>killjoy: 0.05<br>sage: 0.03<br>kayo: 0.03<br>"
          ]
         ],
         "hovertemplate": "%{customdata}",
         "hovertext": [
          "cgrs"
         ],
         "legendgroup": "gekko",
         "marker": {
          "color": "#19d3f3",
          "opacity": 0.8,
          "size": 12,
          "symbol": "circle"
         },
         "mode": "markers+text",
         "name": "gekko",
         "orientation": "v",
         "showlegend": true,
         "text": [
          "cgrs"
         ],
         "textposition": "top center",
         "type": "scatter",
         "x": [
          0.0634266659617424
         ],
         "xaxis": "x",
         "y": [
          9.385234832763672
         ],
         "yaxis": "y"
        }
       ],
       "layout": {
        "coloraxis": {
         "colorbar": {
          "title": {
           "text": "Rating"
          },
          "x": 1.1
         }
        },
        "height": 700,
        "legend": {
         "title": {
          "text": "favorite_agent"
         },
         "tracegroupgap": 0
        },
        "margin": {
         "b": 10,
         "l": 10,
         "r": 10,
         "t": 30
        },
        "template": {
         "data": {
          "bar": [
           {
            "error_x": {
             "color": "#2a3f5f"
            },
            "error_y": {
             "color": "#2a3f5f"
            },
            "marker": {
             "line": {
              "color": "#E5ECF6",
              "width": 0.5
             },
             "pattern": {
              "fillmode": "overlay",
              "size": 10,
              "solidity": 0.2
             }
            },
            "type": "bar"
           }
          ],
          "barpolar": [
           {
            "marker": {
             "line": {
              "color": "#E5ECF6",
              "width": 0.5
             },
             "pattern": {
              "fillmode": "overlay",
              "size": 10,
              "solidity": 0.2
             }
            },
            "type": "barpolar"
           }
          ],
          "carpet": [
           {
            "aaxis": {
             "endlinecolor": "#2a3f5f",
             "gridcolor": "white",
             "linecolor": "white",
             "minorgridcolor": "white",
             "startlinecolor": "#2a3f5f"
            },
            "baxis": {
             "endlinecolor": "#2a3f5f",
             "gridcolor": "white",
             "linecolor": "white",
             "minorgridcolor": "white",
             "startlinecolor": "#2a3f5f"
            },
            "type": "carpet"
           }
          ],
          "choropleth": [
           {
            "colorbar": {
             "outlinewidth": 0,
             "ticks": ""
            },
            "type": "choropleth"
           }
          ],
          "contour": [
           {
            "colorbar": {
             "outlinewidth": 0,
             "ticks": ""
            },
            "colorscale": [
             [
              0,
              "#0d0887"
             ],
             [
              0.1111111111111111,
              "#46039f"
             ],
             [
              0.2222222222222222,
              "#7201a8"
             ],
             [
              0.3333333333333333,
              "#9c179e"
             ],
             [
              0.4444444444444444,
              "#bd3786"
             ],
             [
              0.5555555555555556,
              "#d8576b"
             ],
             [
              0.6666666666666666,
              "#ed7953"
             ],
             [
              0.7777777777777778,
              "#fb9f3a"
             ],
             [
              0.8888888888888888,
              "#fdca26"
             ],
             [
              1,
              "#f0f921"
             ]
            ],
            "type": "contour"
           }
          ],
          "contourcarpet": [
           {
            "colorbar": {
             "outlinewidth": 0,
             "ticks": ""
            },
            "type": "contourcarpet"
           }
          ],
          "heatmap": [
           {
            "colorbar": {
             "outlinewidth": 0,
             "ticks": ""
            },
            "colorscale": [
             [
              0,
              "#0d0887"
             ],
             [
              0.1111111111111111,
              "#46039f"
             ],
             [
              0.2222222222222222,
              "#7201a8"
             ],
             [
              0.3333333333333333,
              "#9c179e"
             ],
             [
              0.4444444444444444,
              "#bd3786"
             ],
             [
              0.5555555555555556,
              "#d8576b"
             ],
             [
              0.6666666666666666,
              "#ed7953"
             ],
             [
              0.7777777777777778,
              "#fb9f3a"
             ],
             [
              0.8888888888888888,
              "#fdca26"
             ],
             [
              1,
              "#f0f921"
             ]
            ],
            "type": "heatmap"
           }
          ],
          "heatmapgl": [
           {
            "colorbar": {
             "outlinewidth": 0,
             "ticks": ""
            },
            "colorscale": [
             [
              0,
              "#0d0887"
             ],
             [
              0.1111111111111111,
              "#46039f"
             ],
             [
              0.2222222222222222,
              "#7201a8"
             ],
             [
              0.3333333333333333,
              "#9c179e"
             ],
             [
              0.4444444444444444,
              "#bd3786"
             ],
             [
              0.5555555555555556,
              "#d8576b"
             ],
             [
              0.6666666666666666,
              "#ed7953"
             ],
             [
              0.7777777777777778,
              "#fb9f3a"
             ],
             [
              0.8888888888888888,
              "#fdca26"
             ],
             [
              1,
              "#f0f921"
             ]
            ],
            "type": "heatmapgl"
           }
          ],
          "histogram": [
           {
            "marker": {
             "pattern": {
              "fillmode": "overlay",
              "size": 10,
              "solidity": 0.2
             }
            },
            "type": "histogram"
           }
          ],
          "histogram2d": [
           {
            "colorbar": {
             "outlinewidth": 0,
             "ticks": ""
            },
            "colorscale": [
             [
              0,
              "#0d0887"
             ],
             [
              0.1111111111111111,
              "#46039f"
             ],
             [
              0.2222222222222222,
              "#7201a8"
             ],
             [
              0.3333333333333333,
              "#9c179e"
             ],
             [
              0.4444444444444444,
              "#bd3786"
             ],
             [
              0.5555555555555556,
              "#d8576b"
             ],
             [
              0.6666666666666666,
              "#ed7953"
             ],
             [
              0.7777777777777778,
              "#fb9f3a"
             ],
             [
              0.8888888888888888,
              "#fdca26"
             ],
             [
              1,
              "#f0f921"
             ]
            ],
            "type": "histogram2d"
           }
          ],
          "histogram2dcontour": [
           {
            "colorbar": {
             "outlinewidth": 0,
             "ticks": ""
            },
            "colorscale": [
             [
              0,
              "#0d0887"
             ],
             [
              0.1111111111111111,
              "#46039f"
             ],
             [
              0.2222222222222222,
              "#7201a8"
             ],
             [
              0.3333333333333333,
              "#9c179e"
             ],
             [
              0.4444444444444444,
              "#bd3786"
             ],
             [
              0.5555555555555556,
              "#d8576b"
             ],
             [
              0.6666666666666666,
              "#ed7953"
             ],
             [
              0.7777777777777778,
              "#fb9f3a"
             ],
             [
              0.8888888888888888,
              "#fdca26"
             ],
             [
              1,
              "#f0f921"
             ]
            ],
            "type": "histogram2dcontour"
           }
          ],
          "mesh3d": [
           {
            "colorbar": {
             "outlinewidth": 0,
             "ticks": ""
            },
            "type": "mesh3d"
           }
          ],
          "parcoords": [
           {
            "line": {
             "colorbar": {
              "outlinewidth": 0,
              "ticks": ""
             }
            },
            "type": "parcoords"
           }
          ],
          "pie": [
           {
            "automargin": true,
            "type": "pie"
           }
          ],
          "scatter": [
           {
            "fillpattern": {
             "fillmode": "overlay",
             "size": 10,
             "solidity": 0.2
            },
            "type": "scatter"
           }
          ],
          "scatter3d": [
           {
            "line": {
             "colorbar": {
              "outlinewidth": 0,
              "ticks": ""
             }
            },
            "marker": {
             "colorbar": {
              "outlinewidth": 0,
              "ticks": ""
             }
            },
            "type": "scatter3d"
           }
          ],
          "scattercarpet": [
           {
            "marker": {
             "colorbar": {
              "outlinewidth": 0,
              "ticks": ""
             }
            },
            "type": "scattercarpet"
           }
          ],
          "scattergeo": [
           {
            "marker": {
             "colorbar": {
              "outlinewidth": 0,
              "ticks": ""
             }
            },
            "type": "scattergeo"
           }
          ],
          "scattergl": [
           {
            "marker": {
             "colorbar": {
              "outlinewidth": 0,
              "ticks": ""
             }
            },
            "type": "scattergl"
           }
          ],
          "scattermapbox": [
           {
            "marker": {
             "colorbar": {
              "outlinewidth": 0,
              "ticks": ""
             }
            },
            "type": "scattermapbox"
           }
          ],
          "scatterpolar": [
           {
            "marker": {
             "colorbar": {
              "outlinewidth": 0,
              "ticks": ""
             }
            },
            "type": "scatterpolar"
           }
          ],
          "scatterpolargl": [
           {
            "marker": {
             "colorbar": {
              "outlinewidth": 0,
              "ticks": ""
             }
            },
            "type": "scatterpolargl"
           }
          ],
          "scatterternary": [
           {
            "marker": {
             "colorbar": {
              "outlinewidth": 0,
              "ticks": ""
             }
            },
            "type": "scatterternary"
           }
          ],
          "surface": [
           {
            "colorbar": {
             "outlinewidth": 0,
             "ticks": ""
            },
            "colorscale": [
             [
              0,
              "#0d0887"
             ],
             [
              0.1111111111111111,
              "#46039f"
             ],
             [
              0.2222222222222222,
              "#7201a8"
             ],
             [
              0.3333333333333333,
              "#9c179e"
             ],
             [
              0.4444444444444444,
              "#bd3786"
             ],
             [
              0.5555555555555556,
              "#d8576b"
             ],
             [
              0.6666666666666666,
              "#ed7953"
             ],
             [
              0.7777777777777778,
              "#fb9f3a"
             ],
             [
              0.8888888888888888,
              "#fdca26"
             ],
             [
              1,
              "#f0f921"
             ]
            ],
            "type": "surface"
           }
          ],
          "table": [
           {
            "cells": {
             "fill": {
              "color": "#EBF0F8"
             },
             "line": {
              "color": "white"
             }
            },
            "header": {
             "fill": {
              "color": "#C8D4E3"
             },
             "line": {
              "color": "white"
             }
            },
            "type": "table"
           }
          ]
         },
         "layout": {
          "annotationdefaults": {
           "arrowcolor": "#2a3f5f",
           "arrowhead": 0,
           "arrowwidth": 1
          },
          "autotypenumbers": "strict",
          "coloraxis": {
           "colorbar": {
            "outlinewidth": 0,
            "ticks": ""
           }
          },
          "colorscale": {
           "diverging": [
            [
             0,
             "#8e0152"
            ],
            [
             0.1,
             "#c51b7d"
            ],
            [
             0.2,
             "#de77ae"
            ],
            [
             0.3,
             "#f1b6da"
            ],
            [
             0.4,
             "#fde0ef"
            ],
            [
             0.5,
             "#f7f7f7"
            ],
            [
             0.6,
             "#e6f5d0"
            ],
            [
             0.7,
             "#b8e186"
            ],
            [
             0.8,
             "#7fbc41"
            ],
            [
             0.9,
             "#4d9221"
            ],
            [
             1,
             "#276419"
            ]
           ],
           "sequential": [
            [
             0,
             "#0d0887"
            ],
            [
             0.1111111111111111,
             "#46039f"
            ],
            [
             0.2222222222222222,
             "#7201a8"
            ],
            [
             0.3333333333333333,
             "#9c179e"
            ],
            [
             0.4444444444444444,
             "#bd3786"
            ],
            [
             0.5555555555555556,
             "#d8576b"
            ],
            [
             0.6666666666666666,
             "#ed7953"
            ],
            [
             0.7777777777777778,
             "#fb9f3a"
            ],
            [
             0.8888888888888888,
             "#fdca26"
            ],
            [
             1,
             "#f0f921"
            ]
           ],
           "sequentialminus": [
            [
             0,
             "#0d0887"
            ],
            [
             0.1111111111111111,
             "#46039f"
            ],
            [
             0.2222222222222222,
             "#7201a8"
            ],
            [
             0.3333333333333333,
             "#9c179e"
            ],
            [
             0.4444444444444444,
             "#bd3786"
            ],
            [
             0.5555555555555556,
             "#d8576b"
            ],
            [
             0.6666666666666666,
             "#ed7953"
            ],
            [
             0.7777777777777778,
             "#fb9f3a"
            ],
            [
             0.8888888888888888,
             "#fdca26"
            ],
            [
             1,
             "#f0f921"
            ]
           ]
          },
          "colorway": [
           "#636efa",
           "#EF553B",
           "#00cc96",
           "#ab63fa",
           "#FFA15A",
           "#19d3f3",
           "#FF6692",
           "#B6E880",
           "#FF97FF",
           "#FECB52"
          ],
          "font": {
           "color": "#2a3f5f"
          },
          "geo": {
           "bgcolor": "white",
           "lakecolor": "white",
           "landcolor": "#E5ECF6",
           "showlakes": true,
           "showland": true,
           "subunitcolor": "white"
          },
          "hoverlabel": {
           "align": "left"
          },
          "hovermode": "closest",
          "mapbox": {
           "style": "light"
          },
          "paper_bgcolor": "white",
          "plot_bgcolor": "#E5ECF6",
          "polar": {
           "angularaxis": {
            "gridcolor": "white",
            "linecolor": "white",
            "ticks": ""
           },
           "bgcolor": "#E5ECF6",
           "radialaxis": {
            "gridcolor": "white",
            "linecolor": "white",
            "ticks": ""
           }
          },
          "scene": {
           "xaxis": {
            "backgroundcolor": "#E5ECF6",
            "gridcolor": "white",
            "gridwidth": 2,
            "linecolor": "white",
            "showbackground": true,
            "ticks": "",
            "zerolinecolor": "white"
           },
           "yaxis": {
            "backgroundcolor": "#E5ECF6",
            "gridcolor": "white",
            "gridwidth": 2,
            "linecolor": "white",
            "showbackground": true,
            "ticks": "",
            "zerolinecolor": "white"
           },
           "zaxis": {
            "backgroundcolor": "#E5ECF6",
            "gridcolor": "white",
            "gridwidth": 2,
            "linecolor": "white",
            "showbackground": true,
            "ticks": "",
            "zerolinecolor": "white"
           }
          },
          "shapedefaults": {
           "line": {
            "color": "#2a3f5f"
           }
          },
          "ternary": {
           "aaxis": {
            "gridcolor": "white",
            "linecolor": "white",
            "ticks": ""
           },
           "baxis": {
            "gridcolor": "white",
            "linecolor": "white",
            "ticks": ""
           },
           "bgcolor": "#E5ECF6",
           "caxis": {
            "gridcolor": "white",
            "linecolor": "white",
            "ticks": ""
           }
          },
          "title": {
           "x": 0.05
          },
          "xaxis": {
           "automargin": true,
           "gridcolor": "white",
           "linecolor": "white",
           "ticks": "",
           "title": {
            "standoff": 15
           },
           "zerolinecolor": "white",
           "zerolinewidth": 2
          },
          "yaxis": {
           "automargin": true,
           "gridcolor": "white",
           "linecolor": "white",
           "ticks": "",
           "title": {
            "standoff": 15
           },
           "zerolinecolor": "white",
           "zerolinewidth": 2
          }
         }
        },
        "title": {
         "text": "UMAP plot of player agent picks, span=all"
        },
        "width": 900,
        "xaxis": {
         "anchor": "y",
         "domain": [
          0,
          1
         ],
         "title": {
          "text": "Feature 1"
         }
        },
        "yaxis": {
         "anchor": "x",
         "domain": [
          0,
          1
         ],
         "title": {
          "text": "Feature 2"
         }
        }
       }
      }
     },
     "metadata": {},
     "output_type": "display_data"
    }
   ],
   "source": [
    "tsne = UMAP(n_neighbors=20, min_dist=0.7, metric=\"euclidean\", random_state=42)\n",
    "# tsne = PCA(n_components=2, random_state=42)\n",
    "# tsne = TSNE(n_components=2, random_state=42)\n",
    "df[\"annotation\"] = df.apply(get_annotation, axis=1)\n",
    "df[\"favorite_agent\"] = df[agent_roles.keys()].idxmax(axis=1)\n",
    "val = df[list(agent_roles.keys())].values\n",
    "X = tsne.fit_transform(val)\n",
    "df[\"x\"] = X[:, 0]\n",
    "df[\"y\"] = X[:, 1]\n",
    "fig = px.scatter(\n",
    "    df,\n",
    "    x=\"x\",\n",
    "    y=\"y\",\n",
    "    hover_name=\"name\",\n",
    "    text=\"name\",\n",
    "    color=\"favorite_agent\",\n",
    "    # symbol=\"region\",\n",
    "    custom_data=[\"annotation\"],\n",
    "    width=900,\n",
    "    height=700,\n",
    ")\n",
    "# fig.update_layout(coloraxis_colorbar=dict(x=1.1))\n",
    "fig.update_layout(\n",
    "    coloraxis_colorbar=dict(x=1.1, title=\"Rating\"),\n",
    "    # legend=dict(orientation=\"h\", yanchor=\"bottom\", y=0, xanchor=\"left\", x=0, title=\"Region\", tracegroupgap=10),\n",
    "    margin=dict(l=10, r=10, b=10, t=30),\n",
    "    title=f\"UMAP plot of player agent picks, span={span}\",\n",
    "    xaxis_title=\"Feature 1\",\n",
    "    yaxis_title=\"Feature 2\",\n",
    ")\n",
    "fig.update_traces(\n",
    "    marker=dict(\n",
    "        size=12,\n",
    "        opacity=0.8,\n",
    "    ),\n",
    "    textposition=\"top center\",\n",
    "    hovertemplate=\"%{customdata}\",\n",
    ")\n",
    "\n",
    "fig.write_html(f\"figs/players-{span}.html\")\n",
    "fig.write_image(f\"figs/players-{span}.png\", scale=2)\n",
    "\n",
    "fig.show()"
   ]
  },
  {
   "cell_type": "code",
   "execution_count": null,
   "metadata": {},
   "outputs": [],
   "source": []
  },
  {
   "cell_type": "code",
   "execution_count": null,
   "metadata": {},
   "outputs": [],
   "source": []
  }
 ],
 "metadata": {
  "kernelspec": {
   "display_name": "rindti",
   "language": "python",
   "name": "python3"
  },
  "language_info": {
   "codemirror_mode": {
    "name": "ipython",
    "version": 3
   },
   "file_extension": ".py",
   "mimetype": "text/x-python",
   "name": "python",
   "nbconvert_exporter": "python",
   "pygments_lexer": "ipython3",
   "version": "3.8.13"
  },
  "orig_nbformat": 4
 },
 "nbformat": 4,
 "nbformat_minor": 2
}
