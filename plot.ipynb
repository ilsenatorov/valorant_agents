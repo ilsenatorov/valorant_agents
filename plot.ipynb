{
 "cells": [
  {
   "cell_type": "code",
   "execution_count": 116,
   "metadata": {},
   "outputs": [],
   "source": [
    "import plotly.express as px\n",
    "import pandas as pd\n",
    "import numpy as np\n",
    "from sklearn.decomposition import PCA\n",
    "from sklearn.manifold import TSNE\n",
    "from umap import UMAP\n",
    "import pickle\n",
    "from valorant import *\n",
    "import plotly.graph_objects as go"
   ]
  },
  {
   "cell_type": "code",
   "execution_count": 117,
   "metadata": {},
   "outputs": [],
   "source": [
    "def get_region(team):\n",
    "    if team in emea:\n",
    "        return \"EMEA\"\n",
    "    elif team in amer:\n",
    "        return \"AMERICAS\"\n",
    "    elif team in apac:\n",
    "        return \"PACIFIC\"\n",
    "    else:\n",
    "        return \"OTHER\"\n"
   ]
  },
  {
   "cell_type": "code",
   "execution_count": 118,
   "metadata": {},
   "outputs": [],
   "source": [
    "span = \"all\"\n",
    "with open(f\"data/data-{span}.pkl\", \"rb\") as f:\n",
    "    data = pickle.load(f)"
   ]
  },
  {
   "cell_type": "code",
   "execution_count": 119,
   "metadata": {},
   "outputs": [],
   "source": [
    "df = []\n",
    "for i in data.values():\n",
    "    columns = {\"name\": i[\"name\"], \"team\": i[\"team\"], \"rating\": i[\"rating\"]}\n",
    "    for agent in agent_roles.keys():\n",
    "        if agent in i[\"stats\"].index:\n",
    "            columns[agent] = i[\"stats\"].loc[agent, \"Usage count\"]\n",
    "        else:\n",
    "            columns[agent] = 0\n",
    "    df.append(columns)\n",
    "df = pd.DataFrame(df)\n",
    "df[\"region\"] = df[\"team\"].apply(lambda x: get_region(x))\n",
    "df = df[df[\"region\"] != \"OTHER\"]"
   ]
  },
  {
   "cell_type": "code",
   "execution_count": 120,
   "metadata": {},
   "outputs": [
    {
     "data": {
      "application/vnd.plotly.v1+json": {
       "config": {
        "plotlyServerURL": "https://plot.ly"
       },
       "data": [
        {
         "hovertemplate": "color=controller<br>x=%{x}<br>y=%{y}<br>size=%{marker.size}<br>text=%{text}<extra></extra>",
         "legendgroup": "controller",
         "marker": {
          "color": "#636efa",
          "size": [
           1016,
           2591,
           3315,
           2087,
           200
          ],
          "sizemode": "area",
          "sizeref": 2.0866666666666664,
          "symbol": "circle"
         },
         "mode": "markers+text",
         "name": "controller",
         "orientation": "v",
         "showlegend": true,
         "text": [
          "brimstone",
          "viper",
          "omen",
          "astra",
          "harbor"
         ],
         "type": "scatter",
         "x": [
          6.970692157745361,
          7.266883850097656,
          6.894840240478516,
          6.5624542236328125,
          6.364345550537109
         ],
         "xaxis": "x",
         "y": [
          -0.3229871690273285,
          -0.6328086853027344,
          0.08934608101844788,
          -0.34492799639701843,
          -0.02117975801229477
         ],
         "yaxis": "y"
        },
        {
         "hovertemplate": "color=sentinel<br>x=%{x}<br>y=%{y}<br>size=%{marker.size}<br>text=%{text}<extra></extra>",
         "legendgroup": "sentinel",
         "marker": {
          "color": "#EF553B",
          "size": [
           2582,
           2125,
           2596,
           1759
          ],
          "sizemode": "area",
          "sizeref": 2.0866666666666664,
          "symbol": "circle"
         },
         "mode": "markers+text",
         "name": "sentinel",
         "orientation": "v",
         "showlegend": true,
         "text": [
          "killjoy",
          "cypher",
          "sage",
          "chamber"
         ],
         "type": "scatter",
         "x": [
          7.854435920715332,
          8.090537071228027,
          10.030885696411133,
          7.2475104331970215
         ],
         "xaxis": "x",
         "y": [
          -1.420016884803772,
          -1.0039141178131104,
          -4.325838565826416,
          -3.106985092163086
         ],
         "yaxis": "y"
        },
        {
         "hovertemplate": "color=initiator<br>x=%{x}<br>y=%{y}<br>size=%{marker.size}<br>text=%{text}<extra></extra>",
         "legendgroup": "initiator",
         "marker": {
          "color": "#00cc96",
          "size": [
           5657,
           2068,
           2461,
           1575,
           819,
           52
          ],
          "sizemode": "area",
          "sizeref": 2.0866666666666664,
          "symbol": "circle"
         },
         "mode": "markers+text",
         "name": "initiator",
         "orientation": "v",
         "showlegend": true,
         "text": [
          "sova",
          "breach",
          "skye",
          "kayo",
          "fade",
          "gekko"
         ],
         "type": "scatter",
         "x": [
          8.924234390258789,
          10.074058532714844,
          9.6240234375,
          9.649311065673828,
          8.870444297790527,
          8.416913032531738
         ],
         "xaxis": "x",
         "y": [
          -4.604040622711182,
          -4.6670379638671875,
          -4.809658527374268,
          -4.443874359130859,
          -4.073075294494629,
          -3.638195753097534
         ],
         "yaxis": "y"
        },
        {
         "hovertemplate": "color=duelist<br>x=%{x}<br>y=%{y}<br>size=%{marker.size}<br>text=%{text}<extra></extra>",
         "legendgroup": "duelist",
         "marker": {
          "color": "#ab63fa",
          "size": [
           929,
           7512,
           1295,
           4606,
           116,
           383
          ],
          "sizemode": "area",
          "sizeref": 2.0866666666666664,
          "symbol": "circle"
         },
         "mode": "markers+text",
         "name": "duelist",
         "orientation": "v",
         "showlegend": true,
         "text": [
          "phoenix",
          "jett",
          "reyna",
          "raze",
          "yoru",
          "neon"
         ],
         "type": "scatter",
         "x": [
          5.5752434730529785,
          6.534571647644043,
          5.529277801513672,
          5.771452903747559,
          6.506242275238037,
          6.123785495758057
         ],
         "xaxis": "x",
         "y": [
          -3.539154529571533,
          -3.562866449356079,
          -3.889739990234375,
          -4.4492597579956055,
          -4.068272113800049,
          -4.073385238647461
         ],
         "yaxis": "y"
        }
       ],
       "layout": {
        "coloraxis": {
         "colorbar": {
          "title": {
           "text": "Usage count"
          },
          "x": 1.1
         }
        },
        "height": 700,
        "legend": {
         "itemsizing": "constant",
         "orientation": "h",
         "title": {
          "text": "Role"
         },
         "tracegroupgap": 0,
         "x": 0,
         "xanchor": "left",
         "y": 0,
         "yanchor": "bottom"
        },
        "margin": {
         "b": 10,
         "l": 10,
         "r": 10,
         "t": 30
        },
        "template": {
         "data": {
          "bar": [
           {
            "error_x": {
             "color": "#2a3f5f"
            },
            "error_y": {
             "color": "#2a3f5f"
            },
            "marker": {
             "line": {
              "color": "#E5ECF6",
              "width": 0.5
             },
             "pattern": {
              "fillmode": "overlay",
              "size": 10,
              "solidity": 0.2
             }
            },
            "type": "bar"
           }
          ],
          "barpolar": [
           {
            "marker": {
             "line": {
              "color": "#E5ECF6",
              "width": 0.5
             },
             "pattern": {
              "fillmode": "overlay",
              "size": 10,
              "solidity": 0.2
             }
            },
            "type": "barpolar"
           }
          ],
          "carpet": [
           {
            "aaxis": {
             "endlinecolor": "#2a3f5f",
             "gridcolor": "white",
             "linecolor": "white",
             "minorgridcolor": "white",
             "startlinecolor": "#2a3f5f"
            },
            "baxis": {
             "endlinecolor": "#2a3f5f",
             "gridcolor": "white",
             "linecolor": "white",
             "minorgridcolor": "white",
             "startlinecolor": "#2a3f5f"
            },
            "type": "carpet"
           }
          ],
          "choropleth": [
           {
            "colorbar": {
             "outlinewidth": 0,
             "ticks": ""
            },
            "type": "choropleth"
           }
          ],
          "contour": [
           {
            "colorbar": {
             "outlinewidth": 0,
             "ticks": ""
            },
            "colorscale": [
             [
              0,
              "#0d0887"
             ],
             [
              0.1111111111111111,
              "#46039f"
             ],
             [
              0.2222222222222222,
              "#7201a8"
             ],
             [
              0.3333333333333333,
              "#9c179e"
             ],
             [
              0.4444444444444444,
              "#bd3786"
             ],
             [
              0.5555555555555556,
              "#d8576b"
             ],
             [
              0.6666666666666666,
              "#ed7953"
             ],
             [
              0.7777777777777778,
              "#fb9f3a"
             ],
             [
              0.8888888888888888,
              "#fdca26"
             ],
             [
              1,
              "#f0f921"
             ]
            ],
            "type": "contour"
           }
          ],
          "contourcarpet": [
           {
            "colorbar": {
             "outlinewidth": 0,
             "ticks": ""
            },
            "type": "contourcarpet"
           }
          ],
          "heatmap": [
           {
            "colorbar": {
             "outlinewidth": 0,
             "ticks": ""
            },
            "colorscale": [
             [
              0,
              "#0d0887"
             ],
             [
              0.1111111111111111,
              "#46039f"
             ],
             [
              0.2222222222222222,
              "#7201a8"
             ],
             [
              0.3333333333333333,
              "#9c179e"
             ],
             [
              0.4444444444444444,
              "#bd3786"
             ],
             [
              0.5555555555555556,
              "#d8576b"
             ],
             [
              0.6666666666666666,
              "#ed7953"
             ],
             [
              0.7777777777777778,
              "#fb9f3a"
             ],
             [
              0.8888888888888888,
              "#fdca26"
             ],
             [
              1,
              "#f0f921"
             ]
            ],
            "type": "heatmap"
           }
          ],
          "heatmapgl": [
           {
            "colorbar": {
             "outlinewidth": 0,
             "ticks": ""
            },
            "colorscale": [
             [
              0,
              "#0d0887"
             ],
             [
              0.1111111111111111,
              "#46039f"
             ],
             [
              0.2222222222222222,
              "#7201a8"
             ],
             [
              0.3333333333333333,
              "#9c179e"
             ],
             [
              0.4444444444444444,
              "#bd3786"
             ],
             [
              0.5555555555555556,
              "#d8576b"
             ],
             [
              0.6666666666666666,
              "#ed7953"
             ],
             [
              0.7777777777777778,
              "#fb9f3a"
             ],
             [
              0.8888888888888888,
              "#fdca26"
             ],
             [
              1,
              "#f0f921"
             ]
            ],
            "type": "heatmapgl"
           }
          ],
          "histogram": [
           {
            "marker": {
             "pattern": {
              "fillmode": "overlay",
              "size": 10,
              "solidity": 0.2
             }
            },
            "type": "histogram"
           }
          ],
          "histogram2d": [
           {
            "colorbar": {
             "outlinewidth": 0,
             "ticks": ""
            },
            "colorscale": [
             [
              0,
              "#0d0887"
             ],
             [
              0.1111111111111111,
              "#46039f"
             ],
             [
              0.2222222222222222,
              "#7201a8"
             ],
             [
              0.3333333333333333,
              "#9c179e"
             ],
             [
              0.4444444444444444,
              "#bd3786"
             ],
             [
              0.5555555555555556,
              "#d8576b"
             ],
             [
              0.6666666666666666,
              "#ed7953"
             ],
             [
              0.7777777777777778,
              "#fb9f3a"
             ],
             [
              0.8888888888888888,
              "#fdca26"
             ],
             [
              1,
              "#f0f921"
             ]
            ],
            "type": "histogram2d"
           }
          ],
          "histogram2dcontour": [
           {
            "colorbar": {
             "outlinewidth": 0,
             "ticks": ""
            },
            "colorscale": [
             [
              0,
              "#0d0887"
             ],
             [
              0.1111111111111111,
              "#46039f"
             ],
             [
              0.2222222222222222,
              "#7201a8"
             ],
             [
              0.3333333333333333,
              "#9c179e"
             ],
             [
              0.4444444444444444,
              "#bd3786"
             ],
             [
              0.5555555555555556,
              "#d8576b"
             ],
             [
              0.6666666666666666,
              "#ed7953"
             ],
             [
              0.7777777777777778,
              "#fb9f3a"
             ],
             [
              0.8888888888888888,
              "#fdca26"
             ],
             [
              1,
              "#f0f921"
             ]
            ],
            "type": "histogram2dcontour"
           }
          ],
          "mesh3d": [
           {
            "colorbar": {
             "outlinewidth": 0,
             "ticks": ""
            },
            "type": "mesh3d"
           }
          ],
          "parcoords": [
           {
            "line": {
             "colorbar": {
              "outlinewidth": 0,
              "ticks": ""
             }
            },
            "type": "parcoords"
           }
          ],
          "pie": [
           {
            "automargin": true,
            "type": "pie"
           }
          ],
          "scatter": [
           {
            "fillpattern": {
             "fillmode": "overlay",
             "size": 10,
             "solidity": 0.2
            },
            "type": "scatter"
           }
          ],
          "scatter3d": [
           {
            "line": {
             "colorbar": {
              "outlinewidth": 0,
              "ticks": ""
             }
            },
            "marker": {
             "colorbar": {
              "outlinewidth": 0,
              "ticks": ""
             }
            },
            "type": "scatter3d"
           }
          ],
          "scattercarpet": [
           {
            "marker": {
             "colorbar": {
              "outlinewidth": 0,
              "ticks": ""
             }
            },
            "type": "scattercarpet"
           }
          ],
          "scattergeo": [
           {
            "marker": {
             "colorbar": {
              "outlinewidth": 0,
              "ticks": ""
             }
            },
            "type": "scattergeo"
           }
          ],
          "scattergl": [
           {
            "marker": {
             "colorbar": {
              "outlinewidth": 0,
              "ticks": ""
             }
            },
            "type": "scattergl"
           }
          ],
          "scattermapbox": [
           {
            "marker": {
             "colorbar": {
              "outlinewidth": 0,
              "ticks": ""
             }
            },
            "type": "scattermapbox"
           }
          ],
          "scatterpolar": [
           {
            "marker": {
             "colorbar": {
              "outlinewidth": 0,
              "ticks": ""
             }
            },
            "type": "scatterpolar"
           }
          ],
          "scatterpolargl": [
           {
            "marker": {
             "colorbar": {
              "outlinewidth": 0,
              "ticks": ""
             }
            },
            "type": "scatterpolargl"
           }
          ],
          "scatterternary": [
           {
            "marker": {
             "colorbar": {
              "outlinewidth": 0,
              "ticks": ""
             }
            },
            "type": "scatterternary"
           }
          ],
          "surface": [
           {
            "colorbar": {
             "outlinewidth": 0,
             "ticks": ""
            },
            "colorscale": [
             [
              0,
              "#0d0887"
             ],
             [
              0.1111111111111111,
              "#46039f"
             ],
             [
              0.2222222222222222,
              "#7201a8"
             ],
             [
              0.3333333333333333,
              "#9c179e"
             ],
             [
              0.4444444444444444,
              "#bd3786"
             ],
             [
              0.5555555555555556,
              "#d8576b"
             ],
             [
              0.6666666666666666,
              "#ed7953"
             ],
             [
              0.7777777777777778,
              "#fb9f3a"
             ],
             [
              0.8888888888888888,
              "#fdca26"
             ],
             [
              1,
              "#f0f921"
             ]
            ],
            "type": "surface"
           }
          ],
          "table": [
           {
            "cells": {
             "fill": {
              "color": "#EBF0F8"
             },
             "line": {
              "color": "white"
             }
            },
            "header": {
             "fill": {
              "color": "#C8D4E3"
             },
             "line": {
              "color": "white"
             }
            },
            "type": "table"
           }
          ]
         },
         "layout": {
          "annotationdefaults": {
           "arrowcolor": "#2a3f5f",
           "arrowhead": 0,
           "arrowwidth": 1
          },
          "autotypenumbers": "strict",
          "coloraxis": {
           "colorbar": {
            "outlinewidth": 0,
            "ticks": ""
           }
          },
          "colorscale": {
           "diverging": [
            [
             0,
             "#8e0152"
            ],
            [
             0.1,
             "#c51b7d"
            ],
            [
             0.2,
             "#de77ae"
            ],
            [
             0.3,
             "#f1b6da"
            ],
            [
             0.4,
             "#fde0ef"
            ],
            [
             0.5,
             "#f7f7f7"
            ],
            [
             0.6,
             "#e6f5d0"
            ],
            [
             0.7,
             "#b8e186"
            ],
            [
             0.8,
             "#7fbc41"
            ],
            [
             0.9,
             "#4d9221"
            ],
            [
             1,
             "#276419"
            ]
           ],
           "sequential": [
            [
             0,
             "#0d0887"
            ],
            [
             0.1111111111111111,
             "#46039f"
            ],
            [
             0.2222222222222222,
             "#7201a8"
            ],
            [
             0.3333333333333333,
             "#9c179e"
            ],
            [
             0.4444444444444444,
             "#bd3786"
            ],
            [
             0.5555555555555556,
             "#d8576b"
            ],
            [
             0.6666666666666666,
             "#ed7953"
            ],
            [
             0.7777777777777778,
             "#fb9f3a"
            ],
            [
             0.8888888888888888,
             "#fdca26"
            ],
            [
             1,
             "#f0f921"
            ]
           ],
           "sequentialminus": [
            [
             0,
             "#0d0887"
            ],
            [
             0.1111111111111111,
             "#46039f"
            ],
            [
             0.2222222222222222,
             "#7201a8"
            ],
            [
             0.3333333333333333,
             "#9c179e"
            ],
            [
             0.4444444444444444,
             "#bd3786"
            ],
            [
             0.5555555555555556,
             "#d8576b"
            ],
            [
             0.6666666666666666,
             "#ed7953"
            ],
            [
             0.7777777777777778,
             "#fb9f3a"
            ],
            [
             0.8888888888888888,
             "#fdca26"
            ],
            [
             1,
             "#f0f921"
            ]
           ]
          },
          "colorway": [
           "#636efa",
           "#EF553B",
           "#00cc96",
           "#ab63fa",
           "#FFA15A",
           "#19d3f3",
           "#FF6692",
           "#B6E880",
           "#FF97FF",
           "#FECB52"
          ],
          "font": {
           "color": "#2a3f5f"
          },
          "geo": {
           "bgcolor": "white",
           "lakecolor": "white",
           "landcolor": "#E5ECF6",
           "showlakes": true,
           "showland": true,
           "subunitcolor": "white"
          },
          "hoverlabel": {
           "align": "left"
          },
          "hovermode": "closest",
          "mapbox": {
           "style": "light"
          },
          "paper_bgcolor": "white",
          "plot_bgcolor": "#E5ECF6",
          "polar": {
           "angularaxis": {
            "gridcolor": "white",
            "linecolor": "white",
            "ticks": ""
           },
           "bgcolor": "#E5ECF6",
           "radialaxis": {
            "gridcolor": "white",
            "linecolor": "white",
            "ticks": ""
           }
          },
          "scene": {
           "xaxis": {
            "backgroundcolor": "#E5ECF6",
            "gridcolor": "white",
            "gridwidth": 2,
            "linecolor": "white",
            "showbackground": true,
            "ticks": "",
            "zerolinecolor": "white"
           },
           "yaxis": {
            "backgroundcolor": "#E5ECF6",
            "gridcolor": "white",
            "gridwidth": 2,
            "linecolor": "white",
            "showbackground": true,
            "ticks": "",
            "zerolinecolor": "white"
           },
           "zaxis": {
            "backgroundcolor": "#E5ECF6",
            "gridcolor": "white",
            "gridwidth": 2,
            "linecolor": "white",
            "showbackground": true,
            "ticks": "",
            "zerolinecolor": "white"
           }
          },
          "shapedefaults": {
           "line": {
            "color": "#2a3f5f"
           }
          },
          "ternary": {
           "aaxis": {
            "gridcolor": "white",
            "linecolor": "white",
            "ticks": ""
           },
           "baxis": {
            "gridcolor": "white",
            "linecolor": "white",
            "ticks": ""
           },
           "bgcolor": "#E5ECF6",
           "caxis": {
            "gridcolor": "white",
            "linecolor": "white",
            "ticks": ""
           }
          },
          "title": {
           "x": 0.05
          },
          "xaxis": {
           "automargin": true,
           "gridcolor": "white",
           "linecolor": "white",
           "ticks": "",
           "title": {
            "standoff": 15
           },
           "zerolinecolor": "white",
           "zerolinewidth": 2
          },
          "yaxis": {
           "automargin": true,
           "gridcolor": "white",
           "linecolor": "white",
           "ticks": "",
           "title": {
            "standoff": 15
           },
           "zerolinecolor": "white",
           "zerolinewidth": 2
          }
         }
        },
        "title": {
         "text": "UMAP plot of agent usage, span=all"
        },
        "width": 700,
        "xaxis": {
         "anchor": "y",
         "domain": [
          0,
          1
         ],
         "title": {
          "text": "Feature 1"
         }
        },
        "yaxis": {
         "anchor": "x",
         "domain": [
          0,
          1
         ],
         "title": {
          "text": "Feature 2"
         }
        }
       }
      }
     },
     "metadata": {},
     "output_type": "display_data"
    }
   ],
   "source": [
    "tsne = UMAP(n_neighbors=5, min_dist=0.1, metric=\"correlation\", random_state=42)\n",
    "agents = df[agent_roles.keys()].T.values\n",
    "X = tsne.fit_transform(agents / agents.sum(axis=0))\n",
    "fig = px.scatter(\n",
    "    x=X[:, 0],\n",
    "    y=X[:, 1],\n",
    "    text=agent_roles.keys(),\n",
    "    # symbol=agent_roles.values(),\n",
    "    color=agent_roles.values(),\n",
    "    size_max=60,\n",
    "    size=agents.sum(axis=1),\n",
    "    width=700,\n",
    "    height=700,\n",
    ")\n",
    "fig.update_layout(\n",
    "    coloraxis_colorbar=dict(x=1.1, title=\"Usage count\"),\n",
    "    legend=dict(orientation=\"h\", yanchor=\"bottom\", y=0, xanchor=\"left\", x=0, title=\"Role\"),\n",
    "    margin=dict(l=10, r=10, b=10, t=30),\n",
    "    title=f\"UMAP plot of agent usage, span={span}\",\n",
    "    xaxis_title=\"Feature 1\",\n",
    "    yaxis_title=\"Feature 2\",\n",
    ")\n",
    "fig.write_html(f\"figs/agents-{span}.html\")\n",
    "fig.write_image(f\"figs/agents-{span}.png\", scale=2)\n",
    "fig.show()"
   ]
  },
  {
   "cell_type": "code",
   "execution_count": 121,
   "metadata": {},
   "outputs": [],
   "source": [
    "def get_annotation(row):\n",
    "    annotation = f\"<b>{row['name']}</b><br>Team: {row['team']}<br>Rating: {row['rating']:.2f}<br><br>\"\n",
    "    maps_played = row[agent_roles.keys()].sum()\n",
    "    for agent, pickrate in row[agent_roles.keys()].sort_values(ascending=False).to_dict().items():\n",
    "        if pickrate:\n",
    "            annotation += f\"{agent}: {pickrate/maps_played:.2f}<br>\"\n",
    "    return annotation"
   ]
  },
  {
   "cell_type": "code",
   "execution_count": 122,
   "metadata": {},
   "outputs": [
    {
     "data": {
      "application/vnd.plotly.v1+json": {
       "config": {
        "plotlyServerURL": "https://plot.ly"
       },
       "data": [
        {
         "customdata": [
          [
           "<b>leo</b><br>Team: FNC<br>Rating: 1.20<br><br>sova: 0.23<br>sage: 0.22<br>omen: 0.16<br>breach: 0.12<br>fade: 0.09<br>skye: 0.04<br>phoenix: 0.03<br>viper: 0.02<br>astra: 0.02<br>kayo: 0.02<br>reyna: 0.02<br>brimstone: 0.02<br>chamber: 0.01<br>killjoy: 0.01<br>"
          ],
          [
           "<b>chronicle</b><br>Team: FNC<br>Rating: 1.10<br><br>sova: 0.36<br>breach: 0.14<br>viper: 0.11<br>raze: 0.09<br>brimstone: 0.08<br>chamber: 0.06<br>omen: 0.05<br>killjoy: 0.03<br>reyna: 0.03<br>kayo: 0.02<br>sage: 0.01<br>skye: 0.01<br>jett: 0.01<br>neon: 0.00<br>"
          ],
          [
           "<b>shao</b><br>Team: NAVI<br>Rating: 1.18<br><br>sova: 0.42<br>fade: 0.15<br>sage: 0.14<br>raze: 0.09<br>astra: 0.08<br>omen: 0.04<br>jett: 0.03<br>brimstone: 0.02<br>killjoy: 0.02<br>phoenix: 0.01<br>gekko: 0.01<br>reyna: 0.00<br>viper: 0.00<br>breach: 0.00<br>skye: 0.00<br>cypher: 0.00<br>kayo: 0.00<br>"
          ],
          [
           "<b>cloud</b><br>Team: GIA<br>Rating: 1.14<br><br>sova: 0.41<br>skye: 0.14<br>raze: 0.12<br>sage: 0.07<br>breach: 0.07<br>kayo: 0.05<br>reyna: 0.05<br>viper: 0.03<br>fade: 0.02<br>jett: 0.01<br>neon: 0.01<br>gekko: 0.01<br>omen: 0.01<br>"
          ],
          [
           "<b>crashies</b><br>Team: NRG<br>Rating: 0.99<br><br>sova: 0.52<br>skye: 0.21<br>cypher: 0.09<br>kayo: 0.06<br>fade: 0.02<br>viper: 0.02<br>breach: 0.02<br>omen: 0.01<br>killjoy: 0.01<br>phoenix: 0.01<br>raze: 0.00<br>sage: 0.00<br>reyna: 0.00<br>"
          ],
          [
           "<b>nzr</b><br>Team: LEV<br>Rating: 1.15<br><br>sova: 0.66<br>skye: 0.10<br>raze: 0.10<br>fade: 0.05<br>kayo: 0.03<br>breach: 0.02<br>viper: 0.02<br>killjoy: 0.02<br>omen: 0.01<br>sage: 0.01<br>brimstone: 0.00<br>"
          ],
          [
           "<b>bcj</b><br>Team: EG<br>Rating: 1.00<br><br>sova: 0.55<br>omen: 0.10<br>sage: 0.08<br>skye: 0.07<br>breach: 0.05<br>reyna: 0.04<br>raze: 0.03<br>fade: 0.02<br>kayo: 0.01<br>astra: 0.01<br>cypher: 0.01<br>brimstone: 0.01<br>viper: 0.01<br>jett: 0.00<br>"
          ],
          [
           "<b>cryocells</b><br>Team: 100T<br>Rating: 1.16<br><br>sova: 0.43<br>jett: 0.35<br>chamber: 0.14<br>omen: 0.02<br>reyna: 0.02<br>sage: 0.01<br>raze: 0.01<br>skye: 0.01<br>phoenix: 0.00<br>"
          ],
          [
           "<b>xeta</b><br>Team: T1<br>Rating: 1.05<br><br>sova: 0.54<br>breach: 0.16<br>jett: 0.07<br>skye: 0.05<br>omen: 0.04<br>viper: 0.04<br>harbor: 0.04<br>kayo: 0.02<br>cypher: 0.02<br>brimstone: 0.00<br>killjoy: 0.00<br>"
          ],
          [
           "<b>ardiis</b><br>Team: NRG<br>Rating: 1.06<br><br>sova: 0.38<br>jett: 0.21<br>chamber: 0.14<br>raze: 0.07<br>sage: 0.05<br>kayo: 0.05<br>killjoy: 0.03<br>brimstone: 0.03<br>breach: 0.02<br>cypher: 0.01<br>skye: 0.01<br>reyna: 0.00<br>"
          ],
          [
           "<b>c0m</b><br>Team: EG<br>Rating: 1.07<br><br>sova: 0.26<br>viper: 0.23<br>cypher: 0.17<br>killjoy: 0.12<br>breach: 0.07<br>sage: 0.04<br>omen: 0.02<br>skye: 0.02<br>phoenix: 0.02<br>fade: 0.01<br>brimstone: 0.01<br>kayo: 0.01<br>raze: 0.01<br>gekko: 0.01<br>"
          ],
          [
           "<b>cauanzin</b><br>Team: LOUD<br>Rating: 1.09<br><br>sova: 0.40<br>skye: 0.33<br>kayo: 0.10<br>sage: 0.08<br>breach: 0.06<br>reyna: 0.02<br>fade: 0.01<br>"
          ],
          [
           "<b>runi</b><br>Team: C9<br>Rating: 1.14<br><br>sova: 0.57<br>fade: 0.20<br>breach: 0.18<br>viper: 0.03<br>killjoy: 0.01<br>sage: 0.01<br>astra: 0.00<br>cypher: 0.00<br>"
          ],
          [
           "<b>foxz</b><br>Team: TLN<br>Rating: 0.99<br><br>sova: 0.54<br>skye: 0.18<br>fade: 0.06<br>sage: 0.05<br>raze: 0.04<br>yoru: 0.04<br>kayo: 0.02<br>jett: 0.02<br>cypher: 0.02<br>reyna: 0.01<br>viper: 0.01<br>astra: 0.00<br>gekko: 0.00<br>phoenix: 0.00<br>omen: 0.00<br>"
          ],
          [
           "<b>molsi</b><br>Team: VIT<br>Rating: 1.12<br><br>sova: 0.42<br>raze: 0.17<br>skye: 0.10<br>kayo: 0.08<br>omen: 0.05<br>reyna: 0.04<br>breach: 0.03<br>brimstone: 0.03<br>fade: 0.02<br>neon: 0.02<br>sage: 0.02<br>jett: 0.01<br>killjoy: 0.01<br>phoenix: 0.00<br>viper: 0.00<br>cypher: 0.00<br>yoru: 0.00<br>"
          ],
          [
           "<b>sacy</b><br>Team: SEN<br>Rating: 1.19<br><br>sova: 0.63<br>fade: 0.08<br>breach: 0.07<br>skye: 0.06<br>jett: 0.06<br>omen: 0.04<br>sage: 0.02<br>viper: 0.02<br>raze: 0.01<br>reyna: 0.01<br>brimstone: 0.00<br>"
          ],
          [
           "<b>mrfalin</b><br>Team: FUT<br>Rating: 1.08<br><br>sova: 0.46<br>omen: 0.21<br>breach: 0.10<br>skye: 0.06<br>brimstone: 0.05<br>raze: 0.03<br>killjoy: 0.03<br>kayo: 0.03<br>astra: 0.01<br>sage: 0.01<br>fade: 0.01<br>harbor: 0.00<br>"
          ],
          [
           "<b>derrek</b><br>Team: 100T<br>Rating: 1.11<br><br>sova: 0.65<br>breach: 0.10<br>sage: 0.09<br>fade: 0.05<br>cypher: 0.04<br>jett: 0.02<br>skye: 0.02<br>killjoy: 0.02<br>omen: 0.00<br>harbor: 0.00<br>"
          ],
          [
           "<b>zest</b><br>Team: DRX<br>Rating: 1.03<br><br>sova: 0.64<br>sage: 0.15<br>fade: 0.12<br>skye: 0.03<br>brimstone: 0.03<br>harbor: 0.01<br>astra: 0.01<br>killjoy: 0.00<br>reyna: 0.00<br>viper: 0.00<br>kayo: 0.00<br>"
          ],
          [
           "<b>jessievash</b><br>Team: TS<br>Rating: 0.99<br><br>sova: 0.74<br>sage: 0.07<br>fade: 0.05<br>cypher: 0.04<br>breach: 0.04<br>skye: 0.02<br>omen: 0.01<br>killjoy: 0.01<br>raze: 0.00<br>kayo: 0.00<br>harbor: 0.00<br>jett: 0.00<br>"
          ],
          [
           "<b>ts</b><br>Team: GEN<br>Rating: 1.24<br><br>sova: 0.25<br>jett: 0.20<br>omen: 0.15<br>astra: 0.15<br>skye: 0.06<br>viper: 0.05<br>fade: 0.04<br>brimstone: 0.02<br>breach: 0.02<br>gekko: 0.02<br>sage: 0.02<br>chamber: 0.01<br>harbor: 0.01<br>phoenix: 0.00<br>yoru: 0.00<br>kayo: 0.00<br>killjoy: 0.00<br>"
          ],
          [
           "<b>frz</b><br>Team: MIBR<br>Rating: 1.04<br><br>sova: 0.28<br>killjoy: 0.12<br>skye: 0.11<br>chamber: 0.11<br>phoenix: 0.09<br>jett: 0.07<br>reyna: 0.07<br>cypher: 0.03<br>sage: 0.03<br>breach: 0.03<br>viper: 0.02<br>raze: 0.02<br>kayo: 0.01<br>omen: 0.01<br>brimstone: 0.00<br>"
          ],
          [
           "<b>wolfen</b><br>Team: KOI<br>Rating: 1.07<br><br>sova: 0.48<br>jett: 0.24<br>chamber: 0.13<br>killjoy: 0.08<br>cypher: 0.02<br>skye: 0.01<br>reyna: 0.01<br>raze: 0.00<br>omen: 0.00<br>sage: 0.00<br>"
          ],
          [
           "<b>souhcni</b><br>Team: BBL<br>Rating: 0.96<br><br>sova: 0.36<br>cypher: 0.30<br>killjoy: 0.14<br>fade: 0.10<br>chamber: 0.03<br>breach: 0.02<br>skye: 0.01<br>brimstone: 0.01<br>astra: 0.01<br>kayo: 0.01<br>harbor: 0.00<br>gekko: 0.00<br>omen: 0.00<br>"
          ],
          [
           "<b>crow</b><br>Team: ZETA<br>Rating: 0.89<br><br>sova: 0.39<br>breach: 0.27<br>raze: 0.08<br>skye: 0.07<br>kayo: 0.05<br>viper: 0.04<br>sage: 0.03<br>fade: 0.03<br>killjoy: 0.01<br>harbor: 0.01<br>cypher: 0.00<br>jett: 0.00<br>"
          ],
          [
           "<b>eko</b><br>Team: GEN<br>Rating: 1.06<br><br>sova: 0.48<br>omen: 0.14<br>fade: 0.09<br>breach: 0.09<br>jett: 0.04<br>brimstone: 0.03<br>skye: 0.03<br>chamber: 0.02<br>kayo: 0.02<br>reyna: 0.02<br>neon: 0.02<br>sage: 0.01<br>phoenix: 0.01<br>viper: 0.01<br>"
          ],
          [
           "<b>muj</b><br>Team: FUT<br>Rating: 1.01<br><br>sova: 0.32<br>skye: 0.29<br>chamber: 0.12<br>raze: 0.11<br>jett: 0.06<br>kayo: 0.04<br>breach: 0.04<br>sage: 0.02<br>reyna: 0.01<br>brimstone: 0.01<br>"
          ],
          [
           "<b>lenne</b><br>Team: TS<br>Rating: 1.07<br><br>sova: 0.84<br>skye: 0.04<br>killjoy: 0.04<br>fade: 0.02<br>sage: 0.02<br>omen: 0.01<br>breach: 0.01<br>gekko: 0.00<br>chamber: 0.00<br>viper: 0.00<br>"
          ],
          [
           "<b>koldamenta</b><br>Team: KOI<br>Rating: 0.93<br><br>sova: 0.56<br>astra: 0.10<br>sage: 0.08<br>viper: 0.07<br>omen: 0.07<br>brimstone: 0.04<br>skye: 0.03<br>breach: 0.02<br>raze: 0.02<br>killjoy: 0.01<br>cypher: 0.01<br>"
          ]
         ],
         "hovertemplate": "%{customdata}",
         "hovertext": [
          "leo",
          "chronicle",
          "shao",
          "cloud",
          "crashies",
          "nzr",
          "bcj",
          "cryocells",
          "xeta",
          "ardiis",
          "c0m",
          "cauanzin",
          "runi",
          "foxz",
          "molsi",
          "sacy",
          "mrfalin",
          "derrek",
          "zest",
          "jessievash",
          "ts",
          "frz",
          "wolfen",
          "souhcni",
          "crow",
          "eko",
          "muj",
          "lenne",
          "koldamenta"
         ],
         "legendgroup": "sova",
         "marker": {
          "color": "#636efa",
          "opacity": 0.8,
          "size": 12,
          "symbol": "circle"
         },
         "mode": "markers+text",
         "name": "sova",
         "orientation": "v",
         "showlegend": true,
         "text": [
          "leo",
          "chronicle",
          "shao",
          "cloud",
          "crashies",
          "nzr",
          "bcj",
          "cryocells",
          "xeta",
          "ardiis",
          "c0m",
          "cauanzin",
          "runi",
          "foxz",
          "molsi",
          "sacy",
          "mrfalin",
          "derrek",
          "zest",
          "jessievash",
          "ts",
          "frz",
          "wolfen",
          "souhcni",
          "crow",
          "eko",
          "muj",
          "lenne",
          "koldamenta"
         ],
         "textposition": "top center",
         "type": "scatter",
         "x": [
          9.175830841064453,
          7.581474304199219,
          7.235317707061768,
          6.5594401359558105,
          5.918004989624023,
          6.3488264083862305,
          7.108170986175537,
          7.7793707847595215,
          7.703133583068848,
          6.951254367828369,
          6.567984104156494,
          5.704758167266846,
          7.722544193267822,
          5.820104122161865,
          6.254878997802734,
          6.987426280975342,
          7.976224899291992,
          6.685485363006592,
          6.826436996459961,
          6.530694961547852,
          8.401756286621094,
          6.45329475402832,
          7.109786510467529,
          6.255231857299805,
          8.13514518737793,
          7.5541300773620605,
          5.858004093170166,
          6.772876262664795,
          6.725832939147949
         ],
         "xaxis": "x",
         "y": [
          4.484671592712402,
          4.2081170082092285,
          4.982652187347412,
          4.52486515045166,
          3.903834342956543,
          4.4572649002075195,
          3.832195281982422,
          5.450286388397217,
          3.937741994857788,
          5.633378028869629,
          2.1576929092407227,
          4.3446526527404785,
          4.435973644256592,
          4.611871242523193,
          5.015174388885498,
          4.461374759674072,
          3.5642731189727783,
          3.468365430831909,
          4.663725852966309,
          3.7298789024353027,
          4.141495704650879,
          5.204761505126953,
          5.468742370605469,
          2.8663620948791504,
          4.758838176727295,
          3.7383079528808594,
          5.020849227905273,
          3.8872392177581787,
          4.323997497558594
         ],
         "yaxis": "y"
        },
        {
         "customdata": [
          [
           "<b>something</b><br>Team: PRX<br>Rating: 1.28<br><br>jett: 0.57<br>reyna: 0.31<br>raze: 0.06<br>breach: 0.03<br>chamber: 0.02<br>phoenix: 0.01<br>"
          ],
          [
           "<b>aspas</b><br>Team: LOUD<br>Rating: 1.25<br><br>jett: 0.50<br>reyna: 0.24<br>raze: 0.21<br>neon: 0.03<br>chamber: 0.03<br>"
          ],
          [
           "<b>sayf</b><br>Team: TL<br>Rating: 1.06<br><br>jett: 0.22<br>cypher: 0.18<br>killjoy: 0.12<br>raze: 0.10<br>chamber: 0.07<br>skye: 0.06<br>viper: 0.06<br>phoenix: 0.05<br>sage: 0.04<br>reyna: 0.03<br>sova: 0.02<br>breach: 0.01<br>neon: 0.01<br>kayo: 0.01<br>"
          ],
          [
           "<b>derke</b><br>Team: FNC<br>Rating: 1.15<br><br>jett: 0.49<br>raze: 0.26<br>chamber: 0.13<br>sova: 0.07<br>omen: 0.02<br>sage: 0.02<br>skye: 0.01<br>reyna: 0.01<br>phoenix: 0.00<br>"
          ],
          [
           "<b>leaf</b><br>Team: C9<br>Rating: 1.01<br><br>jett: 0.24<br>raze: 0.19<br>omen: 0.11<br>skye: 0.08<br>neon: 0.07<br>reyna: 0.07<br>chamber: 0.05<br>phoenix: 0.05<br>killjoy: 0.04<br>viper: 0.03<br>sage: 0.03<br>cypher: 0.01<br>kayo: 0.01<br>breach: 0.01<br>astra: 0.01<br>sova: 0.00<br>yoru: 0.00<br>fade: 0.00<br>"
          ],
          [
           "<b>monyet</b><br>Team: GE<br>Rating: 1.16<br><br>jett: 0.40<br>raze: 0.16<br>astra: 0.10<br>neon: 0.09<br>phoenix: 0.07<br>reyna: 0.07<br>omen: 0.05<br>viper: 0.02<br>skye: 0.02<br>sage: 0.01<br>killjoy: 0.01<br>"
          ],
          [
           "<b>d4v41</b><br>Team: PRX<br>Rating: 1.14<br><br>jett: 0.25<br>skye: 0.23<br>chamber: 0.10<br>sage: 0.09<br>kayo: 0.07<br>sova: 0.06<br>fade: 0.05<br>viper: 0.05<br>killjoy: 0.03<br>breach: 0.02<br>raze: 0.02<br>phoenix: 0.01<br>astra: 0.01<br>reyna: 0.01<br>brimstone: 0.00<br>"
          ],
          [
           "<b>s0m</b><br>Team: NRG<br>Rating: 1.03<br><br>jett: 0.28<br>omen: 0.15<br>raze: 0.14<br>astra: 0.13<br>phoenix: 0.06<br>harbor: 0.06<br>skye: 0.03<br>sage: 0.03<br>kayo: 0.03<br>brimstone: 0.02<br>reyna: 0.02<br>viper: 0.01<br>sova: 0.01<br>neon: 0.01<br>chamber: 0.01<br>yoru: 0.01<br>cypher: 0.00<br>"
          ],
          [
           "<b>keznit</b><br>Team: KRÜ<br>Rating: 1.10<br><br>jett: 0.38<br>raze: 0.28<br>reyna: 0.10<br>phoenix: 0.07<br>kayo: 0.05<br>skye: 0.04<br>neon: 0.03<br>chamber: 0.01<br>breach: 0.01<br>omen: 0.00<br>cypher: 0.00<br>fade: 0.00<br>"
          ],
          [
           "<b>buzz</b><br>Team: DRX<br>Rating: 1.12<br><br>jett: 0.47<br>chamber: 0.16<br>killjoy: 0.13<br>omen: 0.08<br>raze: 0.07<br>kayo: 0.03<br>astra: 0.03<br>brimstone: 0.01<br>cypher: 0.01<br>fade: 0.01<br>phoenix: 0.00<br>reyna: 0.00<br>breach: 0.00<br>"
          ],
          [
           "<b>sayaplayer</b><br>Team: T1<br>Rating: 1.13<br><br>jett: 0.48<br>omen: 0.21<br>raze: 0.19<br>chamber: 0.05<br>neon: 0.05<br>phoenix: 0.03<br>"
          ],
          [
           "<b>cned</b><br>Team: NAVI<br>Rating: 1.21<br><br>jett: 0.72<br>sage: 0.09<br>chamber: 0.07<br>raze: 0.05<br>reyna: 0.04<br>yoru: 0.02<br>omen: 0.01<br>neon: 0.01<br>astra: 0.00<br>killjoy: 0.00<br>cypher: 0.00<br>kayo: 0.00<br>"
          ],
          [
           "<b>qw1</b><br>Team: FUT<br>Rating: 1.09<br><br>jett: 0.66<br>neon: 0.10<br>raze: 0.09<br>chamber: 0.07<br>sage: 0.03<br>sova: 0.02<br>omen: 0.01<br>skye: 0.01<br>reyna: 0.00<br>"
          ],
          [
           "<b>qutionerx</b><br>Team: BBL<br>Rating: 1.09<br><br>jett: 0.50<br>cypher: 0.16<br>raze: 0.13<br>killjoy: 0.07<br>chamber: 0.06<br>sage: 0.04<br>neon: 0.02<br>yoru: 0.01<br>omen: 0.01<br>"
          ],
          [
           "<b>fit1nho</b><br>Team: GIA<br>Rating: 1.07<br><br>jett: 0.53<br>raze: 0.33<br>sova: 0.04<br>chamber: 0.02<br>sage: 0.02<br>kayo: 0.02<br>neon: 0.02<br>breach: 0.01<br>omen: 0.01<br>cypher: 0.01<br>reyna: 0.00<br>viper: 0.00<br>"
          ],
          [
           "<b>jamppi</b><br>Team: TL<br>Rating: 1.05<br><br>jett: 0.35<br>sova: 0.14<br>chamber: 0.12<br>omen: 0.11<br>skye: 0.09<br>breach: 0.08<br>killjoy: 0.06<br>astra: 0.02<br>raze: 0.01<br>sage: 0.01<br>neon: 0.00<br>brimstone: 0.00<br>"
          ],
          [
           "<b>t3xture</b><br>Team: GE<br>Rating: 1.13<br><br>jett: 0.72<br>raze: 0.12<br>killjoy: 0.06<br>chamber: 0.04<br>reyna: 0.02<br>sage: 0.01<br>phoenix: 0.01<br>neon: 0.01<br>sova: 0.01<br>"
          ],
          [
           "<b>f0rsaken</b><br>Team: PRX<br>Rating: 1.16<br><br>jett: 0.33<br>raze: 0.13<br>chamber: 0.08<br>yoru: 0.07<br>neon: 0.07<br>sova: 0.05<br>skye: 0.04<br>phoenix: 0.04<br>breach: 0.04<br>killjoy: 0.03<br>kayo: 0.03<br>reyna: 0.03<br>harbor: 0.02<br>cypher: 0.02<br>sage: 0.01<br>fade: 0.01<br>astra: 0.00<br>"
          ],
          [
           "<b>rb</b><br>Team: DRX<br>Rating: 1.07<br><br>jett: 0.40<br>raze: 0.14<br>sova: 0.09<br>killjoy: 0.07<br>neon: 0.07<br>kayo: 0.05<br>sage: 0.04<br>astra: 0.03<br>harbor: 0.03<br>skye: 0.03<br>chamber: 0.02<br>fade: 0.01<br>yoru: 0.00<br>brimstone: 0.00<br>omen: 0.00<br>"
          ],
          [
           "<b>meteor</b><br>Team: GEN<br>Rating: 1.11<br><br>jett: 0.72<br>chamber: 0.15<br>raze: 0.10<br>neon: 0.02<br>phoenix: 0.01<br>reyna: 0.01<br>"
          ],
          [
           "<b>dep</b><br>Team: ZETA<br>Rating: 1.08<br><br>jett: 0.60<br>raze: 0.10<br>sage: 0.07<br>neon: 0.04<br>sova: 0.04<br>killjoy: 0.03<br>viper: 0.03<br>phoenix: 0.02<br>omen: 0.02<br>breach: 0.01<br>fade: 0.01<br>reyna: 0.01<br>skye: 0.01<br>kayo: 0.01<br>"
          ],
          [
           "<b>boostio</b><br>Team: EG<br>Rating: 1.02<br><br>jett: 0.45<br>killjoy: 0.12<br>chamber: 0.12<br>phoenix: 0.09<br>astra: 0.06<br>raze: 0.06<br>skye: 0.04<br>breach: 0.01<br>cypher: 0.01<br>reyna: 0.01<br>kayo: 0.01<br>fade: 0.00<br>viper: 0.00<br>"
          ],
          [
           "<b>dgzin</b><br>Team: FUR<br>Rating: 1.04<br><br>jett: 0.78<br>chamber: 0.09<br>neon: 0.05<br>reyna: 0.05<br>kayo: 0.02<br>sova: 0.01<br>raze: 0.01<br>cypher: 0.01<br>"
          ],
          [
           "<b>foxy9</b><br>Team: DRX<br>Rating: 1.08<br><br>jett: 0.73<br>raze: 0.20<br>chamber: 0.02<br>sage: 0.01<br>reyna: 0.01<br>breach: 0.01<br>skye: 0.01<br>"
          ],
          [
           "<b>tuyz</b><br>Team: LOUD<br>Rating: 1.05<br><br>jett: 0.33<br>raze: 0.22<br>harbor: 0.08<br>sage: 0.07<br>omen: 0.07<br>chamber: 0.07<br>reyna: 0.06<br>astra: 0.05<br>brimstone: 0.02<br>neon: 0.01<br>cypher: 0.01<br>phoenix: 0.00<br>skye: 0.00<br>"
          ],
          [
           "<b>fl1pzjder</b><br>Team: RRQ<br>Rating: 1.07<br><br>jett: 0.29<br>kayo: 0.14<br>raze: 0.12<br>chamber: 0.10<br>skye: 0.08<br>breach: 0.08<br>sage: 0.06<br>viper: 0.05<br>killjoy: 0.03<br>reyna: 0.02<br>fade: 0.01<br>cypher: 0.01<br>sova: 0.01<br>"
          ],
          [
           "<b>patiphan</b><br>Team: TLN<br>Rating: 1.01<br><br>jett: 0.37<br>phoenix: 0.14<br>raze: 0.12<br>reyna: 0.10<br>harbor: 0.04<br>breach: 0.04<br>sage: 0.04<br>omen: 0.02<br>killjoy: 0.02<br>kayo: 0.02<br>astra: 0.01<br>sova: 0.01<br>viper: 0.01<br>brimstone: 0.01<br>yoru: 0.01<br>skye: 0.01<br>cypher: 0.01<br>gekko: 0.01<br>"
          ],
          [
           "<b>bazzi</b><br>Team: GE<br>Rating: 1.14<br><br>jett: 0.48<br>breach: 0.11<br>raze: 0.09<br>sova: 0.09<br>skye: 0.06<br>yoru: 0.04<br>fade: 0.03<br>sage: 0.03<br>cypher: 0.02<br>chamber: 0.02<br>neon: 0.02<br>killjoy: 0.00<br>reyna: 0.00<br>viper: 0.00<br>kayo: 0.00<br>"
          ],
          [
           "<b>garnets</b><br>Team: TLN<br>Rating: 1.04<br><br>jett: 0.67<br>raze: 0.18<br>neon: 0.09<br>chamber: 0.03<br>skye: 0.03<br>"
          ],
          [
           "<b>scream</b><br>Team: KC<br>Rating: 1.13<br><br>jett: 0.29<br>reyna: 0.20<br>raze: 0.14<br>phoenix: 0.14<br>sage: 0.13<br>kayo: 0.05<br>breach: 0.03<br>skye: 0.02<br>"
          ],
          [
           "<b>dubstep</b><br>Team: TS<br>Rating: 1.05<br><br>jett: 0.67<br>raze: 0.09<br>killjoy: 0.05<br>reyna: 0.04<br>chamber: 0.04<br>kayo: 0.03<br>yoru: 0.02<br>cypher: 0.02<br>sage: 0.01<br>viper: 0.01<br>neon: 0.01<br>phoenix: 0.00<br>astra: 0.00<br>"
          ],
          [
           "<b>tenz</b><br>Team: SEN<br>Rating: 1.13<br><br>jett: 0.63<br>reyna: 0.19<br>raze: 0.10<br>chamber: 0.02<br>kayo: 0.02<br>yoru: 0.01<br>sage: 0.01<br>viper: 0.01<br>neon: 0.00<br>phoenix: 0.00<br>"
          ],
          [
           "<b>ejay</b><br>Team: RRQ<br>Rating: 1.10<br><br>jett: 0.63<br>raze: 0.17<br>chamber: 0.08<br>sage: 0.04<br>kayo: 0.04<br>killjoy: 0.01<br>reyna: 0.01<br>yoru: 0.01<br>neon: 0.01<br>phoenix: 0.01<br>"
          ],
          [
           "<b>heat</b><br>Team: MIBR<br>Rating: 1.13<br><br>jett: 0.80<br>chamber: 0.13<br>raze: 0.05<br>neon: 0.01<br>"
          ],
          [
           "<b>nagz</b><br>Team: KRÜ<br>Rating: 1.10<br><br>jett: 0.59<br>chamber: 0.19<br>killjoy: 0.09<br>sage: 0.06<br>viper: 0.05<br>raze: 0.01<br>cypher: 0.01<br>brimstone: 0.00<br>"
          ],
          [
           "<b>goddead</b><br>Team: GEN<br>Rating: 1.01<br><br>jett: 0.26<br>kayo: 0.23<br>breach: 0.14<br>sage: 0.11<br>sova: 0.10<br>raze: 0.04<br>chamber: 0.04<br>skye: 0.04<br>cypher: 0.02<br>phoenix: 0.01<br>reyna: 0.01<br>viper: 0.01<br>neon: 0.01<br>astra: 0.01<br>"
          ],
          [
           "<b>quick</b><br>Team: FUR<br>Rating: 0.99<br><br>jett: 0.31<br>viper: 0.13<br>reyna: 0.10<br>killjoy: 0.10<br>chamber: 0.09<br>raze: 0.08<br>sage: 0.08<br>cypher: 0.05<br>harbor: 0.02<br>breach: 0.02<br>skye: 0.01<br>omen: 0.01<br>neon: 0.01<br>phoenix: 0.00<br>"
          ],
          [
           "<b>tacolilla</b><br>Team: LEV<br>Rating: 1.07<br><br>jett: 0.62<br>chamber: 0.18<br>skye: 0.06<br>raze: 0.06<br>sage: 0.05<br>reyna: 0.01<br>yoru: 0.00<br>breach: 0.00<br>"
          ],
          [
           "<b>anthem</b><br>Team: DFM<br>Rating: 1.11<br><br>jett: 0.42<br>skye: 0.14<br>raze: 0.10<br>killjoy: 0.07<br>sova: 0.07<br>chamber: 0.05<br>cypher: 0.04<br>kayo: 0.03<br>viper: 0.03<br>fade: 0.02<br>reyna: 0.02<br>breach: 0.02<br>sage: 0.01<br>"
          ],
          [
           "<b>ban</b><br>Team: T1<br>Rating: 1.06<br><br>jett: 0.50<br>skye: 0.13<br>reyna: 0.13<br>sage: 0.08<br>chamber: 0.05<br>omen: 0.03<br>viper: 0.02<br>harbor: 0.01<br>neon: 0.01<br>killjoy: 0.01<br>breach: 0.01<br>cypher: 0.01<br>fade: 0.00<br>astra: 0.00<br>kayo: 0.00<br>"
          ],
          [
           "<b>skrossi</b><br>Team: GE<br>Rating: 1.20<br><br>jett: 0.71<br>chamber: 0.20<br>raze: 0.04<br>reyna: 0.03<br>sage: 0.01<br>kayo: 0.01<br>yoru: 0.00<br>killjoy: 0.00<br>sova: 0.00<br>astra: 0.00<br>"
          ],
          [
           "<b>wronski</b><br>Team: GE<br>Rating: 1.10<br><br>jett: 0.77<br>reyna: 0.07<br>chamber: 0.06<br>raze: 0.03<br>kayo: 0.03<br>sage: 0.02<br>phoenix: 0.02<br>cypher: 0.00<br>sova: 0.00<br>viper: 0.00<br>skye: 0.00<br>astra: 0.00<br>"
          ],
          [
           "<b>reita</b><br>Team: DFM<br>Rating: 1.04<br><br>jett: 0.45<br>sova: 0.16<br>omen: 0.11<br>fade: 0.06<br>reyna: 0.04<br>viper: 0.03<br>chamber: 0.03<br>killjoy: 0.03<br>raze: 0.02<br>skye: 0.02<br>cypher: 0.01<br>breach: 0.01<br>sage: 0.01<br>harbor: 0.00<br>brimstone: 0.00<br>astra: 0.00<br>"
          ],
          [
           "<b>seoldam</b><br>Team: DFM<br>Rating: 1.16<br><br>jett: 0.82<br>skye: 0.17<br>raze: 0.01<br>"
          ],
          [
           "<b>mixwell</b><br>Team: TH<br>Rating: 1.01<br><br>jett: 0.46<br>viper: 0.14<br>chamber: 0.11<br>raze: 0.07<br>killjoy: 0.05<br>skye: 0.05<br>sage: 0.02<br>cypher: 0.02<br>breach: 0.02<br>kayo: 0.01<br>neon: 0.01<br>reyna: 0.01<br>harbor: 0.01<br>yoru: 0.01<br>"
          ],
          [
           "<b>murizzz</b><br>Team: MIBR<br>Rating: 0.97<br><br>jett: 0.17<br>raze: 0.12<br>sova: 0.11<br>viper: 0.11<br>sage: 0.10<br>skye: 0.10<br>reyna: 0.08<br>kayo: 0.06<br>chamber: 0.05<br>killjoy: 0.03<br>phoenix: 0.03<br>breach: 0.03<br>fade: 0.01<br>neon: 0.01<br>"
          ],
          [
           "<b>harmii</b><br>Team: TL<br>Rating: 1.02<br><br>jett: 0.50<br>raze: 0.31<br>chamber: 0.19<br>"
          ],
          [
           "<b>keloqz</b><br>Team: TH<br>Rating: 1.01<br><br>jett: 0.72<br>chamber: 0.12<br>skye: 0.04<br>raze: 0.04<br>neon: 0.02<br>sage: 0.02<br>reyna: 0.02<br>omen: 0.00<br>phoenix: 0.00<br>breach: 0.00<br>"
          ]
         ],
         "hovertemplate": "%{customdata}",
         "hovertext": [
          "something",
          "aspas",
          "sayf",
          "derke",
          "leaf",
          "monyet",
          "d4v41",
          "s0m",
          "keznit",
          "buzz",
          "sayaplayer",
          "cned",
          "qw1",
          "qutionerx",
          "fit1nho",
          "jamppi",
          "t3xture",
          "f0rsaken",
          "rb",
          "meteor",
          "dep",
          "boostio",
          "dgzin",
          "foxy9",
          "tuyz",
          "fl1pzjder",
          "patiphan",
          "bazzi",
          "garnets",
          "scream",
          "dubstep",
          "tenz",
          "ejay",
          "heat",
          "nagz",
          "goddead",
          "quick",
          "tacolilla",
          "anthem",
          "ban",
          "skrossi",
          "wronski",
          "reita",
          "seoldam",
          "mixwell",
          "murizzz",
          "harmii",
          "keloqz"
         ],
         "legendgroup": "jett",
         "marker": {
          "color": "#EF553B",
          "opacity": 0.8,
          "size": 12,
          "symbol": "circle"
         },
         "mode": "markers+text",
         "name": "jett",
         "orientation": "v",
         "showlegend": true,
         "text": [
          "something",
          "aspas",
          "sayf",
          "derke",
          "leaf",
          "monyet",
          "d4v41",
          "s0m",
          "keznit",
          "buzz",
          "sayaplayer",
          "cned",
          "qw1",
          "qutionerx",
          "fit1nho",
          "jamppi",
          "t3xture",
          "f0rsaken",
          "rb",
          "meteor",
          "dep",
          "boostio",
          "dgzin",
          "foxy9",
          "tuyz",
          "fl1pzjder",
          "patiphan",
          "bazzi",
          "garnets",
          "scream",
          "dubstep",
          "tenz",
          "ejay",
          "heat",
          "nagz",
          "goddead",
          "quick",
          "tacolilla",
          "anthem",
          "ban",
          "skrossi",
          "wronski",
          "reita",
          "seoldam",
          "mixwell",
          "murizzz",
          "harmii",
          "keloqz"
         ],
         "textposition": "top center",
         "type": "scatter",
         "x": [
          14.474092483520508,
          15.074689865112305,
          17.396005630493164,
          16.801376342773438,
          16.106704711914062,
          15.975401878356934,
          14.456275939941406,
          16.61325454711914,
          15.405610084533691,
          16.9238338470459,
          16.915271759033203,
          15.69426441192627,
          16.651580810546875,
          17.213787078857422,
          15.8599214553833,
          15.276660919189453,
          16.231849670410156,
          16.745935440063477,
          16.98619842529297,
          17.050085067749023,
          15.749091148376465,
          16.0942440032959,
          15.445457458496094,
          16.116071701049805,
          16.289339065551758,
          15.282082557678223,
          15.396419525146484,
          15.846145629882812,
          16.775129318237305,
          14.59756851196289,
          16.26782989501953,
          15.031988143920898,
          16.4130802154541,
          16.50994300842285,
          16.43219566345215,
          15.126763343811035,
          16.360729217529297,
          16.258047103881836,
          15.414163589477539,
          14.397880554199219,
          16.621553421020508,
          15.274903297424316,
          14.86228084564209,
          14.669676780700684,
          16.319974899291992,
          14.762774467468262,
          16.364667892456055,
          15.630860328674316
         ],
         "xaxis": "x",
         "y": [
          8.898655891418457,
          8.322720527648926,
          9.873695373535156,
          7.74567174911499,
          6.914081573486328,
          8.156708717346191,
          10.153727531433105,
          7.788905620574951,
          7.2493414878845215,
          11.080649375915527,
          7.638884544372559,
          10.016721725463867,
          9.627355575561523,
          9.370439529418945,
          7.4830851554870605,
          11.22518539428711,
          9.284454345703125,
          8.940646171569824,
          8.622566223144531,
          10.353105545043945,
          9.24573802947998,
          11.350370407104492,
          10.47625732421875,
          8.635388374328613,
          7.225804805755615,
          9.624812126159668,
          8.455988883972168,
          9.47031307220459,
          8.535199165344238,
          7.987263202667236,
          9.68378734588623,
          9.023763656616211,
          9.025814056396484,
          10.321061134338379,
          11.701160430908203,
          9.363956451416016,
          10.22801399230957,
          10.859742164611816,
          9.842606544494629,
          10.21883773803711,
          11.16513442993164,
          10.047847747802734,
          10.815529823303223,
          10.459943771362305,
          10.95125961303711,
          9.155082702636719,
          8.016305923461914,
          10.562694549560547
         ],
         "yaxis": "y"
        },
        {
         "customdata": [
          [
           "<b>alfajer</b><br>Team: FNC<br>Rating: 1.17<br><br>killjoy: 0.39<br>raze: 0.20<br>cypher: 0.11<br>chamber: 0.10<br>viper: 0.06<br>jett: 0.05<br>sage: 0.03<br>neon: 0.02<br>reyna: 0.01<br>kayo: 0.01<br>phoenix: 0.01<br>skye: 0.01<br>omen: 0.00<br>"
          ],
          [
           "<b>less</b><br>Team: LOUD<br>Rating: 1.13<br><br>killjoy: 0.43<br>viper: 0.33<br>cypher: 0.08<br>chamber: 0.07<br>raze: 0.07<br>sage: 0.01<br>jett: 0.00<br>"
          ],
          [
           "<b>munchkin</b><br>Team: T1<br>Rating: 1.03<br><br>killjoy: 0.24<br>cypher: 0.21<br>jett: 0.11<br>skye: 0.10<br>raze: 0.07<br>omen: 0.06<br>phoenix: 0.04<br>reyna: 0.04<br>chamber: 0.03<br>sage: 0.02<br>viper: 0.02<br>breach: 0.02<br>brimstone: 0.02<br>sova: 0.01<br>astra: 0.00<br>kayo: 0.00<br>"
          ],
          [
           "<b>k1ng</b><br>Team: GEN<br>Rating: 1.09<br><br>killjoy: 0.43<br>cypher: 0.40<br>viper: 0.13<br>astra: 0.01<br>brimstone: 0.00<br>kayo: 0.00<br>omen: 0.00<br>sova: 0.00<br>sage: 0.00<br>reyna: 0.00<br>breach: 0.00<br>chamber: 0.00<br>"
          ],
          [
           "<b>shyy</b><br>Team: LEV<br>Rating: 1.04<br><br>killjoy: 0.39<br>skye: 0.22<br>fade: 0.19<br>kayo: 0.11<br>chamber: 0.04<br>cypher: 0.02<br>jett: 0.02<br>"
          ],
          [
           "<b>benkai</b><br>Team: PRX<br>Rating: 1.08<br><br>killjoy: 0.22<br>cypher: 0.19<br>sova: 0.13<br>breach: 0.12<br>viper: 0.11<br>sage: 0.10<br>fade: 0.08<br>astra: 0.02<br>omen: 0.01<br>chamber: 0.01<br>skye: 0.00<br>jett: 0.00<br>reyna: 0.00<br>phoenix: 0.00<br>"
          ],
          [
           "<b>jitboys</b><br>Team: TLN<br>Rating: 1.05<br><br>killjoy: 0.24<br>chamber: 0.19<br>omen: 0.12<br>cypher: 0.09<br>breach: 0.07<br>astra: 0.06<br>viper: 0.06<br>sage: 0.05<br>kayo: 0.05<br>brimstone: 0.02<br>skye: 0.02<br>fade: 0.02<br>raze: 0.02<br>reyna: 0.01<br>harbor: 0.01<br>"
          ],
          [
           "<b>mojj</b><br>Team: FUT<br>Rating: 0.97<br><br>killjoy: 0.47<br>cypher: 0.20<br>viper: 0.18<br>sage: 0.09<br>raze: 0.03<br>reyna: 0.01<br>breach: 0.01<br>sova: 0.01<br>brimstone: 0.00<br>omen: 0.00<br>"
          ],
          [
           "<b>sushiboys</b><br>Team: TLN<br>Rating: 1.00<br><br>killjoy: 0.48<br>cypher: 0.23<br>jett: 0.11<br>raze: 0.06<br>chamber: 0.03<br>viper: 0.02<br>sova: 0.01<br>neon: 0.01<br>skye: 0.01<br>astra: 0.01<br>fade: 0.01<br>kayo: 0.00<br>sage: 0.00<br>breach: 0.00<br>"
          ],
          [
           "<b>klaus</b><br>Team: KRÜ<br>Rating: 1.00<br><br>killjoy: 0.28<br>sova: 0.19<br>viper: 0.14<br>skye: 0.13<br>cypher: 0.12<br>breach: 0.07<br>fade: 0.03<br>kayo: 0.02<br>jett: 0.01<br>raze: 0.01<br>gekko: 0.00<br>"
          ],
          [
           "<b>benjyfishy</b><br>Team: TH<br>Rating: 1.10<br><br>killjoy: 0.55<br>jett: 0.28<br>raze: 0.06<br>chamber: 0.05<br>viper: 0.04<br>cypher: 0.02<br>reyna: 0.01<br>"
          ]
         ],
         "hovertemplate": "%{customdata}",
         "hovertext": [
          "alfajer",
          "less",
          "munchkin",
          "k1ng",
          "shyy",
          "benkai",
          "jitboys",
          "mojj",
          "sushiboys",
          "klaus",
          "benjyfishy"
         ],
         "legendgroup": "killjoy",
         "marker": {
          "color": "#00cc96",
          "opacity": 0.8,
          "size": 12,
          "symbol": "circle"
         },
         "mode": "markers+text",
         "name": "killjoy",
         "orientation": "v",
         "showlegend": true,
         "text": [
          "alfajer",
          "less",
          "munchkin",
          "k1ng",
          "shyy",
          "benkai",
          "jitboys",
          "mojj",
          "sushiboys",
          "klaus",
          "benjyfishy"
         ],
         "textposition": "top center",
         "type": "scatter",
         "x": [
          7.47186803817749,
          7.709212303161621,
          6.470763206481934,
          6.64007043838501,
          6.9770331382751465,
          6.8135457038879395,
          8.092169761657715,
          7.287472248077393,
          7.0048604011535645,
          7.013206481933594,
          7.3170318603515625
         ],
         "xaxis": "x",
         "y": [
          -0.18049967288970947,
          0.6485231518745422,
          -0.19057384133338928,
          0.0013727203477174044,
          -0.6640080809593201,
          0.9785850644111633,
          0.22451379895210266,
          0.23599009215831757,
          -0.533983051776886,
          0.8737719058990479,
          -0.40149903297424316
         ],
         "yaxis": "y"
        },
        {
         "customdata": [
          [
           "<b>kingg</b><br>Team: LEV<br>Rating: 1.17<br><br>raze: 0.33<br>viper: 0.26<br>kayo: 0.12<br>sage: 0.08<br>breach: 0.07<br>phoenix: 0.06<br>neon: 0.06<br>skye: 0.01<br>reyna: 0.00<br>brimstone: 0.00<br>omen: 0.00<br>"
          ],
          [
           "<b>nukkye</b><br>Team: GIA<br>Rating: 1.17<br><br>raze: 0.46<br>sova: 0.15<br>jett: 0.10<br>sage: 0.07<br>reyna: 0.06<br>killjoy: 0.04<br>kayo: 0.03<br>breach: 0.02<br>phoenix: 0.01<br>viper: 0.01<br>skye: 0.01<br>cypher: 0.01<br>omen: 0.01<br>neon: 0.01<br>chamber: 0.01<br>fade: 0.00<br>"
          ],
          [
           "<b>trexx</b><br>Team: KOI<br>Rating: 1.21<br><br>raze: 0.54<br>sova: 0.09<br>kayo: 0.08<br>jett: 0.06<br>cypher: 0.05<br>reyna: 0.05<br>viper: 0.03<br>skye: 0.03<br>killjoy: 0.02<br>fade: 0.02<br>sage: 0.01<br>yoru: 0.01<br>chamber: 0.00<br>breach: 0.00<br>neon: 0.00<br>"
          ],
          [
           "<b>zyppan</b><br>Team: NAVI<br>Rating: 1.11<br><br>raze: 0.58<br>kayo: 0.20<br>sage: 0.06<br>skye: 0.06<br>reyna: 0.03<br>fade: 0.02<br>jett: 0.02<br>breach: 0.01<br>brimstone: 0.01<br>phoenix: 0.01<br>sova: 0.01<br>"
          ],
          [
           "<b>jinggg</b><br>Team: PRX<br>Rating: 1.14<br><br>raze: 0.63<br>reyna: 0.16<br>sage: 0.08<br>jett: 0.06<br>phoenix: 0.03<br>chamber: 0.02<br>kayo: 0.01<br>neon: 0.00<br>breach: 0.00<br>"
          ],
          [
           "<b>kamyk</b><br>Team: FNC<br>Rating: 1.09<br><br>raze: 0.21<br>sage: 0.13<br>cypher: 0.12<br>astra: 0.11<br>skye: 0.08<br>killjoy: 0.07<br>viper: 0.07<br>kayo: 0.05<br>omen: 0.04<br>chamber: 0.04<br>sova: 0.03<br>breach: 0.03<br>phoenix: 0.01<br>brimstone: 0.00<br>yoru: 0.00<br>"
          ],
          [
           "<b>zekken</b><br>Team: SEN<br>Rating: 1.20<br><br>raze: 0.38<br>sova: 0.28<br>kayo: 0.08<br>skye: 0.07<br>jett: 0.06<br>neon: 0.03<br>phoenix: 0.02<br>sage: 0.02<br>chamber: 0.01<br>killjoy: 0.01<br>viper: 0.01<br>breach: 0.01<br>omen: 0.01<br>fade: 0.01<br>reyna: 0.01<br>astra: 0.00<br>brimstone: 0.00<br>yoru: 0.00<br>cypher: 0.00<br>"
          ],
          [
           "<b>twisten</b><br>Team: VIT<br>Rating: 1.15<br><br>raze: 0.46<br>jett: 0.38<br>kayo: 0.04<br>cypher: 0.03<br>reyna: 0.03<br>viper: 0.02<br>chamber: 0.02<br>sova: 0.01<br>omen: 0.01<br>sage: 0.01<br>breach: 0.00<br>brimstone: 0.00<br>phoenix: 0.00<br>killjoy: 0.00<br>"
          ],
          [
           "<b>daveeys</b><br>Team: KRÜ<br>Rating: 1.11<br><br>raze: 0.33<br>chamber: 0.15<br>phoenix: 0.14<br>reyna: 0.07<br>jett: 0.07<br>brimstone: 0.06<br>kayo: 0.05<br>killjoy: 0.03<br>astra: 0.03<br>omen: 0.03<br>cypher: 0.01<br>breach: 0.01<br>sova: 0.01<br>harbor: 0.01<br>skye: 0.00<br>"
          ],
          [
           "<b>asuna</b><br>Team: 100T<br>Rating: 1.12<br><br>raze: 0.30<br>reyna: 0.17<br>phoenix: 0.12<br>skye: 0.11<br>jett: 0.10<br>kayo: 0.09<br>sage: 0.04<br>sova: 0.02<br>fade: 0.02<br>neon: 0.01<br>breach: 0.01<br>gekko: 0.01<br>chamber: 0.00<br>yoru: 0.00<br>astra: 0.00<br>omen: 0.00<br>"
          ],
          [
           "<b>mwzera</b><br>Team: FUR<br>Rating: 1.11<br><br>raze: 0.50<br>jett: 0.19<br>sova: 0.14<br>skye: 0.09<br>reyna: 0.03<br>omen: 0.02<br>fade: 0.02<br>kayo: 0.01<br>killjoy: 0.00<br>viper: 0.00<br>chamber: 0.00<br>yoru: 0.00<br>"
          ],
          [
           "<b>jawgemo</b><br>Team: EG<br>Rating: 1.07<br><br>raze: 0.34<br>jett: 0.25<br>omen: 0.08<br>kayo: 0.06<br>sage: 0.06<br>astra: 0.06<br>reyna: 0.05<br>skye: 0.04<br>harbor: 0.02<br>neon: 0.01<br>chamber: 0.01<br>brimstone: 0.01<br>viper: 0.01<br>phoenix: 0.01<br>fade: 0.01<br>yoru: 0.00<br>"
          ],
          [
           "<b>jremy</b><br>Team: TS<br>Rating: 1.01<br><br>raze: 0.42<br>chamber: 0.11<br>jett: 0.09<br>killjoy: 0.08<br>cypher: 0.07<br>sage: 0.05<br>skye: 0.04<br>fade: 0.03<br>kayo: 0.02<br>sova: 0.02<br>phoenix: 0.02<br>breach: 0.02<br>neon: 0.01<br>"
          ],
          [
           "<b>suggest</b><br>Team: DFM<br>Rating: 1.06<br><br>raze: 0.28<br>breach: 0.19<br>skye: 0.11<br>kayo: 0.08<br>jett: 0.06<br>sova: 0.06<br>sage: 0.06<br>phoenix: 0.05<br>killjoy: 0.05<br>chamber: 0.03<br>viper: 0.02<br>yoru: 0.01<br>"
          ],
          [
           "<b>mazin</b><br>Team: FUR<br>Rating: 0.99<br><br>raze: 0.22<br>astra: 0.14<br>omen: 0.14<br>sage: 0.12<br>viper: 0.10<br>skye: 0.10<br>kayo: 0.07<br>jett: 0.05<br>harbor: 0.04<br>breach: 0.03<br>"
          ],
          [
           "<b>tennn</b><br>Team: ZETA<br>Rating: 0.85<br><br>raze: 0.32<br>killjoy: 0.15<br>breach: 0.11<br>sova: 0.11<br>sage: 0.08<br>skye: 0.06<br>kayo: 0.05<br>reyna: 0.04<br>jett: 0.04<br>viper: 0.03<br>phoenix: 0.02<br>fade: 0.01<br>"
          ],
          [
           "<b>ayrin</b><br>Team: GE<br>Rating: 0.99<br><br>raze: 0.27<br>viper: 0.22<br>killjoy: 0.19<br>cypher: 0.08<br>astra: 0.08<br>omen: 0.04<br>sage: 0.03<br>phoenix: 0.03<br>brimstone: 0.02<br>kayo: 0.02<br>harbor: 0.01<br>reyna: 0.00<br>skye: 0.00<br>chamber: 0.00<br>fade: 0.00<br>"
          ],
          [
           "<b>jzz</b><br>Team: MIBR<br>Rating: 1.05<br><br>raze: 0.27<br>jett: 0.24<br>skye: 0.10<br>neon: 0.09<br>reyna: 0.08<br>sova: 0.07<br>fade: 0.06<br>chamber: 0.06<br>breach: 0.02<br>kayo: 0.01<br>astra: 0.01<br>"
          ],
          [
           "<b>rhyme</b><br>Team: GIA<br>Rating: 0.98<br><br>raze: 0.34<br>cypher: 0.09<br>sova: 0.09<br>omen: 0.07<br>jett: 0.05<br>kayo: 0.05<br>sage: 0.05<br>astra: 0.04<br>killjoy: 0.04<br>breach: 0.04<br>viper: 0.03<br>reyna: 0.03<br>chamber: 0.02<br>yoru: 0.02<br>brimstone: 0.02<br>neon: 0.01<br>harbor: 0.01<br>skye: 0.00<br>phoenix: 0.00<br>"
          ],
          [
           "<b>kon4n</b><br>Team: FUR<br>Rating: 1.03<br><br>raze: 0.31<br>skye: 0.18<br>sage: 0.15<br>phoenix: 0.12<br>breach: 0.11<br>reyna: 0.07<br>sova: 0.02<br>neon: 0.01<br>kayo: 0.01<br>"
          ],
          [
           "<b>xnfri</b><br>Team: DFM<br>Rating: 1.03<br><br>raze: 0.23<br>skye: 0.20<br>chamber: 0.12<br>jett: 0.11<br>kayo: 0.08<br>sova: 0.06<br>omen: 0.05<br>reyna: 0.05<br>harbor: 0.02<br>astra: 0.02<br>brimstone: 0.02<br>breach: 0.01<br>viper: 0.01<br>yoru: 0.01<br>phoenix: 0.01<br>sage: 0.01<br>"
          ],
          [
           "<b>axeddy</b><br>Team: KRÜ<br>Rating: 1.01<br><br>raze: 0.20<br>kayo: 0.19<br>skye: 0.15<br>phoenix: 0.10<br>killjoy: 0.06<br>sage: 0.05<br>jett: 0.05<br>breach: 0.04<br>omen: 0.03<br>yoru: 0.03<br>viper: 0.03<br>brimstone: 0.02<br>reyna: 0.02<br>chamber: 0.02<br>sova: 0.01<br>astra: 0.01<br>harbor: 0.01<br>"
          ]
         ],
         "hovertemplate": "%{customdata}",
         "hovertext": [
          "kingg",
          "nukkye",
          "trexx",
          "zyppan",
          "jinggg",
          "kamyk",
          "zekken",
          "twisten",
          "daveeys",
          "asuna",
          "mwzera",
          "jawgemo",
          "jremy",
          "suggest",
          "mazin",
          "tennn",
          "ayrin",
          "jzz",
          "rhyme",
          "kon4n",
          "xnfri",
          "axeddy"
         ],
         "legendgroup": "raze",
         "marker": {
          "color": "#ab63fa",
          "opacity": 0.8,
          "size": 12,
          "symbol": "circle"
         },
         "mode": "markers+text",
         "name": "raze",
         "orientation": "v",
         "showlegend": true,
         "text": [
          "kingg",
          "nukkye",
          "trexx",
          "zyppan",
          "jinggg",
          "kamyk",
          "zekken",
          "twisten",
          "daveeys",
          "asuna",
          "mwzera",
          "jawgemo",
          "jremy",
          "suggest",
          "mazin",
          "tennn",
          "ayrin",
          "jzz",
          "rhyme",
          "kon4n",
          "xnfri",
          "axeddy"
         ],
         "textposition": "top center",
         "type": "scatter",
         "x": [
          14.154483795166016,
          14.6940336227417,
          14.451300621032715,
          13.923111915588379,
          14.668828964233398,
          13.423233985900879,
          14.020543098449707,
          15.724363327026367,
          14.995354652404785,
          14.250749588012695,
          14.842793464660645,
          15.333874702453613,
          14.466021537780762,
          13.44231128692627,
          12.476460456848145,
          13.885337829589844,
          13.668085098266602,
          15.0676908493042,
          14.747976303100586,
          13.074088096618652,
          14.007633209228516,
          13.330721855163574
         ],
         "xaxis": "x",
         "y": [
          3.5119481086730957,
          4.535704612731934,
          4.354217052459717,
          4.588650226593018,
          4.875079154968262,
          3.4712958335876465,
          4.642286777496338,
          6.35566520690918,
          5.092702388763428,
          5.662395000457764,
          5.25508451461792,
          6.02664852142334,
          4.140900135040283,
          4.274921417236328,
          2.954110860824585,
          4.159617900848389,
          2.993277072906494,
          6.622514724731445,
          4.073764801025391,
          4.797914981842041,
          5.982203960418701,
          5.409577369689941
         ],
         "yaxis": "y"
        },
        {
         "customdata": [
          [
           "<b>mako</b><br>Team: DRX<br>Rating: 1.22<br><br>viper: 0.33<br>jett: 0.21<br>astra: 0.19<br>omen: 0.15<br>brimstone: 0.07<br>sage: 0.03<br>raze: 0.01<br>reyna: 0.01<br>phoenix: 0.00<br>"
          ],
          [
           "<b>atakaptan</b><br>Team: FUT<br>Rating: 1.11<br><br>viper: 0.41<br>brimstone: 0.27<br>omen: 0.15<br>astra: 0.08<br>breach: 0.04<br>sage: 0.02<br>kayo: 0.01<br>raze: 0.00<br>killjoy: 0.00<br>"
          ],
          [
           "<b>nivera</b><br>Team: KC<br>Rating: 1.05<br><br>viper: 0.30<br>killjoy: 0.14<br>cypher: 0.14<br>omen: 0.12<br>chamber: 0.12<br>sova: 0.06<br>kayo: 0.06<br>breach: 0.04<br>brimstone: 0.02<br>astra: 0.01<br>"
          ],
          [
           "<b>jakee</b><br>Team: C9<br>Rating: 1.09<br><br>viper: 0.27<br>omen: 0.20<br>jett: 0.18<br>astra: 0.13<br>chamber: 0.05<br>sova: 0.04<br>brimstone: 0.03<br>raze: 0.03<br>cypher: 0.03<br>breach: 0.02<br>killjoy: 0.01<br>reyna: 0.01<br>phoenix: 0.01<br>neon: 0.00<br>fade: 0.00<br>"
          ],
          [
           "<b>rglmeister</b><br>Team: MIBR<br>Rating: 1.07<br><br>viper: 0.25<br>omen: 0.25<br>astra: 0.21<br>brimstone: 0.13<br>harbor: 0.06<br>raze: 0.06<br>sage: 0.03<br>breach: 0.01<br>skye: 0.01<br>"
          ]
         ],
         "hovertemplate": "%{customdata}",
         "hovertext": [
          "mako",
          "atakaptan",
          "nivera",
          "jakee",
          "rglmeister"
         ],
         "legendgroup": "viper",
         "marker": {
          "color": "#FFA15A",
          "opacity": 0.8,
          "size": 12,
          "symbol": "circle"
         },
         "mode": "markers+text",
         "name": "viper",
         "orientation": "v",
         "showlegend": true,
         "text": [
          "mako",
          "atakaptan",
          "nivera",
          "jakee",
          "rglmeister"
         ],
         "textposition": "top center",
         "type": "scatter",
         "x": [
          11.695791244506836,
          11.116920471191406,
          7.456702709197998,
          10.955945014953613,
          11.206165313720703
         ],
         "xaxis": "x",
         "y": [
          2.2389886379241943,
          1.8332394361495972,
          1.4062821865081787,
          1.9284249544143677,
          1.6258000135421753
         ],
         "yaxis": "y"
        },
        {
         "customdata": [
          [
           "<b>invy</b><br>Team: TS<br>Rating: 1.17<br><br>breach: 0.23<br>sova: 0.23<br>kayo: 0.14<br>skye: 0.11<br>fade: 0.06<br>cypher: 0.05<br>jett: 0.04<br>killjoy: 0.04<br>astra: 0.03<br>viper: 0.02<br>omen: 0.01<br>raze: 0.01<br>reyna: 0.01<br>chamber: 0.01<br>brimstone: 0.01<br>sage: 0.01<br>"
          ],
          [
           "<b>boaster</b><br>Team: FNC<br>Rating: 0.99<br><br>breach: 0.20<br>astra: 0.19<br>sova: 0.16<br>brimstone: 0.14<br>omen: 0.11<br>viper: 0.08<br>jett: 0.04<br>kayo: 0.03<br>sage: 0.02<br>skye: 0.02<br>cypher: 0.01<br>fade: 0.01<br>reyna: 0.01<br>"
          ],
          [
           "<b>cender</b><br>Team: VIT<br>Rating: 1.11<br><br>breach: 0.27<br>cypher: 0.16<br>killjoy: 0.12<br>sage: 0.10<br>chamber: 0.10<br>viper: 0.09<br>astra: 0.08<br>omen: 0.07<br>jett: 0.01<br>brimstone: 0.01<br>"
          ],
          [
           "<b>stax</b><br>Team: DRX<br>Rating: 1.05<br><br>breach: 0.47<br>skye: 0.27<br>kayo: 0.10<br>sage: 0.06<br>fade: 0.04<br>phoenix: 0.02<br>brimstone: 0.01<br>omen: 0.01<br>harbor: 0.01<br>reyna: 0.00<br>"
          ],
          [
           "<b>destrian</b><br>Team: VIT<br>Rating: 1.08<br><br>breach: 0.23<br>sova: 0.23<br>astra: 0.13<br>omen: 0.11<br>fade: 0.09<br>sage: 0.08<br>brimstone: 0.08<br>viper: 0.02<br>harbor: 0.02<br>killjoy: 0.01<br>skye: 0.00<br>gekko: 0.00<br>"
          ],
          [
           "<b>crws</b><br>Team: TLN<br>Rating: 0.96<br><br>breach: 0.44<br>sage: 0.12<br>skye: 0.12<br>kayo: 0.10<br>viper: 0.06<br>omen: 0.05<br>astra: 0.03<br>brimstone: 0.03<br>reyna: 0.02<br>sova: 0.02<br>harbor: 0.01<br>raze: 0.01<br>jett: 0.01<br>cypher: 0.00<br>"
          ],
          [
           "<b>newzera</b><br>Team: KC<br>Rating: 1.04<br><br>breach: 0.27<br>skye: 0.18<br>jett: 0.14<br>sova: 0.12<br>sage: 0.10<br>omen: 0.05<br>kayo: 0.05<br>cypher: 0.03<br>phoenix: 0.02<br>killjoy: 0.01<br>viper: 0.01<br>raze: 0.01<br>reyna: 0.01<br>harbor: 0.01<br>"
          ]
         ],
         "hovertemplate": "%{customdata}",
         "hovertext": [
          "invy",
          "boaster",
          "cender",
          "stax",
          "destrian",
          "crws",
          "newzera"
         ],
         "legendgroup": "breach",
         "marker": {
          "color": "#19d3f3",
          "opacity": 0.8,
          "size": 12,
          "symbol": "circle"
         },
         "mode": "markers+text",
         "name": "breach",
         "orientation": "v",
         "showlegend": true,
         "text": [
          "invy",
          "boaster",
          "cender",
          "stax",
          "destrian",
          "crws",
          "newzera"
         ],
         "textposition": "top center",
         "type": "scatter",
         "x": [
          8.494911193847656,
          9.620622634887695,
          7.218076229095459,
          9.49049186706543,
          8.742799758911133,
          9.547531127929688,
          9.2819242477417
         ],
         "xaxis": "x",
         "y": [
          4.971505641937256,
          3.4448888301849365,
          1.8225544691085815,
          5.4771575927734375,
          3.945725440979004,
          4.800842761993408,
          5.615572452545166
         ],
         "yaxis": "y"
        },
        {
         "customdata": [
          [
           "<b>xffero</b><br>Team: RRQ<br>Rating: 1.08<br><br>astra: 0.18<br>viper: 0.14<br>breach: 0.13<br>raze: 0.13<br>omen: 0.09<br>sova: 0.08<br>kayo: 0.05<br>sage: 0.04<br>jett: 0.04<br>reyna: 0.04<br>fade: 0.02<br>brimstone: 0.02<br>phoenix: 0.02<br>skye: 0.02<br>yoru: 0.00<br>cypher: 0.00<br>"
          ],
          [
           "<b>sugarz3ro</b><br>Team: ZETA<br>Rating: 1.07<br><br>astra: 0.45<br>omen: 0.27<br>viper: 0.18<br>brimstone: 0.09<br>harbor: 0.01<br>jett: 0.01<br>"
          ],
          [
           "<b>2ge</b><br>Team: RRQ<br>Rating: 1.05<br><br>astra: 0.37<br>viper: 0.23<br>omen: 0.14<br>skye: 0.12<br>harbor: 0.03<br>brimstone: 0.02<br>fade: 0.02<br>sage: 0.02<br>breach: 0.02<br>kayo: 0.01<br>raze: 0.01<br>reyna: 0.01<br>phoenix: 0.01<br>"
          ],
          [
           "<b>borkum</b><br>Team: TS<br>Rating: 0.96<br><br>astra: 0.26<br>omen: 0.24<br>viper: 0.18<br>phoenix: 0.14<br>breach: 0.06<br>brimstone: 0.05<br>cypher: 0.03<br>reyna: 0.02<br>killjoy: 0.01<br>skye: 0.01<br>harbor: 0.00<br>"
          ],
          [
           "<b>mindfreak</b><br>Team: PRX<br>Rating: 1.05<br><br>astra: 0.35<br>omen: 0.27<br>viper: 0.19<br>brimstone: 0.11<br>cypher: 0.03<br>sage: 0.03<br>harbor: 0.01<br>reyna: 0.01<br>kayo: 0.00<br>raze: 0.00<br>"
          ],
          [
           "<b>pancada</b><br>Team: SEN<br>Rating: 1.02<br><br>astra: 0.27<br>omen: 0.24<br>sage: 0.19<br>brimstone: 0.07<br>raze: 0.07<br>viper: 0.06<br>killjoy: 0.06<br>reyna: 0.02<br>cypher: 0.01<br>chamber: 0.01<br>jett: 0.00<br>"
          ],
          [
           "<b>sh1n</b><br>Team: KC<br>Rating: 1.02<br><br>astra: 0.33<br>sova: 0.20<br>omen: 0.16<br>viper: 0.11<br>brimstone: 0.04<br>fade: 0.03<br>raze: 0.02<br>breach: 0.02<br>skye: 0.02<br>gekko: 0.02<br>sage: 0.01<br>kayo: 0.01<br>jett: 0.01<br>reyna: 0.00<br>cypher: 0.00<br>chamber: 0.00<br>neon: 0.00<br>"
          ],
          [
           "<b>dephh</b><br>Team: SEN<br>Rating: 0.94<br><br>astra: 0.28<br>cypher: 0.26<br>killjoy: 0.17<br>breach: 0.07<br>kayo: 0.07<br>omen: 0.05<br>sage: 0.04<br>harbor: 0.02<br>viper: 0.02<br>chamber: 0.02<br>brimstone: 0.01<br>phoenix: 0.00<br>skye: 0.00<br>"
          ]
         ],
         "hovertemplate": "%{customdata}",
         "hovertext": [
          "xffero",
          "sugarz3ro",
          "2ge",
          "borkum",
          "mindfreak",
          "pancada",
          "sh1n",
          "dephh"
         ],
         "legendgroup": "astra",
         "marker": {
          "color": "#FF6692",
          "opacity": 0.8,
          "size": 12,
          "symbol": "circle"
         },
         "mode": "markers+text",
         "name": "astra",
         "orientation": "v",
         "showlegend": true,
         "text": [
          "xffero",
          "sugarz3ro",
          "2ge",
          "borkum",
          "mindfreak",
          "pancada",
          "sh1n",
          "dephh"
         ],
         "textposition": "top center",
         "type": "scatter",
         "x": [
          10.893109321594238,
          10.467626571655273,
          10.831730842590332,
          10.348586082458496,
          10.7957124710083,
          10.800572395324707,
          10.072429656982422,
          6.0949554443359375
         ],
         "xaxis": "x",
         "y": [
          3.092289924621582,
          1.991600751876831,
          2.386627674102783,
          1.8192428350448608,
          2.104766845703125,
          1.265923023223877,
          2.571772813796997,
          0.32272571325302124
         ],
         "yaxis": "y"
        },
        {
         "customdata": [
          [
           "<b>ethan</b><br>Team: EG<br>Rating: 1.05<br><br>skye: 0.34<br>sage: 0.16<br>omen: 0.15<br>breach: 0.12<br>kayo: 0.09<br>chamber: 0.06<br>sova: 0.05<br>raze: 0.01<br>yoru: 0.00<br>fade: 0.00<br>"
          ],
          [
           "<b>emman</b><br>Team: RRQ<br>Rating: 1.02<br><br>skye: 0.33<br>raze: 0.21<br>sage: 0.12<br>kayo: 0.09<br>reyna: 0.07<br>omen: 0.04<br>phoenix: 0.04<br>killjoy: 0.04<br>astra: 0.03<br>breach: 0.02<br>"
          ],
          [
           "<b>starxo</b><br>Team: KOI<br>Rating: 1.03<br><br>skye: 0.30<br>sage: 0.18<br>omen: 0.15<br>raze: 0.06<br>jett: 0.06<br>brimstone: 0.05<br>breach: 0.04<br>astra: 0.04<br>reyna: 0.03<br>sova: 0.02<br>neon: 0.02<br>phoenix: 0.01<br>viper: 0.01<br>chamber: 0.01<br>kayo: 0.01<br>fade: 0.01<br>cypher: 0.00<br>"
          ],
          [
           "<b>carpe</b><br>Team: T1<br>Rating: 0.93<br><br>skye: 0.26<br>brimstone: 0.22<br>breach: 0.20<br>gekko: 0.12<br>kayo: 0.10<br>sova: 0.06<br>fade: 0.02<br>astra: 0.02<br>"
          ],
          [
           "<b>soulcas</b><br>Team: TL<br>Rating: 1.04<br><br>skye: 0.24<br>raze: 0.24<br>sova: 0.16<br>fade: 0.09<br>kayo: 0.07<br>reyna: 0.05<br>astra: 0.04<br>sage: 0.03<br>viper: 0.02<br>neon: 0.02<br>breach: 0.02<br>omen: 0.01<br>phoenix: 0.01<br>brimstone: 0.01<br>jett: 0.00<br>"
          ]
         ],
         "hovertemplate": "%{customdata}",
         "hovertext": [
          "ethan",
          "emman",
          "starxo",
          "carpe",
          "soulcas"
         ],
         "legendgroup": "skye",
         "marker": {
          "color": "#B6E880",
          "opacity": 0.8,
          "size": 12,
          "symbol": "circle"
         },
         "mode": "markers+text",
         "name": "skye",
         "orientation": "v",
         "showlegend": true,
         "text": [
          "ethan",
          "emman",
          "starxo",
          "carpe",
          "soulcas"
         ],
         "textposition": "top center",
         "type": "scatter",
         "x": [
          10.714061737060547,
          12.356742858886719,
          11.172334671020508,
          9.822072982788086,
          12.765389442443848
         ],
         "xaxis": "x",
         "y": [
          5.858558177947998,
          5.568601608276367,
          5.542083263397217,
          5.5260491371154785,
          5.423518657684326
         ],
         "yaxis": "y"
        },
        {
         "customdata": [
          [
           "<b>nats</b><br>Team: TL<br>Rating: 1.13<br><br>cypher: 0.60<br>viper: 0.24<br>killjoy: 0.07<br>astra: 0.04<br>chamber: 0.02<br>kayo: 0.01<br>omen: 0.01<br>sage: 0.01<br>fade: 0.00<br>"
          ],
          [
           "<b>suygetsu</b><br>Team: NAVI<br>Rating: 1.11<br><br>cypher: 0.49<br>killjoy: 0.20<br>viper: 0.17<br>sage: 0.06<br>skye: 0.05<br>jett: 0.02<br>chamber: 0.01<br>"
          ],
          [
           "<b>laz</b><br>Team: ZETA<br>Rating: 1.09<br><br>cypher: 0.28<br>chamber: 0.17<br>killjoy: 0.10<br>sova: 0.10<br>phoenix: 0.09<br>viper: 0.09<br>skye: 0.08<br>breach: 0.03<br>fade: 0.02<br>yoru: 0.02<br>kayo: 0.01<br>jett: 0.01<br>sage: 0.01<br>omen: 0.00<br>"
          ],
          [
           "<b>lmemore</b><br>Team: RRQ<br>Rating: 1.04<br><br>cypher: 0.21<br>viper: 0.19<br>killjoy: 0.18<br>sova: 0.17<br>chamber: 0.12<br>reyna: 0.07<br>omen: 0.03<br>skye: 0.02<br>brimstone: 0.02<br>sage: 0.00<br>"
          ],
          [
           "<b>saadhak</b><br>Team: LOUD<br>Rating: 1.07<br><br>cypher: 0.27<br>kayo: 0.20<br>killjoy: 0.17<br>viper: 0.08<br>raze: 0.05<br>skye: 0.05<br>breach: 0.05<br>sage: 0.04<br>astra: 0.03<br>chamber: 0.02<br>brimstone: 0.01<br>omen: 0.01<br>gekko: 0.01<br>fade: 0.00<br>"
          ],
          [
           "<b>finesse</b><br>Team: NRG<br>Rating: 0.87<br><br>cypher: 0.39<br>killjoy: 0.22<br>viper: 0.19<br>breach: 0.10<br>fade: 0.03<br>sage: 0.02<br>kayo: 0.02<br>phoenix: 0.01<br>skye: 0.01<br>omen: 0.01<br>brimstone: 0.00<br>"
          ],
          [
           "<b>weber</b><br>Team: TH<br>Rating: 0.31<br><br>cypher: 0.40<br>breach: 0.27<br>omen: 0.21<br>killjoy: 0.05<br>skye: 0.04<br>sova: 0.01<br>kayo: 0.01<br>"
          ]
         ],
         "hovertemplate": "%{customdata}",
         "hovertext": [
          "nats",
          "suygetsu",
          "laz",
          "lmemore",
          "saadhak",
          "finesse",
          "weber"
         ],
         "legendgroup": "cypher",
         "marker": {
          "color": "#FF97FF",
          "opacity": 0.8,
          "size": 12,
          "symbol": "circle"
         },
         "mode": "markers+text",
         "name": "cypher",
         "orientation": "v",
         "showlegend": true,
         "text": [
          "nats",
          "suygetsu",
          "laz",
          "lmemore",
          "saadhak",
          "finesse",
          "weber"
         ],
         "textposition": "top center",
         "type": "scatter",
         "x": [
          5.920529842376709,
          5.630248546600342,
          5.676360130310059,
          6.501731872558594,
          5.9274091720581055,
          6.505776882171631,
          6.1911845207214355
         ],
         "xaxis": "x",
         "y": [
          0.8671123385429382,
          0.3993379771709442,
          1.2182960510253906,
          1.4573591947555542,
          0.5723950266838074,
          0.749424159526825,
          1.2366448640823364
         ],
         "yaxis": "y"
        },
        {
         "customdata": [
          [
           "<b>demon1</b><br>Team: EG<br>Rating: 1.16<br><br>chamber: 0.60<br>jett: 0.26<br>brimstone: 0.05<br>neon: 0.04<br>cypher: 0.03<br>killjoy: 0.02<br>astra: 0.00<br>"
          ]
         ],
         "hovertemplate": "%{customdata}",
         "hovertext": [
          "demon1"
         ],
         "legendgroup": "chamber",
         "marker": {
          "color": "#FECB52",
          "opacity": 0.8,
          "size": 12,
          "symbol": "circle"
         },
         "mode": "markers+text",
         "name": "chamber",
         "orientation": "v",
         "showlegend": true,
         "text": [
          "demon1"
         ],
         "textposition": "top center",
         "type": "scatter",
         "x": [
          16.853696823120117
         ],
         "xaxis": "x",
         "y": [
          11.525367736816406
         ],
         "yaxis": "y"
        },
        {
         "customdata": [
          [
           "<b>victor</b><br>Team: NRG<br>Rating: 0.95<br><br>phoenix: 0.24<br>raze: 0.21<br>kayo: 0.11<br>neon: 0.10<br>skye: 0.08<br>omen: 0.06<br>killjoy: 0.05<br>sage: 0.03<br>brimstone: 0.03<br>jett: 0.03<br>breach: 0.02<br>reyna: 0.02<br>viper: 0.01<br>yoru: 0.00<br>sova: 0.00<br>chamber: 0.00<br>"
          ]
         ],
         "hovertemplate": "%{customdata}",
         "hovertext": [
          "victor"
         ],
         "legendgroup": "phoenix",
         "marker": {
          "color": "#636efa",
          "opacity": 0.8,
          "size": 12,
          "symbol": "circle"
         },
         "mode": "markers+text",
         "name": "phoenix",
         "orientation": "v",
         "showlegend": true,
         "text": [
          "victor"
         ],
         "textposition": "top center",
         "type": "scatter",
         "x": [
          13.788451194763184
         ],
         "xaxis": "x",
         "y": [
          5.520888328552246
         ],
         "yaxis": "y"
        },
        {
         "customdata": [
          [
           "<b>hoody</b><br>Team: GIA<br>Rating: 1.11<br><br>sage: 0.32<br>jett: 0.18<br>skye: 0.13<br>viper: 0.09<br>raze: 0.07<br>breach: 0.06<br>kayo: 0.03<br>killjoy: 0.03<br>reyna: 0.03<br>phoenix: 0.02<br>sova: 0.02<br>brimstone: 0.01<br>omen: 0.01<br>neon: 0.00<br>"
          ],
          [
           "<b>sheydos</b><br>Team: KOI<br>Rating: 1.18<br><br>sage: 0.40<br>raze: 0.16<br>skye: 0.14<br>breach: 0.06<br>killjoy: 0.05<br>kayo: 0.05<br>phoenix: 0.04<br>reyna: 0.04<br>sova: 0.03<br>viper: 0.02<br>fade: 0.01<br>brimstone: 0.00<br>cypher: 0.00<br>omen: 0.00<br>"
          ],
          [
           "<b>qraxs</b><br>Team: FUT<br>Rating: 1.01<br><br>sage: 0.36<br>kayo: 0.24<br>skye: 0.11<br>raze: 0.10<br>fade: 0.10<br>gekko: 0.02<br>phoenix: 0.02<br>reyna: 0.02<br>jett: 0.01<br>viper: 0.01<br>sova: 0.00<br>"
          ],
          [
           "<b>mazino</b><br>Team: LEV<br>Rating: 1.09<br><br>sage: 0.24<br>viper: 0.11<br>phoenix: 0.10<br>omen: 0.10<br>sova: 0.08<br>skye: 0.08<br>kayo: 0.07<br>fade: 0.06<br>harbor: 0.05<br>astra: 0.05<br>brimstone: 0.02<br>raze: 0.01<br>killjoy: 0.01<br>jett: 0.01<br>cypher: 0.01<br>breach: 0.00<br>reyna: 0.00<br>"
          ],
          [
           "<b>turko</b><br>Team: BBL<br>Rating: 0.80<br><br>sage: 0.42<br>killjoy: 0.20<br>brimstone: 0.10<br>breach: 0.07<br>sova: 0.05<br>kayo: 0.05<br>skye: 0.05<br>omen: 0.03<br>fade: 0.01<br>phoenix: 0.01<br>cypher: 0.01<br>reyna: 0.01<br>viper: 0.00<br>"
          ],
          [
           "<b>stellar</b><br>Team: 100T<br>Rating: 1.08<br><br>sage: 0.21<br>omen: 0.21<br>killjoy: 0.20<br>viper: 0.11<br>cypher: 0.08<br>chamber: 0.05<br>breach: 0.05<br>astra: 0.04<br>kayo: 0.02<br>skye: 0.01<br>sova: 0.01<br>phoenix: 0.01<br>harbor: 0.01<br>reyna: 0.00<br>brimstone: 0.00<br>raze: 0.00<br>jett: 0.00<br>"
          ],
          [
           "<b>ze1sh</b><br>Team: KC<br>Rating: 0.40<br><br>sage: 0.25<br>sova: 0.17<br>breach: 0.17<br>kayo: 0.11<br>viper: 0.11<br>killjoy: 0.08<br>skye: 0.08<br>raze: 0.03<br>"
          ]
         ],
         "hovertemplate": "%{customdata}",
         "hovertext": [
          "hoody",
          "sheydos",
          "qraxs",
          "mazino",
          "turko",
          "stellar",
          "ze1sh"
         ],
         "legendgroup": "sage",
         "marker": {
          "color": "#EF553B",
          "opacity": 0.8,
          "size": 12,
          "symbol": "circle"
         },
         "mode": "markers+text",
         "name": "sage",
         "orientation": "v",
         "showlegend": true,
         "text": [
          "hoody",
          "sheydos",
          "qraxs",
          "mazino",
          "turko",
          "stellar",
          "ze1sh"
         ],
         "textposition": "top center",
         "type": "scatter",
         "x": [
          11.4675931930542,
          11.549152374267578,
          11.498224258422852,
          10.591391563415527,
          10.994965553283691,
          9.039560317993164,
          10.284727096557617
         ],
         "xaxis": "x",
         "y": [
          5.883967399597168,
          4.940532207489014,
          5.139299392700195,
          5.080344200134277,
          4.674036979675293,
          0.4877788722515106,
          5.060213088989258
         ],
         "yaxis": "y"
        },
        {
         "customdata": [
          [
           "<b>zellsis</b><br>Team: C9<br>Rating: 1.11<br><br>kayo: 0.19<br>raze: 0.17<br>phoenix: 0.15<br>killjoy: 0.14<br>reyna: 0.10<br>sage: 0.09<br>breach: 0.06<br>neon: 0.02<br>viper: 0.02<br>harbor: 0.01<br>chamber: 0.01<br>cypher: 0.01<br>skye: 0.01<br>sova: 0.00<br>jett: 0.00<br>"
          ],
          [
           "<b>xeppaa</b><br>Team: C9<br>Rating: 1.10<br><br>kayo: 0.29<br>raze: 0.22<br>skye: 0.22<br>fade: 0.10<br>reyna: 0.04<br>jett: 0.04<br>viper: 0.02<br>sova: 0.02<br>killjoy: 0.02<br>sage: 0.02<br>brimstone: 0.01<br>phoenix: 0.00<br>chamber: 0.00<br>"
          ]
         ],
         "hovertemplate": "%{customdata}",
         "hovertext": [
          "zellsis",
          "xeppaa"
         ],
         "legendgroup": "kayo",
         "marker": {
          "color": "#00cc96",
          "opacity": 0.8,
          "size": 12,
          "symbol": "circle"
         },
         "mode": "markers+text",
         "name": "kayo",
         "orientation": "v",
         "showlegend": true,
         "text": [
          "zellsis",
          "xeppaa"
         ],
         "textposition": "top center",
         "type": "scatter",
         "x": [
          13.527449607849121,
          12.958285331726074
         ],
         "xaxis": "x",
         "y": [
          5.192321300506592,
          5.224989414215088
         ],
         "yaxis": "y"
        },
        {
         "customdata": [
          [
           "<b>khalil</b><br>Team: FUR<br>Rating: 1.03<br><br>omen: 0.37<br>killjoy: 0.18<br>cypher: 0.18<br>brimstone: 0.08<br>astra: 0.08<br>viper: 0.06<br>chamber: 0.03<br>sova: 0.01<br>reyna: 0.01<br>"
          ],
          [
           "<b>sylvan</b><br>Team: GEN<br>Rating: 1.02<br><br>omen: 0.35<br>astra: 0.24<br>jett: 0.14<br>viper: 0.07<br>brimstone: 0.07<br>sova: 0.03<br>fade: 0.02<br>sage: 0.02<br>skye: 0.02<br>reyna: 0.01<br>"
          ],
          [
           "<b>intro</b><br>Team: T1<br>Rating: 1.04<br><br>omen: 0.25<br>viper: 0.13<br>phoenix: 0.10<br>breach: 0.10<br>killjoy: 0.09<br>skye: 0.08<br>sova: 0.07<br>kayo: 0.04<br>cypher: 0.04<br>brimstone: 0.02<br>chamber: 0.02<br>jett: 0.02<br>reyna: 0.02<br>harbor: 0.01<br>raze: 0.01<br>astra: 0.01<br>sage: 0.01<br>"
          ],
          [
           "<b>melser</b><br>Team: KRÜ<br>Rating: 1.03<br><br>omen: 0.36<br>astra: 0.30<br>sage: 0.09<br>brimstone: 0.08<br>viper: 0.05<br>raze: 0.03<br>sova: 0.03<br>reyna: 0.03<br>skye: 0.02<br>harbor: 0.01<br>jett: 0.01<br>"
          ],
          [
           "<b>bang</b><br>Team: 100T<br>Rating: 1.09<br><br>omen: 0.28<br>skye: 0.17<br>astra: 0.11<br>raze: 0.10<br>brimstone: 0.09<br>viper: 0.08<br>kayo: 0.05<br>phoenix: 0.04<br>reyna: 0.04<br>sage: 0.02<br>breach: 0.02<br>jett: 0.00<br>"
          ],
          [
           "<b>brave</b><br>Team: BBL<br>Rating: 1.03<br><br>omen: 0.25<br>raze: 0.15<br>astra: 0.14<br>sage: 0.14<br>viper: 0.12<br>kayo: 0.05<br>skye: 0.05<br>breach: 0.04<br>brimstone: 0.04<br>cypher: 0.01<br>jett: 0.01<br>reyna: 0.00<br>killjoy: 0.00<br>"
          ],
          [
           "<b>marved</b><br>Team: SEN<br>Rating: 1.05<br><br>omen: 0.41<br>astra: 0.18<br>brimstone: 0.18<br>viper: 0.08<br>killjoy: 0.04<br>sage: 0.03<br>kayo: 0.02<br>phoenix: 0.01<br>skye: 0.01<br>fade: 0.01<br>reyna: 0.01<br>cypher: 0.01<br>chamber: 0.00<br>raze: 0.00<br>breach: 0.00<br>jett: 0.00<br>sova: 0.00<br>"
          ],
          [
           "<b>avova</b><br>Team: TH<br>Rating: 1.04<br><br>omen: 0.41<br>astra: 0.30<br>viper: 0.10<br>brimstone: 0.09<br>sage: 0.05<br>raze: 0.03<br>killjoy: 0.01<br>kayo: 0.01<br>phoenix: 0.01<br>cypher: 0.00<br>"
          ],
          [
           "<b>aslanm4shadow</b><br>Team: BBL<br>Rating: 1.00<br><br>omen: 0.29<br>sage: 0.16<br>astra: 0.10<br>jett: 0.08<br>reyna: 0.08<br>killjoy: 0.07<br>raze: 0.06<br>phoenix: 0.05<br>sova: 0.03<br>kayo: 0.03<br>chamber: 0.02<br>brimstone: 0.02<br>neon: 0.00<br>"
          ],
          [
           "<b>redgar</b><br>Team: TL<br>Rating: 0.95<br><br>omen: 0.33<br>sova: 0.33<br>astra: 0.11<br>breach: 0.07<br>viper: 0.05<br>skye: 0.04<br>kayo: 0.02<br>sage: 0.02<br>brimstone: 0.01<br>reyna: 0.01<br>fade: 0.01<br>harbor: 0.00<br>jett: 0.00<br>"
          ],
          [
           "<b>ange1</b><br>Team: NAVI<br>Rating: 0.94<br><br>omen: 0.39<br>brimstone: 0.23<br>viper: 0.12<br>sova: 0.04<br>cypher: 0.03<br>astra: 0.03<br>kayo: 0.03<br>breach: 0.03<br>fade: 0.02<br>phoenix: 0.02<br>yoru: 0.02<br>jett: 0.01<br>reyna: 0.01<br>gekko: 0.01<br>killjoy: 0.01<br>sage: 0.01<br>skye: 0.00<br>harbor: 0.00<br>raze: 0.00<br>"
          ],
          [
           "<b>bonecold</b><br>Team: VIT<br>Rating: 0.99<br><br>omen: 0.32<br>sova: 0.17<br>brimstone: 0.16<br>viper: 0.10<br>astra: 0.08<br>breach: 0.05<br>fade: 0.04<br>sage: 0.03<br>kayo: 0.02<br>skye: 0.02<br>raze: 0.01<br>killjoy: 0.01<br>"
          ],
          [
           "<b>xms</b><br>Team: KC<br>Rating: 1.08<br><br>omen: 0.28<br>chamber: 0.18<br>astra: 0.15<br>brimstone: 0.09<br>killjoy: 0.08<br>sage: 0.08<br>reyna: 0.06<br>harbor: 0.03<br>cypher: 0.02<br>kayo: 0.01<br>phoenix: 0.01<br>jett: 0.01<br>viper: 0.01<br>"
          ],
          [
           "<b>boo</b><br>Team: TH<br>Rating: 1.08<br><br>omen: 0.42<br>astra: 0.20<br>viper: 0.09<br>sage: 0.07<br>brimstone: 0.06<br>fade: 0.04<br>killjoy: 0.04<br>breach: 0.03<br>cypher: 0.02<br>sova: 0.01<br>skye: 0.01<br>kayo: 0.01<br>harbor: 0.00<br>raze: 0.00<br>"
          ],
          [
           "<b>txozin</b><br>Team: MIBR<br>Rating: 0.84<br><br>omen: 0.73<br>astra: 0.11<br>killjoy: 0.07<br>brimstone: 0.05<br>viper: 0.03<br>chamber: 0.01<br>"
          ]
         ],
         "hovertemplate": "%{customdata}",
         "hovertext": [
          "khalil",
          "sylvan",
          "intro",
          "melser",
          "bang",
          "brave",
          "marved",
          "avova",
          "aslanm4shadow",
          "redgar",
          "ange1",
          "bonecold",
          "xms",
          "boo",
          "txozin"
         ],
         "legendgroup": "omen",
         "marker": {
          "color": "#ab63fa",
          "opacity": 0.8,
          "size": 12,
          "symbol": "circle"
         },
         "mode": "markers+text",
         "name": "omen",
         "orientation": "v",
         "showlegend": true,
         "text": [
          "khalil",
          "sylvan",
          "intro",
          "melser",
          "bang",
          "brave",
          "marved",
          "avova",
          "aslanm4shadow",
          "redgar",
          "ange1",
          "bonecold",
          "xms",
          "boo",
          "txozin"
         ],
         "textposition": "top center",
         "type": "scatter",
         "x": [
          9.700082778930664,
          10.690693855285645,
          9.806634902954102,
          10.404927253723145,
          11.420281410217285,
          11.539313316345215,
          10.831092834472656,
          11.134066581726074,
          10.341673851013184,
          8.495681762695312,
          10.096769332885742,
          9.814746856689453,
          10.582060813903809,
          10.971426010131836,
          10.279394149780273
         ],
         "xaxis": "x",
         "y": [
          0.14202015101909637,
          1.0473167896270752,
          0.7704426050186157,
          0.8212590217590332,
          0.5916849970817566,
          1.3406041860580444,
          0.4063441753387451,
          0.8230302929878235,
          0.1140953078866005,
          3.119896650314331,
          0.629155158996582,
          1.4912264347076416,
          -0.12625840306282043,
          0.200344055891037,
          -0.19411128759384155
         ],
         "yaxis": "y"
        },
        {
         "customdata": [
          [
           "<b>takej</b><br>Team: DFM<br>Rating: 1.02<br><br>reyna: 0.35<br>sage: 0.11<br>phoenix: 0.11<br>skye: 0.09<br>viper: 0.08<br>brimstone: 0.07<br>astra: 0.05<br>omen: 0.04<br>jett: 0.04<br>breach: 0.02<br>raze: 0.02<br>killjoy: 0.01<br>chamber: 0.01<br>yoru: 0.00<br>harbor: 0.00<br>"
          ]
         ],
         "hovertemplate": "%{customdata}",
         "hovertext": [
          "takej"
         ],
         "legendgroup": "reyna",
         "marker": {
          "color": "#FFA15A",
          "opacity": 0.8,
          "size": 12,
          "symbol": "circle"
         },
         "mode": "markers+text",
         "name": "reyna",
         "orientation": "v",
         "showlegend": true,
         "text": [
          "takej"
         ],
         "textposition": "top center",
         "type": "scatter",
         "x": [
          13.982735633850098
         ],
         "xaxis": "x",
         "y": [
          7.414836406707764
         ],
         "yaxis": "y"
        },
        {
         "customdata": [
          [
           "<b>cgrs</b><br>Team: PRX<br>Rating: 0.95<br><br>gekko: 0.24<br>chamber: 0.21<br>jett: 0.13<br>fade: 0.13<br>skye: 0.08<br>breach: 0.05<br>raze: 0.05<br>killjoy: 0.05<br>sage: 0.03<br>kayo: 0.03<br>"
          ]
         ],
         "hovertemplate": "%{customdata}",
         "hovertext": [
          "cgrs"
         ],
         "legendgroup": "gekko",
         "marker": {
          "color": "#19d3f3",
          "opacity": 0.8,
          "size": 12,
          "symbol": "circle"
         },
         "mode": "markers+text",
         "name": "gekko",
         "orientation": "v",
         "showlegend": true,
         "text": [
          "cgrs"
         ],
         "textposition": "top center",
         "type": "scatter",
         "x": [
          15.999567985534668
         ],
         "xaxis": "x",
         "y": [
          10.961020469665527
         ],
         "yaxis": "y"
        }
       ],
       "layout": {
        "coloraxis": {
         "colorbar": {
          "title": {
           "text": "Rating"
          },
          "x": 1.1
         }
        },
        "height": 700,
        "legend": {
         "title": {
          "text": "favorite_agent"
         },
         "tracegroupgap": 0
        },
        "margin": {
         "b": 10,
         "l": 10,
         "r": 10,
         "t": 30
        },
        "template": {
         "data": {
          "bar": [
           {
            "error_x": {
             "color": "#2a3f5f"
            },
            "error_y": {
             "color": "#2a3f5f"
            },
            "marker": {
             "line": {
              "color": "#E5ECF6",
              "width": 0.5
             },
             "pattern": {
              "fillmode": "overlay",
              "size": 10,
              "solidity": 0.2
             }
            },
            "type": "bar"
           }
          ],
          "barpolar": [
           {
            "marker": {
             "line": {
              "color": "#E5ECF6",
              "width": 0.5
             },
             "pattern": {
              "fillmode": "overlay",
              "size": 10,
              "solidity": 0.2
             }
            },
            "type": "barpolar"
           }
          ],
          "carpet": [
           {
            "aaxis": {
             "endlinecolor": "#2a3f5f",
             "gridcolor": "white",
             "linecolor": "white",
             "minorgridcolor": "white",
             "startlinecolor": "#2a3f5f"
            },
            "baxis": {
             "endlinecolor": "#2a3f5f",
             "gridcolor": "white",
             "linecolor": "white",
             "minorgridcolor": "white",
             "startlinecolor": "#2a3f5f"
            },
            "type": "carpet"
           }
          ],
          "choropleth": [
           {
            "colorbar": {
             "outlinewidth": 0,
             "ticks": ""
            },
            "type": "choropleth"
           }
          ],
          "contour": [
           {
            "colorbar": {
             "outlinewidth": 0,
             "ticks": ""
            },
            "colorscale": [
             [
              0,
              "#0d0887"
             ],
             [
              0.1111111111111111,
              "#46039f"
             ],
             [
              0.2222222222222222,
              "#7201a8"
             ],
             [
              0.3333333333333333,
              "#9c179e"
             ],
             [
              0.4444444444444444,
              "#bd3786"
             ],
             [
              0.5555555555555556,
              "#d8576b"
             ],
             [
              0.6666666666666666,
              "#ed7953"
             ],
             [
              0.7777777777777778,
              "#fb9f3a"
             ],
             [
              0.8888888888888888,
              "#fdca26"
             ],
             [
              1,
              "#f0f921"
             ]
            ],
            "type": "contour"
           }
          ],
          "contourcarpet": [
           {
            "colorbar": {
             "outlinewidth": 0,
             "ticks": ""
            },
            "type": "contourcarpet"
           }
          ],
          "heatmap": [
           {
            "colorbar": {
             "outlinewidth": 0,
             "ticks": ""
            },
            "colorscale": [
             [
              0,
              "#0d0887"
             ],
             [
              0.1111111111111111,
              "#46039f"
             ],
             [
              0.2222222222222222,
              "#7201a8"
             ],
             [
              0.3333333333333333,
              "#9c179e"
             ],
             [
              0.4444444444444444,
              "#bd3786"
             ],
             [
              0.5555555555555556,
              "#d8576b"
             ],
             [
              0.6666666666666666,
              "#ed7953"
             ],
             [
              0.7777777777777778,
              "#fb9f3a"
             ],
             [
              0.8888888888888888,
              "#fdca26"
             ],
             [
              1,
              "#f0f921"
             ]
            ],
            "type": "heatmap"
           }
          ],
          "heatmapgl": [
           {
            "colorbar": {
             "outlinewidth": 0,
             "ticks": ""
            },
            "colorscale": [
             [
              0,
              "#0d0887"
             ],
             [
              0.1111111111111111,
              "#46039f"
             ],
             [
              0.2222222222222222,
              "#7201a8"
             ],
             [
              0.3333333333333333,
              "#9c179e"
             ],
             [
              0.4444444444444444,
              "#bd3786"
             ],
             [
              0.5555555555555556,
              "#d8576b"
             ],
             [
              0.6666666666666666,
              "#ed7953"
             ],
             [
              0.7777777777777778,
              "#fb9f3a"
             ],
             [
              0.8888888888888888,
              "#fdca26"
             ],
             [
              1,
              "#f0f921"
             ]
            ],
            "type": "heatmapgl"
           }
          ],
          "histogram": [
           {
            "marker": {
             "pattern": {
              "fillmode": "overlay",
              "size": 10,
              "solidity": 0.2
             }
            },
            "type": "histogram"
           }
          ],
          "histogram2d": [
           {
            "colorbar": {
             "outlinewidth": 0,
             "ticks": ""
            },
            "colorscale": [
             [
              0,
              "#0d0887"
             ],
             [
              0.1111111111111111,
              "#46039f"
             ],
             [
              0.2222222222222222,
              "#7201a8"
             ],
             [
              0.3333333333333333,
              "#9c179e"
             ],
             [
              0.4444444444444444,
              "#bd3786"
             ],
             [
              0.5555555555555556,
              "#d8576b"
             ],
             [
              0.6666666666666666,
              "#ed7953"
             ],
             [
              0.7777777777777778,
              "#fb9f3a"
             ],
             [
              0.8888888888888888,
              "#fdca26"
             ],
             [
              1,
              "#f0f921"
             ]
            ],
            "type": "histogram2d"
           }
          ],
          "histogram2dcontour": [
           {
            "colorbar": {
             "outlinewidth": 0,
             "ticks": ""
            },
            "colorscale": [
             [
              0,
              "#0d0887"
             ],
             [
              0.1111111111111111,
              "#46039f"
             ],
             [
              0.2222222222222222,
              "#7201a8"
             ],
             [
              0.3333333333333333,
              "#9c179e"
             ],
             [
              0.4444444444444444,
              "#bd3786"
             ],
             [
              0.5555555555555556,
              "#d8576b"
             ],
             [
              0.6666666666666666,
              "#ed7953"
             ],
             [
              0.7777777777777778,
              "#fb9f3a"
             ],
             [
              0.8888888888888888,
              "#fdca26"
             ],
             [
              1,
              "#f0f921"
             ]
            ],
            "type": "histogram2dcontour"
           }
          ],
          "mesh3d": [
           {
            "colorbar": {
             "outlinewidth": 0,
             "ticks": ""
            },
            "type": "mesh3d"
           }
          ],
          "parcoords": [
           {
            "line": {
             "colorbar": {
              "outlinewidth": 0,
              "ticks": ""
             }
            },
            "type": "parcoords"
           }
          ],
          "pie": [
           {
            "automargin": true,
            "type": "pie"
           }
          ],
          "scatter": [
           {
            "fillpattern": {
             "fillmode": "overlay",
             "size": 10,
             "solidity": 0.2
            },
            "type": "scatter"
           }
          ],
          "scatter3d": [
           {
            "line": {
             "colorbar": {
              "outlinewidth": 0,
              "ticks": ""
             }
            },
            "marker": {
             "colorbar": {
              "outlinewidth": 0,
              "ticks": ""
             }
            },
            "type": "scatter3d"
           }
          ],
          "scattercarpet": [
           {
            "marker": {
             "colorbar": {
              "outlinewidth": 0,
              "ticks": ""
             }
            },
            "type": "scattercarpet"
           }
          ],
          "scattergeo": [
           {
            "marker": {
             "colorbar": {
              "outlinewidth": 0,
              "ticks": ""
             }
            },
            "type": "scattergeo"
           }
          ],
          "scattergl": [
           {
            "marker": {
             "colorbar": {
              "outlinewidth": 0,
              "ticks": ""
             }
            },
            "type": "scattergl"
           }
          ],
          "scattermapbox": [
           {
            "marker": {
             "colorbar": {
              "outlinewidth": 0,
              "ticks": ""
             }
            },
            "type": "scattermapbox"
           }
          ],
          "scatterpolar": [
           {
            "marker": {
             "colorbar": {
              "outlinewidth": 0,
              "ticks": ""
             }
            },
            "type": "scatterpolar"
           }
          ],
          "scatterpolargl": [
           {
            "marker": {
             "colorbar": {
              "outlinewidth": 0,
              "ticks": ""
             }
            },
            "type": "scatterpolargl"
           }
          ],
          "scatterternary": [
           {
            "marker": {
             "colorbar": {
              "outlinewidth": 0,
              "ticks": ""
             }
            },
            "type": "scatterternary"
           }
          ],
          "surface": [
           {
            "colorbar": {
             "outlinewidth": 0,
             "ticks": ""
            },
            "colorscale": [
             [
              0,
              "#0d0887"
             ],
             [
              0.1111111111111111,
              "#46039f"
             ],
             [
              0.2222222222222222,
              "#7201a8"
             ],
             [
              0.3333333333333333,
              "#9c179e"
             ],
             [
              0.4444444444444444,
              "#bd3786"
             ],
             [
              0.5555555555555556,
              "#d8576b"
             ],
             [
              0.6666666666666666,
              "#ed7953"
             ],
             [
              0.7777777777777778,
              "#fb9f3a"
             ],
             [
              0.8888888888888888,
              "#fdca26"
             ],
             [
              1,
              "#f0f921"
             ]
            ],
            "type": "surface"
           }
          ],
          "table": [
           {
            "cells": {
             "fill": {
              "color": "#EBF0F8"
             },
             "line": {
              "color": "white"
             }
            },
            "header": {
             "fill": {
              "color": "#C8D4E3"
             },
             "line": {
              "color": "white"
             }
            },
            "type": "table"
           }
          ]
         },
         "layout": {
          "annotationdefaults": {
           "arrowcolor": "#2a3f5f",
           "arrowhead": 0,
           "arrowwidth": 1
          },
          "autotypenumbers": "strict",
          "coloraxis": {
           "colorbar": {
            "outlinewidth": 0,
            "ticks": ""
           }
          },
          "colorscale": {
           "diverging": [
            [
             0,
             "#8e0152"
            ],
            [
             0.1,
             "#c51b7d"
            ],
            [
             0.2,
             "#de77ae"
            ],
            [
             0.3,
             "#f1b6da"
            ],
            [
             0.4,
             "#fde0ef"
            ],
            [
             0.5,
             "#f7f7f7"
            ],
            [
             0.6,
             "#e6f5d0"
            ],
            [
             0.7,
             "#b8e186"
            ],
            [
             0.8,
             "#7fbc41"
            ],
            [
             0.9,
             "#4d9221"
            ],
            [
             1,
             "#276419"
            ]
           ],
           "sequential": [
            [
             0,
             "#0d0887"
            ],
            [
             0.1111111111111111,
             "#46039f"
            ],
            [
             0.2222222222222222,
             "#7201a8"
            ],
            [
             0.3333333333333333,
             "#9c179e"
            ],
            [
             0.4444444444444444,
             "#bd3786"
            ],
            [
             0.5555555555555556,
             "#d8576b"
            ],
            [
             0.6666666666666666,
             "#ed7953"
            ],
            [
             0.7777777777777778,
             "#fb9f3a"
            ],
            [
             0.8888888888888888,
             "#fdca26"
            ],
            [
             1,
             "#f0f921"
            ]
           ],
           "sequentialminus": [
            [
             0,
             "#0d0887"
            ],
            [
             0.1111111111111111,
             "#46039f"
            ],
            [
             0.2222222222222222,
             "#7201a8"
            ],
            [
             0.3333333333333333,
             "#9c179e"
            ],
            [
             0.4444444444444444,
             "#bd3786"
            ],
            [
             0.5555555555555556,
             "#d8576b"
            ],
            [
             0.6666666666666666,
             "#ed7953"
            ],
            [
             0.7777777777777778,
             "#fb9f3a"
            ],
            [
             0.8888888888888888,
             "#fdca26"
            ],
            [
             1,
             "#f0f921"
            ]
           ]
          },
          "colorway": [
           "#636efa",
           "#EF553B",
           "#00cc96",
           "#ab63fa",
           "#FFA15A",
           "#19d3f3",
           "#FF6692",
           "#B6E880",
           "#FF97FF",
           "#FECB52"
          ],
          "font": {
           "color": "#2a3f5f"
          },
          "geo": {
           "bgcolor": "white",
           "lakecolor": "white",
           "landcolor": "#E5ECF6",
           "showlakes": true,
           "showland": true,
           "subunitcolor": "white"
          },
          "hoverlabel": {
           "align": "left"
          },
          "hovermode": "closest",
          "mapbox": {
           "style": "light"
          },
          "paper_bgcolor": "white",
          "plot_bgcolor": "#E5ECF6",
          "polar": {
           "angularaxis": {
            "gridcolor": "white",
            "linecolor": "white",
            "ticks": ""
           },
           "bgcolor": "#E5ECF6",
           "radialaxis": {
            "gridcolor": "white",
            "linecolor": "white",
            "ticks": ""
           }
          },
          "scene": {
           "xaxis": {
            "backgroundcolor": "#E5ECF6",
            "gridcolor": "white",
            "gridwidth": 2,
            "linecolor": "white",
            "showbackground": true,
            "ticks": "",
            "zerolinecolor": "white"
           },
           "yaxis": {
            "backgroundcolor": "#E5ECF6",
            "gridcolor": "white",
            "gridwidth": 2,
            "linecolor": "white",
            "showbackground": true,
            "ticks": "",
            "zerolinecolor": "white"
           },
           "zaxis": {
            "backgroundcolor": "#E5ECF6",
            "gridcolor": "white",
            "gridwidth": 2,
            "linecolor": "white",
            "showbackground": true,
            "ticks": "",
            "zerolinecolor": "white"
           }
          },
          "shapedefaults": {
           "line": {
            "color": "#2a3f5f"
           }
          },
          "ternary": {
           "aaxis": {
            "gridcolor": "white",
            "linecolor": "white",
            "ticks": ""
           },
           "baxis": {
            "gridcolor": "white",
            "linecolor": "white",
            "ticks": ""
           },
           "bgcolor": "#E5ECF6",
           "caxis": {
            "gridcolor": "white",
            "linecolor": "white",
            "ticks": ""
           }
          },
          "title": {
           "x": 0.05
          },
          "xaxis": {
           "automargin": true,
           "gridcolor": "white",
           "linecolor": "white",
           "ticks": "",
           "title": {
            "standoff": 15
           },
           "zerolinecolor": "white",
           "zerolinewidth": 2
          },
          "yaxis": {
           "automargin": true,
           "gridcolor": "white",
           "linecolor": "white",
           "ticks": "",
           "title": {
            "standoff": 15
           },
           "zerolinecolor": "white",
           "zerolinewidth": 2
          }
         }
        },
        "title": {
         "text": "UMAP plot of player agent picks, span=all"
        },
        "width": 900,
        "xaxis": {
         "anchor": "y",
         "domain": [
          0,
          1
         ],
         "title": {
          "text": "Feature 1"
         }
        },
        "yaxis": {
         "anchor": "x",
         "domain": [
          0,
          1
         ],
         "title": {
          "text": "Feature 2"
         }
        }
       }
      }
     },
     "metadata": {},
     "output_type": "display_data"
    }
   ],
   "source": [
    "tsne = UMAP(n_neighbors=20, min_dist=0.7, metric=\"correlation\", random_state=42)\n",
    "# tsne = PCA(n_components=2, random_state=42)\n",
    "# tsne = TSNE(n_components=2, random_state=42)\n",
    "df[\"annotation\"] = df.apply(get_annotation, axis=1)\n",
    "df[\"favorite_agent\"] = df[agent_roles.keys()].idxmax(axis=1)\n",
    "val = df[list(agent_roles.keys())].values\n",
    "X = tsne.fit_transform(val)\n",
    "df[\"x\"] = X[:, 0]\n",
    "df[\"y\"] = X[:, 1]\n",
    "fig = px.scatter(\n",
    "    df,\n",
    "    x=\"x\",\n",
    "    y=\"y\",\n",
    "    hover_name=\"name\",\n",
    "    text=\"name\",\n",
    "    color=\"favorite_agent\",\n",
    "    # symbol=\"region\",\n",
    "    custom_data=[\"annotation\"],\n",
    "    width=900,\n",
    "    height=700,\n",
    ")\n",
    "# fig.update_layout(coloraxis_colorbar=dict(x=1.1))\n",
    "fig.update_layout(\n",
    "    coloraxis_colorbar=dict(x=1.1, title=\"Rating\"),\n",
    "    # legend=dict(orientation=\"h\", yanchor=\"bottom\", y=0, xanchor=\"left\", x=0, title=\"Region\", tracegroupgap=10),\n",
    "    margin=dict(l=10, r=10, b=10, t=30),\n",
    "    title=f\"UMAP plot of player agent picks, span={span}\",\n",
    "    xaxis_title=\"Feature 1\",\n",
    "    yaxis_title=\"Feature 2\",\n",
    ")\n",
    "fig.update_traces(\n",
    "    marker=dict(\n",
    "        size=12,\n",
    "        opacity=0.8,\n",
    "    ),\n",
    "    textposition=\"top center\",\n",
    "    hovertemplate=\"%{customdata}\",\n",
    ")\n",
    "\n",
    "fig.write_html(\"figs/players-{span}.html\")\n",
    "fig.write_image(\"figs/players-{span}.png\", scale=2)\n",
    "\n",
    "fig.show()"
   ]
  },
  {
   "cell_type": "code",
   "execution_count": null,
   "metadata": {},
   "outputs": [],
   "source": []
  },
  {
   "cell_type": "code",
   "execution_count": null,
   "metadata": {},
   "outputs": [],
   "source": []
  },
  {
   "cell_type": "code",
   "execution_count": null,
   "metadata": {},
   "outputs": [],
   "source": []
  }
 ],
 "metadata": {
  "kernelspec": {
   "display_name": "rindti",
   "language": "python",
   "name": "python3"
  },
  "language_info": {
   "codemirror_mode": {
    "name": "ipython",
    "version": 3
   },
   "file_extension": ".py",
   "mimetype": "text/x-python",
   "name": "python",
   "nbconvert_exporter": "python",
   "pygments_lexer": "ipython3",
   "version": "3.8.13"
  },
  "orig_nbformat": 4
 },
 "nbformat": 4,
 "nbformat_minor": 2
}
