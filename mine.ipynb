{
 "cells": [
  {
   "cell_type": "code",
   "execution_count": 1,
   "metadata": {},
   "outputs": [],
   "source": [
    "import requests\n",
    "import pandas as pd\n",
    "from bs4 import BeautifulSoup\n",
    "import re\n",
    "import pickle\n",
    "import numpy as np\n",
    "from valorant import *"
   ]
  },
  {
   "cell_type": "code",
   "execution_count": 2,
   "metadata": {},
   "outputs": [],
   "source": [
    "# download this page -> https://www.vlr.gg/stats/?event_group_id=45&event_id=all&region=all&country=all&min_rounds=200&min_rating=1500&agent=all&map_id=all&timespan=all\n",
    "with open(\"players.html\", \"r\") as f:\n",
    "    with open(\"players.txt\", \"w\") as f2:\n",
    "        for i in re.findall(r'<a href=\"(https://www.vlr.gg/player/\\d+/\\w+)\"', f.read()):\n",
    "            f2.write(i + \"\\n\")"
   ]
  },
  {
   "cell_type": "code",
   "execution_count": 3,
   "metadata": {},
   "outputs": [],
   "source": [
    "def get_player_stats(url: str, timespan: str = \"all\"):\n",
    "    assert timespan in [\"all\", \"90d\", \"60d\", \"30d\"]\n",
    "    response = requests.get(url + \"?timespan=\" + timespan)\n",
    "    response.raise_for_status()\n",
    "    soup = BeautifulSoup(response.content, \"html.parser\")\n",
    "    table = soup.find(\"table\", class_=\"wf-table\")\n",
    "    team = soup.find(\"span\", class_=\"m-item-team-tag\").text.strip()\n",
    "    name = url.split(\"/\")[-1]\n",
    "    columns = []\n",
    "    data = []\n",
    "\n",
    "    # Extract column names\n",
    "    for th in table.find_all(\"th\", title=True):\n",
    "        columns.append(th[\"title\"])\n",
    "\n",
    "    # Extract rows\n",
    "    for row in table.find_all(\"tr\"):\n",
    "        row_data = []\n",
    "        for cell in row.find_all([\"td\", \"img\"]):\n",
    "            if cell.name == \"img\":\n",
    "                row_data.append(cell[\"alt\"])\n",
    "            else:\n",
    "                row_data.append(cell.text.strip())\n",
    "\n",
    "        data.append(row_data)\n",
    "\n",
    "    # Remove the header row from data\n",
    "    data = data[1:]\n",
    "    df = pd.DataFrame(data, columns=[\"\"] + columns)\n",
    "    df[\"Usage count\"] = df[\"Usage\"].apply(lambda x: int(re.findall(r\"\\((\\d+)\\)\", x)[0]))\n",
    "    df[\"Usage perc\"] = df[\"Usage\"].apply(lambda x: float(re.findall(r\"(\\d+)\\%\", x)[0]) / 100)\n",
    "    rating = (df[\"Rating\"].replace(\"\", np.nan).astype(float) * df[\"Usage perc\"]).sum()\n",
    "    return df.set_index(\"Agent\"), team, name, rating\n",
    "\n",
    "\n",
    "def get_player_row(url: str, timespan: str = \"all\") -> list:\n",
    "    player_df, team, name, rating = get_player_stats(url, timespan)\n",
    "    res = [name, team, rating]\n",
    "    for i in agent_roles.keys():\n",
    "        if i in player_df.index:\n",
    "            res.append(player_df.loc[i, \"Usage count\"])\n",
    "        else:\n",
    "            res.append(0)\n",
    "    return res"
   ]
  },
  {
   "cell_type": "code",
   "execution_count": 5,
   "metadata": {},
   "outputs": [],
   "source": [
    "span = \"90d\"  # which timespan to use, can be \"all\", \"90d\", \"60d\", \"30d\"\n",
    "data = {}\n",
    "with open(\"players.txt\", \"r\") as f:\n",
    "    for line in f:\n",
    "        url = line.strip()\n",
    "        try:\n",
    "            stats, team, name, rating = get_player_stats(url, span)\n",
    "            data[url] = {\"stats\": stats, \"team\": team, \"name\": name, \"rating\": rating}\n",
    "        except:\n",
    "            pass\n",
    "with open(f\"data/data-{span}.pkl\", \"wb\") as f:\n",
    "    pickle.dump(data, f)"
   ]
  }
 ],
 "metadata": {
  "kernelspec": {
   "display_name": "rindti",
   "language": "python",
   "name": "python3"
  },
  "language_info": {
   "codemirror_mode": {
    "name": "ipython",
    "version": 3
   },
   "file_extension": ".py",
   "mimetype": "text/x-python",
   "name": "python",
   "nbconvert_exporter": "python",
   "pygments_lexer": "ipython3",
   "version": "3.8.13"
  },
  "orig_nbformat": 4
 },
 "nbformat": 4,
 "nbformat_minor": 2
}
